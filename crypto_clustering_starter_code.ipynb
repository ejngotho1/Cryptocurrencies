{
 "cells": [
  {
   "cell_type": "markdown",
   "metadata": {},
   "source": [
    "# Clustering Crypto"
   ]
  },
  {
   "cell_type": "code",
   "execution_count": 2,
   "metadata": {},
   "outputs": [
    {
     "output_type": "stream",
     "name": "stdout",
     "text": [
      "Requirement already satisfied: hvplot in c:\\users\\edgar\\anaconda3\\envs\\pythondata\\lib\\site-packages (0.7.2)\n",
      "Requirement already satisfied: bokeh>=1.0.0 in c:\\users\\edgar\\anaconda3\\envs\\pythondata\\lib\\site-packages (from hvplot) (2.2.3)\n",
      "Requirement already satisfied: colorcet>=2 in c:\\users\\edgar\\anaconda3\\envs\\pythondata\\lib\\site-packages (from hvplot) (2.0.6)\n",
      "Requirement already satisfied: holoviews>=1.11.0 in c:\\users\\edgar\\anaconda3\\envs\\pythondata\\lib\\site-packages (from hvplot) (1.14.4)\n",
      "Requirement already satisfied: pandas in c:\\users\\edgar\\anaconda3\\envs\\pythondata\\lib\\site-packages (from hvplot) (1.1.3)\n",
      "Requirement already satisfied: numpy>=1.15 in c:\\users\\edgar\\anaconda3\\envs\\pythondata\\lib\\site-packages (from hvplot) (1.17.0)\n",
      "Requirement already satisfied: packaging>=16.8 in c:\\users\\edgar\\anaconda3\\envs\\pythondata\\lib\\site-packages (from bokeh>=1.0.0->hvplot) (20.4)\n",
      "Requirement already satisfied: typing-extensions>=3.7.4 in c:\\users\\edgar\\anaconda3\\envs\\pythondata\\lib\\site-packages (from bokeh>=1.0.0->hvplot) (3.7.4.3)\n",
      "Requirement already satisfied: Jinja2>=2.7 in c:\\users\\edgar\\anaconda3\\envs\\pythondata\\lib\\site-packages (from bokeh>=1.0.0->hvplot) (2.11.2)\n",
      "Requirement already satisfied: pillow>=7.1.0 in c:\\users\\edgar\\anaconda3\\envs\\pythondata\\lib\\site-packages (from bokeh>=1.0.0->hvplot) (8.0.1)\n",
      "Requirement already satisfied: PyYAML>=3.10 in c:\\users\\edgar\\anaconda3\\envs\\pythondata\\lib\\site-packages (from bokeh>=1.0.0->hvplot) (5.3.1)\n",
      "Requirement already satisfied: python-dateutil>=2.1 in c:\\users\\edgar\\anaconda3\\envs\\pythondata\\lib\\site-packages (from bokeh>=1.0.0->hvplot) (2.8.1)\n",
      "Requirement already satisfied: tornado>=5.1 in c:\\users\\edgar\\anaconda3\\envs\\pythondata\\lib\\site-packages (from bokeh>=1.0.0->hvplot) (6.0.4)\n",
      "Requirement already satisfied: param>=1.7.0 in c:\\users\\edgar\\anaconda3\\envs\\pythondata\\lib\\site-packages (from colorcet>=2->hvplot) (1.10.1)\n",
      "Requirement already satisfied: pyct>=0.4.4 in c:\\users\\edgar\\anaconda3\\envs\\pythondata\\lib\\site-packages (from colorcet>=2->hvplot) (0.4.8)\n",
      "Requirement already satisfied: pyviz_comms>=0.7.4 in c:\\users\\edgar\\anaconda3\\envs\\pythondata\\lib\\site-packages (from holoviews>=1.11.0->hvplot) (0.7.6)\n",
      "Requirement already satisfied: panel>=0.8.0 in c:\\users\\edgar\\anaconda3\\envs\\pythondata\\lib\\site-packages (from holoviews>=1.11.0->hvplot) (0.10.3)\n",
      "Requirement already satisfied: MarkupSafe>=0.23 in c:\\users\\edgar\\anaconda3\\envs\\pythondata\\lib\\site-packages (from Jinja2>=2.7->bokeh>=1.0.0->hvplot) (1.1.1)\n",
      "Requirement already satisfied: six in c:\\users\\edgar\\anaconda3\\envs\\pythondata\\lib\\site-packages (from packaging>=16.8->bokeh>=1.0.0->hvplot) (1.15.0)\n",
      "Requirement already satisfied: pyparsing>=2.0.2 in c:\\users\\edgar\\anaconda3\\envs\\pythondata\\lib\\site-packages (from packaging>=16.8->bokeh>=1.0.0->hvplot) (2.4.7)\n",
      "Requirement already satisfied: pytz>=2017.2 in c:\\users\\edgar\\anaconda3\\envs\\pythondata\\lib\\site-packages (from pandas->hvplot) (2020.1)\n",
      "Requirement already satisfied: markdown in c:\\users\\edgar\\anaconda3\\envs\\pythondata\\lib\\site-packages (from panel>=0.8.0->holoviews>=1.11.0->hvplot) (3.3.4)\n",
      "Requirement already satisfied: requests in c:\\users\\edgar\\anaconda3\\envs\\pythondata\\lib\\site-packages (from panel>=0.8.0->holoviews>=1.11.0->hvplot) (2.24.0)\n",
      "Requirement already satisfied: tqdm in c:\\users\\edgar\\anaconda3\\envs\\pythondata\\lib\\site-packages (from panel>=0.8.0->holoviews>=1.11.0->hvplot) (4.50.2)\n",
      "Requirement already satisfied: importlib-metadata in c:\\users\\edgar\\anaconda3\\envs\\pythondata\\lib\\site-packages (from markdown->panel>=0.8.0->holoviews>=1.11.0->hvplot) (2.0.0)\n",
      "Requirement already satisfied: zipp>=0.5 in c:\\users\\edgar\\anaconda3\\envs\\pythondata\\lib\\site-packages (from importlib-metadata->markdown->panel>=0.8.0->holoviews>=1.11.0->hvplot) (3.4.0)\n",
      "Requirement already satisfied: chardet<4,>=3.0.2 in c:\\users\\edgar\\anaconda3\\envs\\pythondata\\lib\\site-packages (from requests->panel>=0.8.0->holoviews>=1.11.0->hvplot) (3.0.4)\n",
      "Requirement already satisfied: idna<3,>=2.5 in c:\\users\\edgar\\anaconda3\\envs\\pythondata\\lib\\site-packages (from requests->panel>=0.8.0->holoviews>=1.11.0->hvplot) (2.10)\n",
      "Requirement already satisfied: certifi>=2017.4.17 in c:\\users\\edgar\\anaconda3\\envs\\pythondata\\lib\\site-packages (from requests->panel>=0.8.0->holoviews>=1.11.0->hvplot) (2020.6.20)\n",
      "Requirement already satisfied: urllib3!=1.25.0,!=1.25.1,<1.26,>=1.21.1 in c:\\users\\edgar\\anaconda3\\envs\\pythondata\\lib\\site-packages (from requests->panel>=0.8.0->holoviews>=1.11.0->hvplot) (1.25.11)\n",
      "WARNING: You are using pip version 21.1.1; however, version 21.1.2 is available.\n",
      "You should consider upgrading via the 'c:\\users\\edgar\\anaconda3\\envs\\pythondata\\python.exe -m pip install --upgrade pip' command.\n"
     ]
    }
   ],
   "source": [
    "!pip install hvplot"
   ]
  },
  {
   "cell_type": "code",
   "execution_count": 3,
   "metadata": {},
   "outputs": [
    {
     "output_type": "stream",
     "name": "stdout",
     "text": [
      "Requirement already satisfied: plotly in c:\\users\\edgar\\anaconda3\\envs\\pythondata\\lib\\site-packages (4.14.3)WARNING: You are using pip version 21.1.1; however, version 21.1.2 is available.\n",
      "You should consider upgrading via the 'c:\\users\\edgar\\anaconda3\\envs\\pythondata\\python.exe -m pip install --upgrade pip' command.\n",
      "\n",
      "Requirement already satisfied: six in c:\\users\\edgar\\anaconda3\\envs\\pythondata\\lib\\site-packages (from plotly) (1.15.0)\n",
      "Requirement already satisfied: retrying>=1.3.3 in c:\\users\\edgar\\anaconda3\\envs\\pythondata\\lib\\site-packages (from plotly) (1.3.3)\n"
     ]
    }
   ],
   "source": [
    "!pip install plotly"
   ]
  },
  {
   "cell_type": "code",
   "execution_count": 4,
   "metadata": {},
   "outputs": [
    {
     "output_type": "stream",
     "name": "stdout",
     "text": [
      "Collecting sklearnWARNING: You are using pip version 21.1.1; however, version 21.1.2 is available.\n",
      "You should consider upgrading via the 'c:\\users\\edgar\\anaconda3\\envs\\pythondata\\python.exe -m pip install --upgrade pip' command.\n",
      "\n",
      "  Downloading sklearn-0.0.tar.gz (1.1 kB)\n",
      "Requirement already satisfied: scikit-learn in c:\\users\\edgar\\anaconda3\\envs\\pythondata\\lib\\site-packages (from sklearn) (0.23.2)\n",
      "Requirement already satisfied: numpy>=1.13.3 in c:\\users\\edgar\\anaconda3\\envs\\pythondata\\lib\\site-packages (from scikit-learn->sklearn) (1.17.0)\n",
      "Requirement already satisfied: scipy>=0.19.1 in c:\\users\\edgar\\anaconda3\\envs\\pythondata\\lib\\site-packages (from scikit-learn->sklearn) (1.5.2)\n",
      "Requirement already satisfied: threadpoolctl>=2.0.0 in c:\\users\\edgar\\anaconda3\\envs\\pythondata\\lib\\site-packages (from scikit-learn->sklearn) (2.1.0)\n",
      "Requirement already satisfied: joblib>=0.11 in c:\\users\\edgar\\anaconda3\\envs\\pythondata\\lib\\site-packages (from scikit-learn->sklearn) (0.17.0)\n",
      "Building wheels for collected packages: sklearn\n",
      "  Building wheel for sklearn (setup.py): started\n",
      "  Building wheel for sklearn (setup.py): finished with status 'done'\n",
      "  Created wheel for sklearn: filename=sklearn-0.0-py2.py3-none-any.whl size=1321 sha256=66048e31e6a6c008c1893870cfdeaebef50cb82645c924abf6ff917365f2615c\n",
      "  Stored in directory: c:\\users\\edgar\\appdata\\local\\pip\\cache\\wheels\\46\\ef\\c3\\157e41f5ee1372d1be90b09f74f82b10e391eaacca8f22d33e\n",
      "Successfully built sklearn\n",
      "Installing collected packages: sklearn\n",
      "Successfully installed sklearn-0.0\n"
     ]
    }
   ],
   "source": [
    "!pip install sklearn"
   ]
  },
  {
   "cell_type": "code",
   "execution_count": 5,
   "metadata": {},
   "outputs": [],
   "source": [
    "# Initial imports\n",
    "import pandas as pd\n",
    "import hvplot.pandas\n",
    "from path import Path\n",
    "import plotly.express as px\n",
    "from sklearn.preprocessing import StandardScaler, MinMaxScaler\n",
    "from sklearn.decomposition import PCA\n",
    "from sklearn.cluster import KMeans\n"
   ]
  },
  {
   "cell_type": "markdown",
   "metadata": {},
   "source": [
    "### Deliverable 1: Preprocessing the Data for PCA"
   ]
  },
  {
   "cell_type": "code",
   "execution_count": 13,
   "metadata": {},
   "outputs": [
    {
     "output_type": "execute_result",
     "data": {
      "text/plain": [
       "       CoinName Algorithm  IsTrading ProofType  TotalCoinsMined  \\\n",
       "42      42 Coin    Scrypt       True   PoW/PoS     4.199995e+01   \n",
       "365     365Coin       X11       True   PoW/PoS              NaN   \n",
       "404     404Coin    Scrypt       True   PoW/PoS     1.055185e+09   \n",
       "611   SixEleven   SHA-256       True       PoW              NaN   \n",
       "808         808   SHA-256       True   PoW/PoS     0.000000e+00   \n",
       "1337  EliteCoin       X13       True   PoW/PoS     2.927942e+10   \n",
       "2015  2015 coin       X11       True   PoW/PoS              NaN   \n",
       "BTC     Bitcoin   SHA-256       True       PoW     1.792718e+07   \n",
       "ETH    Ethereum    Ethash       True       PoW     1.076842e+08   \n",
       "LTC    Litecoin    Scrypt       True       PoW     6.303924e+07   \n",
       "\n",
       "     TotalCoinSupply  \n",
       "42                42  \n",
       "365       2300000000  \n",
       "404        532000000  \n",
       "611           611000  \n",
       "808                0  \n",
       "1337    314159265359  \n",
       "2015               0  \n",
       "BTC         21000000  \n",
       "ETH                0  \n",
       "LTC         84000000  "
      ],
      "text/html": "<div>\n<style scoped>\n    .dataframe tbody tr th:only-of-type {\n        vertical-align: middle;\n    }\n\n    .dataframe tbody tr th {\n        vertical-align: top;\n    }\n\n    .dataframe thead th {\n        text-align: right;\n    }\n</style>\n<table border=\"1\" class=\"dataframe\">\n  <thead>\n    <tr style=\"text-align: right;\">\n      <th></th>\n      <th>CoinName</th>\n      <th>Algorithm</th>\n      <th>IsTrading</th>\n      <th>ProofType</th>\n      <th>TotalCoinsMined</th>\n      <th>TotalCoinSupply</th>\n    </tr>\n  </thead>\n  <tbody>\n    <tr>\n      <th>42</th>\n      <td>42 Coin</td>\n      <td>Scrypt</td>\n      <td>True</td>\n      <td>PoW/PoS</td>\n      <td>4.199995e+01</td>\n      <td>42</td>\n    </tr>\n    <tr>\n      <th>365</th>\n      <td>365Coin</td>\n      <td>X11</td>\n      <td>True</td>\n      <td>PoW/PoS</td>\n      <td>NaN</td>\n      <td>2300000000</td>\n    </tr>\n    <tr>\n      <th>404</th>\n      <td>404Coin</td>\n      <td>Scrypt</td>\n      <td>True</td>\n      <td>PoW/PoS</td>\n      <td>1.055185e+09</td>\n      <td>532000000</td>\n    </tr>\n    <tr>\n      <th>611</th>\n      <td>SixEleven</td>\n      <td>SHA-256</td>\n      <td>True</td>\n      <td>PoW</td>\n      <td>NaN</td>\n      <td>611000</td>\n    </tr>\n    <tr>\n      <th>808</th>\n      <td>808</td>\n      <td>SHA-256</td>\n      <td>True</td>\n      <td>PoW/PoS</td>\n      <td>0.000000e+00</td>\n      <td>0</td>\n    </tr>\n    <tr>\n      <th>1337</th>\n      <td>EliteCoin</td>\n      <td>X13</td>\n      <td>True</td>\n      <td>PoW/PoS</td>\n      <td>2.927942e+10</td>\n      <td>314159265359</td>\n    </tr>\n    <tr>\n      <th>2015</th>\n      <td>2015 coin</td>\n      <td>X11</td>\n      <td>True</td>\n      <td>PoW/PoS</td>\n      <td>NaN</td>\n      <td>0</td>\n    </tr>\n    <tr>\n      <th>BTC</th>\n      <td>Bitcoin</td>\n      <td>SHA-256</td>\n      <td>True</td>\n      <td>PoW</td>\n      <td>1.792718e+07</td>\n      <td>21000000</td>\n    </tr>\n    <tr>\n      <th>ETH</th>\n      <td>Ethereum</td>\n      <td>Ethash</td>\n      <td>True</td>\n      <td>PoW</td>\n      <td>1.076842e+08</td>\n      <td>0</td>\n    </tr>\n    <tr>\n      <th>LTC</th>\n      <td>Litecoin</td>\n      <td>Scrypt</td>\n      <td>True</td>\n      <td>PoW</td>\n      <td>6.303924e+07</td>\n      <td>84000000</td>\n    </tr>\n  </tbody>\n</table>\n</div>"
     },
     "metadata": {},
     "execution_count": 13
    }
   ],
   "source": [
    "# Load the crypto_data.csv dataset.\n",
    "file_path = (\"crypto_data.csv\")\n",
    "crypto_df = pd.read_csv(file_path, index_col=0)\n",
    "crypto_df.head(10)"
   ]
  },
  {
   "cell_type": "code",
   "execution_count": 14,
   "metadata": {},
   "outputs": [
    {
     "output_type": "execute_result",
     "data": {
      "text/plain": [
       "      CoinName Algorithm  IsTrading ProofType  TotalCoinsMined TotalCoinSupply\n",
       "42     42 Coin    Scrypt       True   PoW/PoS     4.199995e+01              42\n",
       "365    365Coin       X11       True   PoW/PoS              NaN      2300000000\n",
       "404    404Coin    Scrypt       True   PoW/PoS     1.055185e+09       532000000\n",
       "611  SixEleven   SHA-256       True       PoW              NaN          611000\n",
       "808        808   SHA-256       True   PoW/PoS     0.000000e+00               0"
      ],
      "text/html": "<div>\n<style scoped>\n    .dataframe tbody tr th:only-of-type {\n        vertical-align: middle;\n    }\n\n    .dataframe tbody tr th {\n        vertical-align: top;\n    }\n\n    .dataframe thead th {\n        text-align: right;\n    }\n</style>\n<table border=\"1\" class=\"dataframe\">\n  <thead>\n    <tr style=\"text-align: right;\">\n      <th></th>\n      <th>CoinName</th>\n      <th>Algorithm</th>\n      <th>IsTrading</th>\n      <th>ProofType</th>\n      <th>TotalCoinsMined</th>\n      <th>TotalCoinSupply</th>\n    </tr>\n  </thead>\n  <tbody>\n    <tr>\n      <th>42</th>\n      <td>42 Coin</td>\n      <td>Scrypt</td>\n      <td>True</td>\n      <td>PoW/PoS</td>\n      <td>4.199995e+01</td>\n      <td>42</td>\n    </tr>\n    <tr>\n      <th>365</th>\n      <td>365Coin</td>\n      <td>X11</td>\n      <td>True</td>\n      <td>PoW/PoS</td>\n      <td>NaN</td>\n      <td>2300000000</td>\n    </tr>\n    <tr>\n      <th>404</th>\n      <td>404Coin</td>\n      <td>Scrypt</td>\n      <td>True</td>\n      <td>PoW/PoS</td>\n      <td>1.055185e+09</td>\n      <td>532000000</td>\n    </tr>\n    <tr>\n      <th>611</th>\n      <td>SixEleven</td>\n      <td>SHA-256</td>\n      <td>True</td>\n      <td>PoW</td>\n      <td>NaN</td>\n      <td>611000</td>\n    </tr>\n    <tr>\n      <th>808</th>\n      <td>808</td>\n      <td>SHA-256</td>\n      <td>True</td>\n      <td>PoW/PoS</td>\n      <td>0.000000e+00</td>\n      <td>0</td>\n    </tr>\n  </tbody>\n</table>\n</div>"
     },
     "metadata": {},
     "execution_count": 14
    }
   ],
   "source": [
    "# Keep all the cryptocurrencies that are being traded.\n",
    "crypto_df1 = crypto_df.loc[df['IsTrading'] == True]\n",
    "crypto_df1.head()"
   ]
  },
  {
   "cell_type": "code",
   "execution_count": 15,
   "metadata": {},
   "outputs": [
    {
     "output_type": "execute_result",
     "data": {
      "text/plain": [
       "       CoinName               Algorithm  IsTrading ProofType  TotalCoinsMined  \\\n",
       "AQUA  Aquachain                  Argon2       True       PoW     0.000000e+00   \n",
       "OPES       Opes                  Argon2       True       PoW              NaN   \n",
       "BOAT   Doubloon                     536       True   PoW/PoS              NaN   \n",
       "ESP      Espers                     536       True   PoW/PoS     2.280188e+10   \n",
       "HODL   HOdlcoin  1GB AES Pattern Search       True       PoW     1.144895e+07   \n",
       "\n",
       "     TotalCoinSupply  \n",
       "AQUA        42000000  \n",
       "OPES        52000000  \n",
       "BOAT       500000000  \n",
       "ESP      50000000000  \n",
       "HODL        81962100  "
      ],
      "text/html": "<div>\n<style scoped>\n    .dataframe tbody tr th:only-of-type {\n        vertical-align: middle;\n    }\n\n    .dataframe tbody tr th {\n        vertical-align: top;\n    }\n\n    .dataframe thead th {\n        text-align: right;\n    }\n</style>\n<table border=\"1\" class=\"dataframe\">\n  <thead>\n    <tr style=\"text-align: right;\">\n      <th></th>\n      <th>CoinName</th>\n      <th>Algorithm</th>\n      <th>IsTrading</th>\n      <th>ProofType</th>\n      <th>TotalCoinsMined</th>\n      <th>TotalCoinSupply</th>\n    </tr>\n  </thead>\n  <tbody>\n    <tr>\n      <th>AQUA</th>\n      <td>Aquachain</td>\n      <td>Argon2</td>\n      <td>True</td>\n      <td>PoW</td>\n      <td>0.000000e+00</td>\n      <td>42000000</td>\n    </tr>\n    <tr>\n      <th>OPES</th>\n      <td>Opes</td>\n      <td>Argon2</td>\n      <td>True</td>\n      <td>PoW</td>\n      <td>NaN</td>\n      <td>52000000</td>\n    </tr>\n    <tr>\n      <th>BOAT</th>\n      <td>Doubloon</td>\n      <td>536</td>\n      <td>True</td>\n      <td>PoW/PoS</td>\n      <td>NaN</td>\n      <td>500000000</td>\n    </tr>\n    <tr>\n      <th>ESP</th>\n      <td>Espers</td>\n      <td>536</td>\n      <td>True</td>\n      <td>PoW/PoS</td>\n      <td>2.280188e+10</td>\n      <td>50000000000</td>\n    </tr>\n    <tr>\n      <th>HODL</th>\n      <td>HOdlcoin</td>\n      <td>1GB AES Pattern Search</td>\n      <td>True</td>\n      <td>PoW</td>\n      <td>1.144895e+07</td>\n      <td>81962100</td>\n    </tr>\n  </tbody>\n</table>\n</div>"
     },
     "metadata": {},
     "execution_count": 15
    }
   ],
   "source": [
    "# Keep all the cryptocurrencies that have a working algorithm.\n",
    "crypto_df2 = crypto_df1.sort_values(by='Algorithm', ascending=False)\n",
    "crypto_df2.tail()"
   ]
  },
  {
   "cell_type": "code",
   "execution_count": 20,
   "metadata": {},
   "outputs": [
    {
     "output_type": "stream",
     "name": "stdout",
     "text": [
      "<class 'pandas.core.frame.DataFrame'>\nIndex: 1144 entries, 42 to XBC\nData columns (total 6 columns):\n #   Column           Non-Null Count  Dtype  \n---  ------           --------------  -----  \n 0   CoinName         1144 non-null   object \n 1   Algorithm        1144 non-null   object \n 2   IsTrading        1144 non-null   bool   \n 3   ProofType        1144 non-null   object \n 4   TotalCoinsMined  685 non-null    float64\n 5   TotalCoinSupply  1144 non-null   object \ndtypes: bool(1), float64(1), object(4)\nmemory usage: 54.7+ KB\n"
     ]
    }
   ],
   "source": [
    "\n",
    "# Keep all the cryptocurrencies that have a working algorithm on separate df\n",
    "crypto_df3 = crypto_df1.dropna(axis=0, subset=['Algorithm'])\n",
    "crypto_df3.info()\n"
   ]
  },
  {
   "cell_type": "code",
   "execution_count": 21,
   "metadata": {},
   "outputs": [
    {
     "output_type": "execute_result",
     "data": {
      "text/plain": [
       "      CoinName Algorithm ProofType  TotalCoinsMined TotalCoinSupply\n",
       "42     42 Coin    Scrypt   PoW/PoS     4.199995e+01              42\n",
       "365    365Coin       X11   PoW/PoS              NaN      2300000000\n",
       "404    404Coin    Scrypt   PoW/PoS     1.055185e+09       532000000\n",
       "611  SixEleven   SHA-256       PoW              NaN          611000\n",
       "808        808   SHA-256   PoW/PoS     0.000000e+00               0"
      ],
      "text/html": "<div>\n<style scoped>\n    .dataframe tbody tr th:only-of-type {\n        vertical-align: middle;\n    }\n\n    .dataframe tbody tr th {\n        vertical-align: top;\n    }\n\n    .dataframe thead th {\n        text-align: right;\n    }\n</style>\n<table border=\"1\" class=\"dataframe\">\n  <thead>\n    <tr style=\"text-align: right;\">\n      <th></th>\n      <th>CoinName</th>\n      <th>Algorithm</th>\n      <th>ProofType</th>\n      <th>TotalCoinsMined</th>\n      <th>TotalCoinSupply</th>\n    </tr>\n  </thead>\n  <tbody>\n    <tr>\n      <th>42</th>\n      <td>42 Coin</td>\n      <td>Scrypt</td>\n      <td>PoW/PoS</td>\n      <td>4.199995e+01</td>\n      <td>42</td>\n    </tr>\n    <tr>\n      <th>365</th>\n      <td>365Coin</td>\n      <td>X11</td>\n      <td>PoW/PoS</td>\n      <td>NaN</td>\n      <td>2300000000</td>\n    </tr>\n    <tr>\n      <th>404</th>\n      <td>404Coin</td>\n      <td>Scrypt</td>\n      <td>PoW/PoS</td>\n      <td>1.055185e+09</td>\n      <td>532000000</td>\n    </tr>\n    <tr>\n      <th>611</th>\n      <td>SixEleven</td>\n      <td>SHA-256</td>\n      <td>PoW</td>\n      <td>NaN</td>\n      <td>611000</td>\n    </tr>\n    <tr>\n      <th>808</th>\n      <td>808</td>\n      <td>SHA-256</td>\n      <td>PoW/PoS</td>\n      <td>0.000000e+00</td>\n      <td>0</td>\n    </tr>\n  </tbody>\n</table>\n</div>"
     },
     "metadata": {},
     "execution_count": 21
    }
   ],
   "source": [
    "# Remove the \"IsTrading\" column. \n",
    "crypto_df4 = crypto_df3.drop(['IsTrading'], axis=1)\n",
    "crypto_df4.head()"
   ]
  },
  {
   "cell_type": "code",
   "execution_count": 22,
   "metadata": {},
   "outputs": [
    {
     "output_type": "execute_result",
     "data": {
      "text/plain": [
       "       CoinName Algorithm ProofType  TotalCoinsMined TotalCoinSupply\n",
       "42      42 Coin    Scrypt   PoW/PoS     4.199995e+01              42\n",
       "404     404Coin    Scrypt   PoW/PoS     1.055185e+09       532000000\n",
       "808         808   SHA-256   PoW/PoS     0.000000e+00               0\n",
       "1337  EliteCoin       X13   PoW/PoS     2.927942e+10    314159265359\n",
       "BTC     Bitcoin   SHA-256       PoW     1.792718e+07        21000000"
      ],
      "text/html": "<div>\n<style scoped>\n    .dataframe tbody tr th:only-of-type {\n        vertical-align: middle;\n    }\n\n    .dataframe tbody tr th {\n        vertical-align: top;\n    }\n\n    .dataframe thead th {\n        text-align: right;\n    }\n</style>\n<table border=\"1\" class=\"dataframe\">\n  <thead>\n    <tr style=\"text-align: right;\">\n      <th></th>\n      <th>CoinName</th>\n      <th>Algorithm</th>\n      <th>ProofType</th>\n      <th>TotalCoinsMined</th>\n      <th>TotalCoinSupply</th>\n    </tr>\n  </thead>\n  <tbody>\n    <tr>\n      <th>42</th>\n      <td>42 Coin</td>\n      <td>Scrypt</td>\n      <td>PoW/PoS</td>\n      <td>4.199995e+01</td>\n      <td>42</td>\n    </tr>\n    <tr>\n      <th>404</th>\n      <td>404Coin</td>\n      <td>Scrypt</td>\n      <td>PoW/PoS</td>\n      <td>1.055185e+09</td>\n      <td>532000000</td>\n    </tr>\n    <tr>\n      <th>808</th>\n      <td>808</td>\n      <td>SHA-256</td>\n      <td>PoW/PoS</td>\n      <td>0.000000e+00</td>\n      <td>0</td>\n    </tr>\n    <tr>\n      <th>1337</th>\n      <td>EliteCoin</td>\n      <td>X13</td>\n      <td>PoW/PoS</td>\n      <td>2.927942e+10</td>\n      <td>314159265359</td>\n    </tr>\n    <tr>\n      <th>BTC</th>\n      <td>Bitcoin</td>\n      <td>SHA-256</td>\n      <td>PoW</td>\n      <td>1.792718e+07</td>\n      <td>21000000</td>\n    </tr>\n  </tbody>\n</table>\n</div>"
     },
     "metadata": {},
     "execution_count": 22
    }
   ],
   "source": [
    "# Remove rows that have at least 1 null value.\n",
    "crypto_df5 = crypto_df4.dropna()\n",
    "crypto_df5.head()"
   ]
  },
  {
   "cell_type": "code",
   "execution_count": 23,
   "metadata": {},
   "outputs": [
    {
     "output_type": "execute_result",
     "data": {
      "text/plain": [
       "       CoinName Algorithm ProofType  TotalCoinsMined TotalCoinSupply\n",
       "42      42 Coin    Scrypt   PoW/PoS     4.199995e+01              42\n",
       "404     404Coin    Scrypt   PoW/PoS     1.055185e+09       532000000\n",
       "1337  EliteCoin       X13   PoW/PoS     2.927942e+10    314159265359\n",
       "BTC     Bitcoin   SHA-256       PoW     1.792718e+07        21000000\n",
       "ETH    Ethereum    Ethash       PoW     1.076842e+08               0"
      ],
      "text/html": "<div>\n<style scoped>\n    .dataframe tbody tr th:only-of-type {\n        vertical-align: middle;\n    }\n\n    .dataframe tbody tr th {\n        vertical-align: top;\n    }\n\n    .dataframe thead th {\n        text-align: right;\n    }\n</style>\n<table border=\"1\" class=\"dataframe\">\n  <thead>\n    <tr style=\"text-align: right;\">\n      <th></th>\n      <th>CoinName</th>\n      <th>Algorithm</th>\n      <th>ProofType</th>\n      <th>TotalCoinsMined</th>\n      <th>TotalCoinSupply</th>\n    </tr>\n  </thead>\n  <tbody>\n    <tr>\n      <th>42</th>\n      <td>42 Coin</td>\n      <td>Scrypt</td>\n      <td>PoW/PoS</td>\n      <td>4.199995e+01</td>\n      <td>42</td>\n    </tr>\n    <tr>\n      <th>404</th>\n      <td>404Coin</td>\n      <td>Scrypt</td>\n      <td>PoW/PoS</td>\n      <td>1.055185e+09</td>\n      <td>532000000</td>\n    </tr>\n    <tr>\n      <th>1337</th>\n      <td>EliteCoin</td>\n      <td>X13</td>\n      <td>PoW/PoS</td>\n      <td>2.927942e+10</td>\n      <td>314159265359</td>\n    </tr>\n    <tr>\n      <th>BTC</th>\n      <td>Bitcoin</td>\n      <td>SHA-256</td>\n      <td>PoW</td>\n      <td>1.792718e+07</td>\n      <td>21000000</td>\n    </tr>\n    <tr>\n      <th>ETH</th>\n      <td>Ethereum</td>\n      <td>Ethash</td>\n      <td>PoW</td>\n      <td>1.076842e+08</td>\n      <td>0</td>\n    </tr>\n  </tbody>\n</table>\n</div>"
     },
     "metadata": {},
     "execution_count": 23
    }
   ],
   "source": [
    "# Keep the rows where coins are mined.\n",
    "crypto_df6 = crypto_df5.loc[df4['TotalCoinsMined'] > 0]\n",
    "crypto_df6.head()"
   ]
  },
  {
   "cell_type": "code",
   "execution_count": 25,
   "metadata": {},
   "outputs": [
    {
     "output_type": "execute_result",
     "data": {
      "text/plain": [
       "       CoinName\n",
       "42      42 Coin\n",
       "404     404Coin\n",
       "1337  EliteCoin\n",
       "BTC     Bitcoin\n",
       "ETH    Ethereum"
      ],
      "text/html": "<div>\n<style scoped>\n    .dataframe tbody tr th:only-of-type {\n        vertical-align: middle;\n    }\n\n    .dataframe tbody tr th {\n        vertical-align: top;\n    }\n\n    .dataframe thead th {\n        text-align: right;\n    }\n</style>\n<table border=\"1\" class=\"dataframe\">\n  <thead>\n    <tr style=\"text-align: right;\">\n      <th></th>\n      <th>CoinName</th>\n    </tr>\n  </thead>\n  <tbody>\n    <tr>\n      <th>42</th>\n      <td>42 Coin</td>\n    </tr>\n    <tr>\n      <th>404</th>\n      <td>404Coin</td>\n    </tr>\n    <tr>\n      <th>1337</th>\n      <td>EliteCoin</td>\n    </tr>\n    <tr>\n      <th>BTC</th>\n      <td>Bitcoin</td>\n    </tr>\n    <tr>\n      <th>ETH</th>\n      <td>Ethereum</td>\n    </tr>\n  </tbody>\n</table>\n</div>"
     },
     "metadata": {},
     "execution_count": 25
    }
   ],
   "source": [
    "# Create a new DataFrame that holds only the cryptocurrencies names.\n",
    "cc_names_df = crypto_df6[[\"CoinName\"]]\n",
    "cc_names_df.head()"
   ]
  },
  {
   "cell_type": "code",
   "execution_count": 26,
   "metadata": {},
   "outputs": [
    {
     "output_type": "execute_result",
     "data": {
      "text/plain": [
       "     Algorithm ProofType  TotalCoinsMined TotalCoinSupply\n",
       "42      Scrypt   PoW/PoS     4.199995e+01              42\n",
       "404     Scrypt   PoW/PoS     1.055185e+09       532000000\n",
       "1337       X13   PoW/PoS     2.927942e+10    314159265359\n",
       "BTC    SHA-256       PoW     1.792718e+07        21000000\n",
       "ETH     Ethash       PoW     1.076842e+08               0"
      ],
      "text/html": "<div>\n<style scoped>\n    .dataframe tbody tr th:only-of-type {\n        vertical-align: middle;\n    }\n\n    .dataframe tbody tr th {\n        vertical-align: top;\n    }\n\n    .dataframe thead th {\n        text-align: right;\n    }\n</style>\n<table border=\"1\" class=\"dataframe\">\n  <thead>\n    <tr style=\"text-align: right;\">\n      <th></th>\n      <th>Algorithm</th>\n      <th>ProofType</th>\n      <th>TotalCoinsMined</th>\n      <th>TotalCoinSupply</th>\n    </tr>\n  </thead>\n  <tbody>\n    <tr>\n      <th>42</th>\n      <td>Scrypt</td>\n      <td>PoW/PoS</td>\n      <td>4.199995e+01</td>\n      <td>42</td>\n    </tr>\n    <tr>\n      <th>404</th>\n      <td>Scrypt</td>\n      <td>PoW/PoS</td>\n      <td>1.055185e+09</td>\n      <td>532000000</td>\n    </tr>\n    <tr>\n      <th>1337</th>\n      <td>X13</td>\n      <td>PoW/PoS</td>\n      <td>2.927942e+10</td>\n      <td>314159265359</td>\n    </tr>\n    <tr>\n      <th>BTC</th>\n      <td>SHA-256</td>\n      <td>PoW</td>\n      <td>1.792718e+07</td>\n      <td>21000000</td>\n    </tr>\n    <tr>\n      <th>ETH</th>\n      <td>Ethash</td>\n      <td>PoW</td>\n      <td>1.076842e+08</td>\n      <td>0</td>\n    </tr>\n  </tbody>\n</table>\n</div>"
     },
     "metadata": {},
     "execution_count": 26
    }
   ],
   "source": [
    "# Drop the 'CoinName' column since it's not going to be used on the clustering algorithm.\n",
    "crypto_df = crypto_df6.drop(['CoinName'], axis=1)\n",
    "crypto_df.head()"
   ]
  },
  {
   "cell_type": "code",
   "execution_count": 27,
   "metadata": {},
   "outputs": [
    {
     "output_type": "execute_result",
     "data": {
      "text/plain": [
       "      TotalCoinsMined TotalCoinSupply  Algorithm_1GB AES Pattern Search  \\\n",
       "42       4.199995e+01              42                                 0   \n",
       "404      1.055185e+09       532000000                                 0   \n",
       "1337     2.927942e+10    314159265359                                 0   \n",
       "BTC      1.792718e+07        21000000                                 0   \n",
       "ETH      1.076842e+08               0                                 0   \n",
       "\n",
       "      Algorithm_536  Algorithm_Argon2d  Algorithm_BLAKE256  Algorithm_Blake  \\\n",
       "42                0                  0                   0                0   \n",
       "404               0                  0                   0                0   \n",
       "1337              0                  0                   0                0   \n",
       "BTC               0                  0                   0                0   \n",
       "ETH               0                  0                   0                0   \n",
       "\n",
       "      Algorithm_Blake2S  Algorithm_Blake2b  Algorithm_C11  ...  \\\n",
       "42                    0                  0              0  ...   \n",
       "404                   0                  0              0  ...   \n",
       "1337                  0                  0              0  ...   \n",
       "BTC                   0                  0              0  ...   \n",
       "ETH                   0                  0              0  ...   \n",
       "\n",
       "      ProofType_PoW/PoS  ProofType_PoW/PoS   ProofType_PoW/PoW  \\\n",
       "42                    1                   0                  0   \n",
       "404                   1                   0                  0   \n",
       "1337                  1                   0                  0   \n",
       "BTC                   0                   0                  0   \n",
       "ETH                   0                   0                  0   \n",
       "\n",
       "      ProofType_PoW/nPoS  ProofType_Pos  ProofType_Proof of Authority  \\\n",
       "42                     0              0                             0   \n",
       "404                    0              0                             0   \n",
       "1337                   0              0                             0   \n",
       "BTC                    0              0                             0   \n",
       "ETH                    0              0                             0   \n",
       "\n",
       "      ProofType_Proof of Trust  ProofType_TPoS  \\\n",
       "42                           0               0   \n",
       "404                          0               0   \n",
       "1337                         0               0   \n",
       "BTC                          0               0   \n",
       "ETH                          0               0   \n",
       "\n",
       "      ProofType_Zero-Knowledge Proof  ProofType_dPoW/PoW  \n",
       "42                                 0                   0  \n",
       "404                                0                   0  \n",
       "1337                               0                   0  \n",
       "BTC                                0                   0  \n",
       "ETH                                0                   0  \n",
       "\n",
       "[5 rows x 98 columns]"
      ],
      "text/html": "<div>\n<style scoped>\n    .dataframe tbody tr th:only-of-type {\n        vertical-align: middle;\n    }\n\n    .dataframe tbody tr th {\n        vertical-align: top;\n    }\n\n    .dataframe thead th {\n        text-align: right;\n    }\n</style>\n<table border=\"1\" class=\"dataframe\">\n  <thead>\n    <tr style=\"text-align: right;\">\n      <th></th>\n      <th>TotalCoinsMined</th>\n      <th>TotalCoinSupply</th>\n      <th>Algorithm_1GB AES Pattern Search</th>\n      <th>Algorithm_536</th>\n      <th>Algorithm_Argon2d</th>\n      <th>Algorithm_BLAKE256</th>\n      <th>Algorithm_Blake</th>\n      <th>Algorithm_Blake2S</th>\n      <th>Algorithm_Blake2b</th>\n      <th>Algorithm_C11</th>\n      <th>...</th>\n      <th>ProofType_PoW/PoS</th>\n      <th>ProofType_PoW/PoS</th>\n      <th>ProofType_PoW/PoW</th>\n      <th>ProofType_PoW/nPoS</th>\n      <th>ProofType_Pos</th>\n      <th>ProofType_Proof of Authority</th>\n      <th>ProofType_Proof of Trust</th>\n      <th>ProofType_TPoS</th>\n      <th>ProofType_Zero-Knowledge Proof</th>\n      <th>ProofType_dPoW/PoW</th>\n    </tr>\n  </thead>\n  <tbody>\n    <tr>\n      <th>42</th>\n      <td>4.199995e+01</td>\n      <td>42</td>\n      <td>0</td>\n      <td>0</td>\n      <td>0</td>\n      <td>0</td>\n      <td>0</td>\n      <td>0</td>\n      <td>0</td>\n      <td>0</td>\n      <td>...</td>\n      <td>1</td>\n      <td>0</td>\n      <td>0</td>\n      <td>0</td>\n      <td>0</td>\n      <td>0</td>\n      <td>0</td>\n      <td>0</td>\n      <td>0</td>\n      <td>0</td>\n    </tr>\n    <tr>\n      <th>404</th>\n      <td>1.055185e+09</td>\n      <td>532000000</td>\n      <td>0</td>\n      <td>0</td>\n      <td>0</td>\n      <td>0</td>\n      <td>0</td>\n      <td>0</td>\n      <td>0</td>\n      <td>0</td>\n      <td>...</td>\n      <td>1</td>\n      <td>0</td>\n      <td>0</td>\n      <td>0</td>\n      <td>0</td>\n      <td>0</td>\n      <td>0</td>\n      <td>0</td>\n      <td>0</td>\n      <td>0</td>\n    </tr>\n    <tr>\n      <th>1337</th>\n      <td>2.927942e+10</td>\n      <td>314159265359</td>\n      <td>0</td>\n      <td>0</td>\n      <td>0</td>\n      <td>0</td>\n      <td>0</td>\n      <td>0</td>\n      <td>0</td>\n      <td>0</td>\n      <td>...</td>\n      <td>1</td>\n      <td>0</td>\n      <td>0</td>\n      <td>0</td>\n      <td>0</td>\n      <td>0</td>\n      <td>0</td>\n      <td>0</td>\n      <td>0</td>\n      <td>0</td>\n    </tr>\n    <tr>\n      <th>BTC</th>\n      <td>1.792718e+07</td>\n      <td>21000000</td>\n      <td>0</td>\n      <td>0</td>\n      <td>0</td>\n      <td>0</td>\n      <td>0</td>\n      <td>0</td>\n      <td>0</td>\n      <td>0</td>\n      <td>...</td>\n      <td>0</td>\n      <td>0</td>\n      <td>0</td>\n      <td>0</td>\n      <td>0</td>\n      <td>0</td>\n      <td>0</td>\n      <td>0</td>\n      <td>0</td>\n      <td>0</td>\n    </tr>\n    <tr>\n      <th>ETH</th>\n      <td>1.076842e+08</td>\n      <td>0</td>\n      <td>0</td>\n      <td>0</td>\n      <td>0</td>\n      <td>0</td>\n      <td>0</td>\n      <td>0</td>\n      <td>0</td>\n      <td>0</td>\n      <td>...</td>\n      <td>0</td>\n      <td>0</td>\n      <td>0</td>\n      <td>0</td>\n      <td>0</td>\n      <td>0</td>\n      <td>0</td>\n      <td>0</td>\n      <td>0</td>\n      <td>0</td>\n    </tr>\n  </tbody>\n</table>\n<p>5 rows × 98 columns</p>\n</div>"
     },
     "metadata": {},
     "execution_count": 27
    }
   ],
   "source": [
    "# Use get_dummies() to create variables for text features.\n",
    "X = pd.get_dummies(crypto_df, columns=['Algorithm', 'ProofType'])\n",
    "X.head()"
   ]
  },
  {
   "cell_type": "code",
   "execution_count": 28,
   "metadata": {},
   "outputs": [
    {
     "output_type": "stream",
     "name": "stdout",
     "text": [
      "[[-0.11710817 -0.1528703  -0.0433963  -0.0433963  -0.0433963  -0.06142951\n  -0.07530656 -0.0433963  -0.06142951 -0.06142951 -0.0433963  -0.0433963\n  -0.19245009 -0.06142951 -0.09740465 -0.0433963  -0.11547005 -0.07530656\n  -0.0433963  -0.0433963  -0.15191091 -0.0433963  -0.13118084 -0.0433963\n  -0.0433963  -0.08703883 -0.0433963  -0.0433963  -0.0433963  -0.0433963\n  -0.06142951 -0.0433963  -0.08703883 -0.08703883 -0.08703883 -0.0433963\n  -0.13118084 -0.13840913 -0.13840913 -0.0433963  -0.06142951 -0.0433963\n  -0.07530656 -0.18168574 -0.0433963  -0.0433963  -0.0433963  -0.07530656\n  -0.15826614 -0.31491833 -0.0433963  -0.08703883 -0.07530656 -0.06142951\n   1.38675049 -0.0433963  -0.0433963  -0.06142951 -0.0433963  -0.0433963\n  -0.0433963  -0.0433963  -0.0433963  -0.0433963  -0.0433963  -0.0433963\n  -0.39879994 -0.0433963  -0.18168574 -0.0433963  -0.08703883 -0.08703883\n  -0.10680283 -0.0433963  -0.13118084 -0.0433963  -0.0433963  -0.0433963\n  -0.0433963  -0.07530656 -0.43911856 -0.0433963  -0.06142951 -0.0433963\n  -0.0433963  -0.89632016 -0.0433963  -0.0433963   1.42222617 -0.0433963\n  -0.0433963  -0.0433963  -0.0433963  -0.0433963  -0.0433963  -0.0433963\n  -0.0433963  -0.0433963 ]\n [-0.09396955 -0.145009   -0.0433963  -0.0433963  -0.0433963  -0.06142951\n  -0.07530656 -0.0433963  -0.06142951 -0.06142951 -0.0433963  -0.0433963\n  -0.19245009 -0.06142951 -0.09740465 -0.0433963  -0.11547005 -0.07530656\n  -0.0433963  -0.0433963  -0.15191091 -0.0433963  -0.13118084 -0.0433963\n  -0.0433963  -0.08703883 -0.0433963  -0.0433963  -0.0433963  -0.0433963\n  -0.06142951 -0.0433963  -0.08703883 -0.08703883 -0.08703883 -0.0433963\n  -0.13118084 -0.13840913 -0.13840913 -0.0433963  -0.06142951 -0.0433963\n  -0.07530656 -0.18168574 -0.0433963  -0.0433963  -0.0433963  -0.07530656\n  -0.15826614 -0.31491833 -0.0433963  -0.08703883 -0.07530656 -0.06142951\n   1.38675049 -0.0433963  -0.0433963  -0.06142951 -0.0433963  -0.0433963\n  -0.0433963  -0.0433963  -0.0433963  -0.0433963  -0.0433963  -0.0433963\n  -0.39879994 -0.0433963  -0.18168574 -0.0433963  -0.08703883 -0.08703883\n  -0.10680283 -0.0433963  -0.13118084 -0.0433963  -0.0433963  -0.0433963\n  -0.0433963  -0.07530656 -0.43911856 -0.0433963  -0.06142951 -0.0433963\n  -0.0433963  -0.89632016 -0.0433963  -0.0433963   1.42222617 -0.0433963\n  -0.0433963  -0.0433963  -0.0433963  -0.0433963  -0.0433963  -0.0433963\n  -0.0433963  -0.0433963 ]\n [ 0.52494561  4.48942416 -0.0433963  -0.0433963  -0.0433963  -0.06142951\n  -0.07530656 -0.0433963  -0.06142951 -0.06142951 -0.0433963  -0.0433963\n  -0.19245009 -0.06142951 -0.09740465 -0.0433963  -0.11547005 -0.07530656\n  -0.0433963  -0.0433963  -0.15191091 -0.0433963  -0.13118084 -0.0433963\n  -0.0433963  -0.08703883 -0.0433963  -0.0433963  -0.0433963  -0.0433963\n  -0.06142951 -0.0433963  -0.08703883 -0.08703883 -0.08703883 -0.0433963\n  -0.13118084 -0.13840913 -0.13840913 -0.0433963  -0.06142951 -0.0433963\n  -0.07530656 -0.18168574 -0.0433963  -0.0433963  -0.0433963  -0.07530656\n  -0.15826614 -0.31491833 -0.0433963  -0.08703883 -0.07530656 -0.06142951\n  -0.72111026 -0.0433963  -0.0433963  -0.06142951 -0.0433963  -0.0433963\n  -0.0433963  -0.0433963  -0.0433963  -0.0433963  -0.0433963  -0.0433963\n  -0.39879994 -0.0433963   5.50400923 -0.0433963  -0.08703883 -0.08703883\n  -0.10680283 -0.0433963  -0.13118084 -0.0433963  -0.0433963  -0.0433963\n  -0.0433963  -0.07530656 -0.43911856 -0.0433963  -0.06142951 -0.0433963\n  -0.0433963  -0.89632016 -0.0433963  -0.0433963   1.42222617 -0.0433963\n  -0.0433963  -0.0433963  -0.0433963  -0.0433963  -0.0433963  -0.0433963\n  -0.0433963  -0.0433963 ]\n [-0.11671506 -0.15255998 -0.0433963  -0.0433963  -0.0433963  -0.06142951\n  -0.07530656 -0.0433963  -0.06142951 -0.06142951 -0.0433963  -0.0433963\n  -0.19245009 -0.06142951 -0.09740465 -0.0433963  -0.11547005 -0.07530656\n  -0.0433963  -0.0433963  -0.15191091 -0.0433963  -0.13118084 -0.0433963\n  -0.0433963  -0.08703883 -0.0433963  -0.0433963  -0.0433963  -0.0433963\n  -0.06142951 -0.0433963  -0.08703883 -0.08703883 -0.08703883 -0.0433963\n  -0.13118084 -0.13840913 -0.13840913 -0.0433963  -0.06142951 -0.0433963\n  -0.07530656 -0.18168574 -0.0433963  -0.0433963  -0.0433963  -0.07530656\n  -0.15826614  3.17542648 -0.0433963  -0.08703883 -0.07530656 -0.06142951\n  -0.72111026 -0.0433963  -0.0433963  -0.06142951 -0.0433963  -0.0433963\n  -0.0433963  -0.0433963  -0.0433963  -0.0433963  -0.0433963  -0.0433963\n  -0.39879994 -0.0433963  -0.18168574 -0.0433963  -0.08703883 -0.08703883\n  -0.10680283 -0.0433963  -0.13118084 -0.0433963  -0.0433963  -0.0433963\n  -0.0433963  -0.07530656 -0.43911856 -0.0433963  -0.06142951 -0.0433963\n  -0.0433963   1.11567277 -0.0433963  -0.0433963  -0.70312305 -0.0433963\n  -0.0433963  -0.0433963  -0.0433963  -0.0433963  -0.0433963  -0.0433963\n  -0.0433963  -0.0433963 ]\n [-0.11474682 -0.1528703  -0.0433963  -0.0433963  -0.0433963  -0.06142951\n  -0.07530656 -0.0433963  -0.06142951 -0.06142951 -0.0433963  -0.0433963\n  -0.19245009 -0.06142951 -0.09740465 -0.0433963  -0.11547005 -0.07530656\n  -0.0433963  -0.0433963  -0.15191091 -0.0433963   7.62306442 -0.0433963\n  -0.0433963  -0.08703883 -0.0433963  -0.0433963  -0.0433963  -0.0433963\n  -0.06142951 -0.0433963  -0.08703883 -0.08703883 -0.08703883 -0.0433963\n  -0.13118084 -0.13840913 -0.13840913 -0.0433963  -0.06142951 -0.0433963\n  -0.07530656 -0.18168574 -0.0433963  -0.0433963  -0.0433963  -0.07530656\n  -0.15826614 -0.31491833 -0.0433963  -0.08703883 -0.07530656 -0.06142951\n  -0.72111026 -0.0433963  -0.0433963  -0.06142951 -0.0433963  -0.0433963\n  -0.0433963  -0.0433963  -0.0433963  -0.0433963  -0.0433963  -0.0433963\n  -0.39879994 -0.0433963  -0.18168574 -0.0433963  -0.08703883 -0.08703883\n  -0.10680283 -0.0433963  -0.13118084 -0.0433963  -0.0433963  -0.0433963\n  -0.0433963  -0.07530656 -0.43911856 -0.0433963  -0.06142951 -0.0433963\n  -0.0433963   1.11567277 -0.0433963  -0.0433963  -0.70312305 -0.0433963\n  -0.0433963  -0.0433963  -0.0433963  -0.0433963  -0.0433963  -0.0433963\n  -0.0433963  -0.0433963 ]]\n"
     ]
    }
   ],
   "source": [
    "# Standardize the data with StandardScaler().\n",
    "X_scaled = StandardScaler().fit_transform(X)\n",
    "print(X_scaled[0:5])"
   ]
  },
  {
   "cell_type": "markdown",
   "metadata": {},
   "source": [
    "### Deliverable 2: Reducing Data Dimensions Using PCA"
   ]
  },
  {
   "cell_type": "code",
   "execution_count": 29,
   "metadata": {},
   "outputs": [
    {
     "output_type": "execute_result",
     "data": {
      "text/plain": [
       "PCA(n_components=3)"
      ]
     },
     "metadata": {},
     "execution_count": 29
    }
   ],
   "source": [
    "# Using PCA to reduce dimension to three principal components.\n",
    "pca = PCA(n_components=3)\n",
    "pca"
   ]
  },
  {
   "cell_type": "code",
   "execution_count": 31,
   "metadata": {},
   "outputs": [
    {
     "output_type": "execute_result",
     "data": {
      "text/plain": [
       "array([[-0.3317575 ,  1.00064499, -0.31582159],\n",
       "       [-0.31507303,  1.00178992, -0.31596959],\n",
       "       [ 2.2890987 ,  1.66668083, -0.30000491],\n",
       "       ...,\n",
       "       [ 0.32117925, -2.16975505,  0.27025698],\n",
       "       [-0.14455518, -1.93897521,  0.15881841],\n",
       "       [-0.28340129,  0.94136071, -0.08876902]])"
      ]
     },
     "metadata": {},
     "execution_count": 31
    }
   ],
   "source": [
    "# Create a DataFrame with the three principal components.\n",
    "X_pca = pca.fit_transform(X_scaled)\n",
    "X_pca"
   ]
  },
  {
   "cell_type": "code",
   "execution_count": 32,
   "metadata": {},
   "outputs": [
    {
     "output_type": "execute_result",
     "data": {
      "text/plain": [
       "['42',\n",
       " '404',\n",
       " '1337',\n",
       " 'BTC',\n",
       " 'ETH',\n",
       " 'LTC',\n",
       " 'DASH',\n",
       " 'XMR',\n",
       " 'ETC',\n",
       " 'ZEC',\n",
       " 'BTS',\n",
       " 'DGB',\n",
       " 'BTCD',\n",
       " 'XPY',\n",
       " 'PRC',\n",
       " 'KOBO',\n",
       " 'SPR',\n",
       " 'ARG',\n",
       " 'AUR',\n",
       " 'BLU',\n",
       " 'XMY',\n",
       " 'MOON',\n",
       " 'ZET',\n",
       " 'SXC',\n",
       " 'QTL',\n",
       " 'ENRG',\n",
       " 'QRK',\n",
       " 'RIC',\n",
       " 'DGC',\n",
       " 'BTB',\n",
       " 'CAT',\n",
       " 'CBX',\n",
       " 'CCN',\n",
       " 'CRYPT',\n",
       " 'CSC',\n",
       " 'DMD',\n",
       " 'XVG',\n",
       " 'DVC',\n",
       " 'EAC',\n",
       " 'EFL',\n",
       " 'EMC2',\n",
       " 'EMD',\n",
       " 'EXCL',\n",
       " 'FLT',\n",
       " 'FRK',\n",
       " 'FTC',\n",
       " 'GDC',\n",
       " 'GLC',\n",
       " 'GLD',\n",
       " 'HBN',\n",
       " 'HYP',\n",
       " 'IFC',\n",
       " 'IOC',\n",
       " 'IXC',\n",
       " 'KGC',\n",
       " 'LKY',\n",
       " 'LTB',\n",
       " 'MAX',\n",
       " 'MEC',\n",
       " 'MED',\n",
       " 'MINT',\n",
       " 'MINC',\n",
       " 'MZC',\n",
       " 'NAUT',\n",
       " 'NAV',\n",
       " 'NOBL',\n",
       " 'NMC',\n",
       " 'NYAN',\n",
       " 'OPAL',\n",
       " 'ORB',\n",
       " 'POT',\n",
       " 'PXC',\n",
       " 'RDD',\n",
       " 'RPC',\n",
       " 'SBC',\n",
       " 'SMC',\n",
       " 'SUPER',\n",
       " 'SYNC',\n",
       " 'SYS',\n",
       " 'TES',\n",
       " 'TGC',\n",
       " 'TIT',\n",
       " 'TOR',\n",
       " 'TRC',\n",
       " 'UNB',\n",
       " 'UNO',\n",
       " 'URO',\n",
       " 'USDE',\n",
       " 'UTC',\n",
       " 'VIA',\n",
       " 'VRC',\n",
       " 'VTC',\n",
       " 'WDC',\n",
       " 'XC',\n",
       " 'XCR',\n",
       " 'XJO',\n",
       " 'XST',\n",
       " 'ZCC',\n",
       " 'BCN',\n",
       " 'XDN',\n",
       " 'BURST',\n",
       " 'SJCX',\n",
       " 'MONA',\n",
       " 'NTRN',\n",
       " 'FAIR',\n",
       " 'NLG',\n",
       " 'RBY',\n",
       " 'PTC',\n",
       " 'KORE',\n",
       " 'WBB',\n",
       " 'NOTE',\n",
       " 'FLO',\n",
       " '8BIT',\n",
       " 'STV',\n",
       " 'ABY',\n",
       " 'FLDC',\n",
       " 'U',\n",
       " 'UIS',\n",
       " 'CYP',\n",
       " 'OMC',\n",
       " 'VTR',\n",
       " 'GRE',\n",
       " 'XCN',\n",
       " 'MSC',\n",
       " 'SOON',\n",
       " '1CR',\n",
       " 'ISL',\n",
       " 'NXS',\n",
       " 'MARS',\n",
       " 'CTO',\n",
       " 'ACP',\n",
       " 'DRZ',\n",
       " 'BSC',\n",
       " 'SQL',\n",
       " 'SONG',\n",
       " 'ZNY',\n",
       " 'DIGS',\n",
       " 'EXP',\n",
       " 'CON',\n",
       " 'SC',\n",
       " 'EMC',\n",
       " 'EGC',\n",
       " 'MND',\n",
       " 'I0C',\n",
       " 'DCR',\n",
       " 'RVR',\n",
       " 'HODL',\n",
       " 'EDRC',\n",
       " 'HTC',\n",
       " 'GAME',\n",
       " 'DBIC',\n",
       " 'DIEM',\n",
       " 'PWR',\n",
       " 'BLRY',\n",
       " 'GPU',\n",
       " 'ADZ',\n",
       " 'SOIL',\n",
       " 'YOC',\n",
       " 'SIB',\n",
       " 'ERC',\n",
       " 'ZEIT',\n",
       " 'SWING',\n",
       " 'SAFEX',\n",
       " 'NEBU',\n",
       " 'FRN',\n",
       " 'BOLI',\n",
       " 'XRA',\n",
       " 'REV',\n",
       " 'CKC',\n",
       " 'VIP',\n",
       " 'BSD',\n",
       " 'OMNI',\n",
       " 'LIR',\n",
       " 'PUT',\n",
       " 'IBANK',\n",
       " 'FRWC',\n",
       " 'MUDRA',\n",
       " 'PIZZA',\n",
       " 'LC',\n",
       " 'KMD',\n",
       " 'GB',\n",
       " 'CTC',\n",
       " 'KRB',\n",
       " 'BXT',\n",
       " 'ZYD',\n",
       " 'MST',\n",
       " 'ZNE',\n",
       " 'COVAL',\n",
       " 'ROOT',\n",
       " 'DOPE',\n",
       " 'BTCR',\n",
       " 'DLC',\n",
       " 'SCN',\n",
       " 'SH',\n",
       " 'BUZZ',\n",
       " 'XPO',\n",
       " 'PSB',\n",
       " 'HALLO',\n",
       " 'XZC',\n",
       " 'CFC',\n",
       " 'ROYAL',\n",
       " 'GNJ',\n",
       " 'TEAM',\n",
       " 'LANA',\n",
       " 'ELE',\n",
       " 'ZCL',\n",
       " 'ARK',\n",
       " 'INSANE',\n",
       " 'KLC',\n",
       " 'ATX',\n",
       " 'EMB',\n",
       " 'XEN',\n",
       " 'FRE',\n",
       " 'PLNC',\n",
       " 'ARCO',\n",
       " 'KURT',\n",
       " 'XCRE',\n",
       " 'ENT',\n",
       " 'EUC',\n",
       " 'BCF',\n",
       " 'XSN',\n",
       " 'BCCOIN',\n",
       " 'MONEY',\n",
       " 'XNG',\n",
       " 'XCI',\n",
       " 'RC',\n",
       " 'PND',\n",
       " 'UNITS',\n",
       " 'GAKH',\n",
       " 'ASAFE2',\n",
       " 'LTCR',\n",
       " 'OS76',\n",
       " 'BIC',\n",
       " 'HXX',\n",
       " 'KED',\n",
       " 'IOP',\n",
       " 'KUSH',\n",
       " 'PRX',\n",
       " 'PAC',\n",
       " 'IMPCH',\n",
       " 'CTL',\n",
       " 'ZBC',\n",
       " 'FRST',\n",
       " 'BVC',\n",
       " 'FIND',\n",
       " 'VLTC',\n",
       " 'ZER',\n",
       " 'CHAT',\n",
       " 'CDN',\n",
       " 'ZOI',\n",
       " 'RNS',\n",
       " 'DBIX',\n",
       " 'XVP',\n",
       " 'TAJ',\n",
       " 'IMX',\n",
       " 'EB3',\n",
       " 'ATMOS',\n",
       " 'HPC',\n",
       " 'CXT',\n",
       " 'MCRN',\n",
       " 'RAIN',\n",
       " 'IMS',\n",
       " 'ARGUS',\n",
       " 'LMC',\n",
       " 'PROC',\n",
       " 'XGR',\n",
       " 'BENJI',\n",
       " 'GRW',\n",
       " 'ILC',\n",
       " 'PHR',\n",
       " 'DEA',\n",
       " 'HTML5',\n",
       " 'USC',\n",
       " 'EQT',\n",
       " 'QTUM',\n",
       " 'QRL',\n",
       " 'ESP',\n",
       " 'DYN',\n",
       " 'NANO',\n",
       " 'CHAN',\n",
       " 'DCY',\n",
       " 'DNR',\n",
       " 'DP',\n",
       " 'VUC',\n",
       " 'BTPL',\n",
       " 'UNIFY',\n",
       " 'BRIT',\n",
       " 'SOCC',\n",
       " 'ARC',\n",
       " 'DAS',\n",
       " 'LINDA',\n",
       " 'XLC',\n",
       " 'ONION',\n",
       " 'BTX',\n",
       " 'GCN',\n",
       " 'SMART',\n",
       " 'SIGT',\n",
       " 'ONX',\n",
       " 'CRM',\n",
       " 'BCH',\n",
       " 'XMCC',\n",
       " 'DFT',\n",
       " 'VET',\n",
       " 'SOJ',\n",
       " 'STCN',\n",
       " 'NYC',\n",
       " 'FRAZ',\n",
       " 'KRONE',\n",
       " 'ACC',\n",
       " 'LINX',\n",
       " 'XCXT',\n",
       " 'ETHD',\n",
       " 'SUMO',\n",
       " 'ODN',\n",
       " 'ADA',\n",
       " 'REC',\n",
       " 'BTCZ',\n",
       " 'TZC',\n",
       " 'ELM',\n",
       " 'TER',\n",
       " 'VIVO',\n",
       " 'RUP',\n",
       " 'BTG',\n",
       " 'WOMEN',\n",
       " 'MAY',\n",
       " 'NAMO',\n",
       " 'LUX',\n",
       " 'PIRL',\n",
       " 'XIOS',\n",
       " 'BTDX',\n",
       " 'EBST',\n",
       " 'KEK',\n",
       " 'BLHC',\n",
       " 'XIN',\n",
       " 'PURA',\n",
       " 'INN',\n",
       " 'ELLA',\n",
       " 'GBX',\n",
       " 'MAG',\n",
       " 'TAU',\n",
       " 'ECA',\n",
       " 'BCD',\n",
       " 'XSH',\n",
       " 'CNBC',\n",
       " 'XUN',\n",
       " 'COAL',\n",
       " 'DAXX',\n",
       " 'BWK',\n",
       " 'KLKS',\n",
       " 'AC3',\n",
       " 'LTHN',\n",
       " 'GER',\n",
       " 'LTCU',\n",
       " 'POP',\n",
       " 'PNX',\n",
       " 'PHO',\n",
       " 'SUCR',\n",
       " 'SPK',\n",
       " 'WAGE',\n",
       " 'GUN',\n",
       " 'IRL',\n",
       " 'TROLL',\n",
       " 'LCP',\n",
       " 'MONK',\n",
       " 'PCOIN',\n",
       " 'UBTC',\n",
       " 'ITZ',\n",
       " 'TPAY',\n",
       " 'MCT',\n",
       " 'MBC',\n",
       " 'TRTL',\n",
       " 'MUN',\n",
       " 'USX',\n",
       " 'NBR',\n",
       " 'SSS',\n",
       " 'TRF',\n",
       " 'KREDS',\n",
       " 'TOKC',\n",
       " 'BBP',\n",
       " 'LCC',\n",
       " 'FLIP',\n",
       " 'LOT',\n",
       " 'CIF',\n",
       " 'SPD',\n",
       " 'POA',\n",
       " 'PUSHI',\n",
       " 'ELP',\n",
       " 'VLX',\n",
       " 'ONT',\n",
       " 'CLO',\n",
       " 'TUBE',\n",
       " 'PSD',\n",
       " 'ADK',\n",
       " 'BSX',\n",
       " 'BRIA',\n",
       " 'IC',\n",
       " 'BTL',\n",
       " 'MEDIC',\n",
       " 'ALPS',\n",
       " 'BITG',\n",
       " 'DEV',\n",
       " 'ABJ',\n",
       " 'SEM',\n",
       " 'FTO',\n",
       " 'CARE',\n",
       " 'NZL',\n",
       " 'XMC',\n",
       " 'PROTON',\n",
       " 'DEAL',\n",
       " 'JUMP',\n",
       " 'INFX',\n",
       " 'XBI',\n",
       " 'KEC',\n",
       " 'HWC',\n",
       " 'GIN',\n",
       " 'PLTC',\n",
       " 'LOKI',\n",
       " 'NCP',\n",
       " 'SIC',\n",
       " 'XT3',\n",
       " 'MGD',\n",
       " 'VIG',\n",
       " 'PLURA',\n",
       " 'EMAR',\n",
       " 'DKD',\n",
       " 'LYNX',\n",
       " 'POSQ',\n",
       " 'BWS',\n",
       " 'MUSE',\n",
       " 'XMN',\n",
       " 'PLUS1',\n",
       " 'AXE',\n",
       " 'TRVC',\n",
       " 'DTEM',\n",
       " 'GIC',\n",
       " 'PNY',\n",
       " 'ABS',\n",
       " 'VITAE',\n",
       " 'HEX',\n",
       " 'TPC',\n",
       " 'WEBC',\n",
       " 'RYO',\n",
       " 'URALS',\n",
       " 'QWC',\n",
       " 'ARE',\n",
       " 'EUNO',\n",
       " 'MMO',\n",
       " 'KETAN',\n",
       " 'PPAI',\n",
       " 'XDNA',\n",
       " 'PAXEX',\n",
       " 'AZART',\n",
       " 'TSC',\n",
       " 'KCASH',\n",
       " 'XCG',\n",
       " 'AAC',\n",
       " 'CRYP',\n",
       " 'BTXC',\n",
       " 'ACM',\n",
       " 'BSV',\n",
       " 'BITM',\n",
       " 'JMC',\n",
       " 'FRED',\n",
       " 'HERB',\n",
       " 'UMO',\n",
       " 'LIT',\n",
       " 'PIRATE',\n",
       " 'EXO',\n",
       " 'BLTG',\n",
       " 'OWC',\n",
       " 'BEAM',\n",
       " 'GALI',\n",
       " 'BTH',\n",
       " 'CSPN',\n",
       " 'CREDIT',\n",
       " 'SLC',\n",
       " 'DASHP',\n",
       " 'NSD',\n",
       " 'BEET',\n",
       " 'TTN',\n",
       " 'AWR',\n",
       " 'BLAST',\n",
       " 'XRC',\n",
       " 'GLT',\n",
       " 'INSN',\n",
       " 'ALX',\n",
       " 'LDOGE',\n",
       " 'SLR',\n",
       " 'TRK',\n",
       " 'UFO',\n",
       " 'OC',\n",
       " 'BLC',\n",
       " 'BITS',\n",
       " 'NEOS',\n",
       " 'HYPER',\n",
       " 'PINK',\n",
       " 'CESC',\n",
       " 'ADC',\n",
       " 'NKA',\n",
       " 'PIGGY',\n",
       " 'CRW',\n",
       " 'GEN',\n",
       " 'SMLY',\n",
       " 'MI',\n",
       " 'GRS',\n",
       " 'CPC',\n",
       " 'CLUB',\n",
       " 'RADS',\n",
       " 'BTA',\n",
       " 'PAK',\n",
       " 'CRB',\n",
       " 'OK',\n",
       " 'LSK',\n",
       " 'XHI',\n",
       " 'XWC',\n",
       " 'FSC',\n",
       " 'J',\n",
       " 'TRI',\n",
       " 'VOLLAR',\n",
       " 'EOS',\n",
       " 'RCC',\n",
       " 'OXY',\n",
       " 'TCH',\n",
       " 'WAVES',\n",
       " 'PART',\n",
       " 'BTT',\n",
       " 'NXT',\n",
       " 'ZEPH',\n",
       " 'GAP',\n",
       " 'BDX',\n",
       " 'ZEN',\n",
       " 'XBC']"
      ]
     },
     "metadata": {},
     "execution_count": 32
    }
   ],
   "source": [
    "index_values = (X.index.tolist())\n",
    "index_values"
   ]
  },
  {
   "cell_type": "markdown",
   "metadata": {},
   "source": [
    "### Deliverable 3: Clustering Crytocurrencies Using K-Means\n",
    "\n",
    "#### Finding the Best Value for `k` Using the Elbow Curve"
   ]
  },
  {
   "cell_type": "code",
   "execution_count": 37,
   "metadata": {},
   "outputs": [],
   "source": [
    "inertia = []\n",
    "k = list(range(1, 11))"
   ]
  },
  {
   "cell_type": "code",
   "execution_count": 38,
   "metadata": {},
   "outputs": [],
   "source": [
    "\n",
    "for i in k:\n",
    "    km = KMeans(n_clusters=i, random_state=0)\n",
    "    km.fit(pcs_df)\n",
    "    inertia.append(km.inertia_)"
   ]
  },
  {
   "cell_type": "code",
   "execution_count": 36,
   "metadata": {},
   "outputs": [
    {
     "output_type": "execute_result",
     "data": {
      "text/plain": [
       "          PC 1      PC 2      PC 3\n",
       "42   -0.331757  1.000645 -0.315822\n",
       "404  -0.315073  1.001790 -0.315970\n",
       "1337  2.289099  1.666681 -0.300005\n",
       "BTC  -0.151080 -1.336285  0.077707\n",
       "ETH  -0.144345 -1.882721  0.138988"
      ],
      "text/html": "<div>\n<style scoped>\n    .dataframe tbody tr th:only-of-type {\n        vertical-align: middle;\n    }\n\n    .dataframe tbody tr th {\n        vertical-align: top;\n    }\n\n    .dataframe thead th {\n        text-align: right;\n    }\n</style>\n<table border=\"1\" class=\"dataframe\">\n  <thead>\n    <tr style=\"text-align: right;\">\n      <th></th>\n      <th>PC 1</th>\n      <th>PC 2</th>\n      <th>PC 3</th>\n    </tr>\n  </thead>\n  <tbody>\n    <tr>\n      <th>42</th>\n      <td>-0.331757</td>\n      <td>1.000645</td>\n      <td>-0.315822</td>\n    </tr>\n    <tr>\n      <th>404</th>\n      <td>-0.315073</td>\n      <td>1.001790</td>\n      <td>-0.315970</td>\n    </tr>\n    <tr>\n      <th>1337</th>\n      <td>2.289099</td>\n      <td>1.666681</td>\n      <td>-0.300005</td>\n    </tr>\n    <tr>\n      <th>BTC</th>\n      <td>-0.151080</td>\n      <td>-1.336285</td>\n      <td>0.077707</td>\n    </tr>\n    <tr>\n      <th>ETH</th>\n      <td>-0.144345</td>\n      <td>-1.882721</td>\n      <td>0.138988</td>\n    </tr>\n  </tbody>\n</table>\n</div>"
     },
     "metadata": {},
     "execution_count": 36
    }
   ],
   "source": [
    "# Create an elbow curve to find the best value for K.\n",
    "pcs_df = pd.DataFrame(data = X_pca, columns=[\"PC 1\", \"PC 2\", \"PC 3\"], index = index_values)\n",
    "pcs_df.head()\n"
   ]
  },
  {
   "cell_type": "code",
   "execution_count": 39,
   "metadata": {},
   "outputs": [
    {
     "output_type": "display_data",
     "data": {},
     "metadata": {}
    },
    {
     "output_type": "execute_result",
     "data": {
      "text/html": "<div id='1001'>\n\n\n\n\n\n  <div class=\"bk-root\" id=\"d42d0fe8-5c9c-4196-9eab-a259f4ad5711\" data-root-id=\"1001\"></div>\n</div>\n<script type=\"application/javascript\">(function(root) {\n  function embed_document(root) {\n    var docs_json = {\"ca27d718-950c-47cd-979e-ffc275b4a05c\":{\"roots\":{\"references\":[{\"attributes\":{},\"id\":\"1027\",\"type\":\"ResetTool\"},{\"attributes\":{\"line_alpha\":0.1,\"line_color\":\"#30a2da\",\"line_width\":2,\"x\":{\"field\":\"k\"},\"y\":{\"field\":\"inertia\"}},\"id\":\"1040\",\"type\":\"Line\"},{\"attributes\":{\"end\":3969.8430612395023,\"reset_end\":3969.8430612395023,\"reset_start\":-189.26772723613,\"start\":-189.26772723613,\"tags\":[[[\"inertia\",\"inertia\",null]]]},\"id\":\"1004\",\"type\":\"Range1d\"},{\"attributes\":{},\"id\":\"1024\",\"type\":\"PanTool\"},{\"attributes\":{\"axis_label\":\"k\",\"bounds\":\"auto\",\"formatter\":{\"id\":\"1045\"},\"major_label_orientation\":\"horizontal\",\"ticker\":{\"id\":\"1044\"}},\"id\":\"1015\",\"type\":\"LinearAxis\"},{\"attributes\":{\"bottom_units\":\"screen\",\"fill_alpha\":0.5,\"fill_color\":\"lightgrey\",\"left_units\":\"screen\",\"level\":\"overlay\",\"line_alpha\":1.0,\"line_color\":\"black\",\"line_dash\":[4,4],\"line_width\":2,\"right_units\":\"screen\",\"top_units\":\"screen\"},\"id\":\"1028\",\"type\":\"BoxAnnotation\"},{\"attributes\":{},\"id\":\"1020\",\"type\":\"BasicTicker\"},{\"attributes\":{\"ticks\":[1,2,3,4,5,6,7,8,9,10]},\"id\":\"1044\",\"type\":\"FixedTicker\"},{\"attributes\":{\"margin\":[5,5,5,5],\"name\":\"HSpacer01538\",\"sizing_mode\":\"stretch_width\"},\"id\":\"1065\",\"type\":\"Spacer\"},{\"attributes\":{\"overlay\":{\"id\":\"1028\"}},\"id\":\"1026\",\"type\":\"BoxZoomTool\"},{\"attributes\":{\"margin\":[5,5,5,5],\"name\":\"HSpacer01537\",\"sizing_mode\":\"stretch_width\"},\"id\":\"1002\",\"type\":\"Spacer\"},{\"attributes\":{\"end\":10.0,\"reset_end\":10.0,\"reset_start\":1.0,\"start\":1.0,\"tags\":[[[\"k\",\"k\",null]]]},\"id\":\"1003\",\"type\":\"Range1d\"},{\"attributes\":{\"line_alpha\":0.2,\"line_color\":\"#30a2da\",\"line_width\":2,\"x\":{\"field\":\"k\"},\"y\":{\"field\":\"inertia\"}},\"id\":\"1041\",\"type\":\"Line\"},{\"attributes\":{},\"id\":\"1013\",\"type\":\"LinearScale\"},{\"attributes\":{},\"id\":\"1045\",\"type\":\"BasicTickFormatter\"},{\"attributes\":{\"source\":{\"id\":\"1036\"}},\"id\":\"1043\",\"type\":\"CDSView\"},{\"attributes\":{},\"id\":\"1011\",\"type\":\"LinearScale\"},{\"attributes\":{},\"id\":\"1049\",\"type\":\"BasicTickFormatter\"},{\"attributes\":{\"below\":[{\"id\":\"1015\"}],\"center\":[{\"id\":\"1018\"},{\"id\":\"1022\"}],\"left\":[{\"id\":\"1019\"}],\"margin\":[5,5,5,5],\"min_border_bottom\":10,\"min_border_left\":10,\"min_border_right\":10,\"min_border_top\":10,\"plot_height\":300,\"plot_width\":700,\"renderers\":[{\"id\":\"1042\"}],\"sizing_mode\":\"fixed\",\"title\":{\"id\":\"1007\"},\"toolbar\":{\"id\":\"1029\"},\"x_range\":{\"id\":\"1003\"},\"x_scale\":{\"id\":\"1011\"},\"y_range\":{\"id\":\"1004\"},\"y_scale\":{\"id\":\"1013\"}},\"id\":\"1006\",\"subtype\":\"Figure\",\"type\":\"Plot\"},{\"attributes\":{\"data\":{\"inertia\":{\"__ndarray__\":\"xlXzQIBOrEBjw4VcPSijQKJ99TlBCZhAeYHKQxRwiEB6JbPGQtOBQGwFwMdsy3lAjOcC1l8wc0BdWtvAlXBvQEFRNgDjumhA+7ulE2WqY0A=\",\"dtype\":\"float64\",\"order\":\"little\",\"shape\":[10]},\"k\":[1,2,3,4,5,6,7,8,9,10]},\"selected\":{\"id\":\"1037\"},\"selection_policy\":{\"id\":\"1057\"}},\"id\":\"1036\",\"type\":\"ColumnDataSource\"},{\"attributes\":{},\"id\":\"1057\",\"type\":\"UnionRenderers\"},{\"attributes\":{\"data_source\":{\"id\":\"1036\"},\"glyph\":{\"id\":\"1039\"},\"hover_glyph\":null,\"muted_glyph\":{\"id\":\"1041\"},\"nonselection_glyph\":{\"id\":\"1040\"},\"selection_glyph\":null,\"view\":{\"id\":\"1043\"}},\"id\":\"1042\",\"type\":\"GlyphRenderer\"},{\"attributes\":{\"text\":\"Elbow Curve\",\"text_color\":{\"value\":\"black\"},\"text_font_size\":{\"value\":\"12pt\"}},\"id\":\"1007\",\"type\":\"Title\"},{\"attributes\":{\"line_color\":\"#30a2da\",\"line_width\":2,\"x\":{\"field\":\"k\"},\"y\":{\"field\":\"inertia\"}},\"id\":\"1039\",\"type\":\"Line\"},{\"attributes\":{\"children\":[{\"id\":\"1002\"},{\"id\":\"1006\"},{\"id\":\"1065\"}],\"margin\":[0,0,0,0],\"name\":\"Row01533\",\"tags\":[\"embedded\"]},\"id\":\"1001\",\"type\":\"Row\"},{\"attributes\":{},\"id\":\"1037\",\"type\":\"Selection\"},{\"attributes\":{\"active_drag\":\"auto\",\"active_inspect\":\"auto\",\"active_multi\":null,\"active_scroll\":\"auto\",\"active_tap\":\"auto\",\"tools\":[{\"id\":\"1005\"},{\"id\":\"1023\"},{\"id\":\"1024\"},{\"id\":\"1025\"},{\"id\":\"1026\"},{\"id\":\"1027\"}]},\"id\":\"1029\",\"type\":\"Toolbar\"},{\"attributes\":{\"axis\":{\"id\":\"1019\"},\"dimension\":1,\"grid_line_color\":null,\"ticker\":null},\"id\":\"1022\",\"type\":\"Grid\"},{\"attributes\":{},\"id\":\"1025\",\"type\":\"WheelZoomTool\"},{\"attributes\":{\"callback\":null,\"renderers\":[{\"id\":\"1042\"}],\"tags\":[\"hv_created\"],\"tooltips\":[[\"k\",\"@{k}\"],[\"inertia\",\"@{inertia}\"]]},\"id\":\"1005\",\"type\":\"HoverTool\"},{\"attributes\":{},\"id\":\"1023\",\"type\":\"SaveTool\"},{\"attributes\":{\"axis\":{\"id\":\"1015\"},\"grid_line_color\":null,\"ticker\":null},\"id\":\"1018\",\"type\":\"Grid\"},{\"attributes\":{\"axis_label\":\"inertia\",\"bounds\":\"auto\",\"formatter\":{\"id\":\"1049\"},\"major_label_orientation\":\"horizontal\",\"ticker\":{\"id\":\"1020\"}},\"id\":\"1019\",\"type\":\"LinearAxis\"}],\"root_ids\":[\"1001\"]},\"title\":\"Bokeh Application\",\"version\":\"2.2.3\"}};\n    var render_items = [{\"docid\":\"ca27d718-950c-47cd-979e-ffc275b4a05c\",\"root_ids\":[\"1001\"],\"roots\":{\"1001\":\"d42d0fe8-5c9c-4196-9eab-a259f4ad5711\"}}];\n    root.Bokeh.embed.embed_items_notebook(docs_json, render_items);\n  }\n  if (root.Bokeh !== undefined && root.Bokeh.Panel !== undefined) {\n    embed_document(root);\n  } else {\n    var attempts = 0;\n    var timer = setInterval(function(root) {\n      if (root.Bokeh !== undefined && root.Bokeh.Panel !== undefined) {\n        clearInterval(timer);\n        embed_document(root);\n      } else if (document.readyState == \"complete\") {\n        attempts++;\n        if (attempts > 100) {\n          clearInterval(timer);\n          console.log(\"Bokeh: ERROR: Unable to run BokehJS code because BokehJS library is missing\");\n        }\n      }\n    }, 10, root)\n  }\n})(window);</script>",
      "application/vnd.holoviews_exec.v0+json": "",
      "text/plain": [
       ":Curve   [k]   (inertia)"
      ]
     },
     "metadata": {
      "application/vnd.holoviews_exec.v0+json": {
       "id": "1001"
      }
     },
     "execution_count": 39
    }
   ],
   "source": [
    "# Plot the elbow curve\n",
    "elbow_data = {\"k\": k, \"inertia\": inertia}\n",
    "df_elbow = pd.DataFrame(elbow_data)\n",
    "df_elbow.hvplot.line(x=\"k\", y=\"inertia\", title=\"Elbow Curve\", xticks=k)"
   ]
  },
  {
   "cell_type": "markdown",
   "metadata": {},
   "source": [
    "Running K-Means with `k=4`"
   ]
  },
  {
   "cell_type": "code",
   "execution_count": 40,
   "metadata": {},
   "outputs": [
    {
     "output_type": "stream",
     "name": "stdout",
     "text": [
      "[1 1 1 0 0 0 1 0 0 0 1 0 1 1 0 1 0 0 1 1 0 0 0 0 0 1 0 0 0 1 0 1 0 0 1 1 0\n 0 0 0 0 0 1 1 0 0 0 0 0 1 1 0 1 0 0 0 0 1 0 0 1 0 1 1 1 0 0 0 1 1 1 1 1 0\n 0 0 1 1 0 1 0 1 1 0 0 0 0 1 1 0 1 0 0 1 1 0 1 1 0 0 1 1 0 1 1 0 1 0 1 0 1\n 0 1 1 0 0 1 0 0 0 1 0 0 0 0 0 1 1 0 0 0 1 0 1 0 0 1 0 1 0 1 1 0 0 1 0 0 1\n 1 0 1 0 1 1 1 0 0 0 0 1 1 1 1 1 0 0 1 1 1 1 1 0 1 1 1 1 1 0 1 0 1 1 0 1 0\n 1 1 0 1 0 1 0 1 0 1 1 1 1 0 1 1 1 1 1 0 0 0 1 0 0 1 1 1 1 1 0 1 1 1 1 1 1\n 1 1 0 1 1 1 1 1 1 0 0 0 1 1 1 1 0 1 0 1 1 0 1 0 0 1 0 0 1 0 1 1 1 0 1 1 0\n 1 1 1 1 1 1 1 0 1 0 1 1 1 1 0 1 0 1 0 0 0 0 1 0 1 1 0 1 0 0 0 1 0 1 0 0 0\n 1 0 1 0 1 1 1 0 1 0 0 0 0 0 1 1 0 1 1 1 0 1 0 1 0 1 0 1 1 1 1 0 1 1 0 1 1\n 1 0 0 0 0 1 0 1 1 0 1 0 0 0 1 1 0 0 1 1 0 1 0 0 0 1 0 0 1 1 1 0 0 0 1 1 1\n 0 0 1 0 0 0 0 1 0 3 0 0 0 1 1 1 1 1 1 0 0 0 0 1 1 1 0 1 0 1 1 1 0 0 1 1 0\n 1 1 0 0 1 0 1 0 0 0 0 1 1 0 1 0 1 1 1 1 1 1 0 0 0 1 1 1 1 1 1 0 1 0 0 0 0\n 1 1 1 1 0 1 1 0 1 1 0 3 0 1 0 0 1 1 0 1 0 0 1 0 0 1 0 1 0 1 1 0 1 1 1 1 1\n 0 0 0 1 0 1 0 1 0 1 0 1 1 1 1 0 1 1 1 0 1 0 1 0 1 1 1 0 0 1 1 0 1 1 1 0 1\n 0 0 0 0 1 3 1 2 1 0 1 0 0 1]\n"
     ]
    }
   ],
   "source": [
    "# Initialize the K-Means model.\n",
    "model = KMeans(n_clusters=4, random_state=0)\n",
    "\n",
    "# Fit the model\n",
    "model.fit(pcs_df)\n",
    "\n",
    "# Predict clusters\n",
    "predictions = model.predict(pcs_df)\n",
    "print(predictions)\n",
    "pcs_df[\"Class\"] = model.labels_"
   ]
  },
  {
   "cell_type": "code",
   "execution_count": 42,
   "metadata": {},
   "outputs": [
    {
     "output_type": "stream",
     "name": "stdout",
     "text": [
      "(532, 9)\n"
     ]
    },
    {
     "output_type": "execute_result",
     "data": {
      "text/plain": [
       "           Algorithm ProofType  TotalCoinsMined TotalCoinSupply      PC 1  \\\n",
       "42            Scrypt   PoW/PoS     4.199995e+01              42 -0.331757   \n",
       "404           Scrypt   PoW/PoS     1.055185e+09       532000000 -0.315073   \n",
       "1337             X13   PoW/PoS     2.927942e+10    314159265359  2.289099   \n",
       "BTC          SHA-256       PoW     1.792718e+07        21000000 -0.151080   \n",
       "ETH           Ethash       PoW     1.076842e+08               0 -0.144345   \n",
       "LTC           Scrypt       PoW     6.303924e+07        84000000 -0.154967   \n",
       "DASH             X11   PoW/PoS     9.031294e+06        22000000 -0.404537   \n",
       "XMR   CryptoNight-V7       PoW     1.720114e+07               0 -0.152454   \n",
       "ETC           Ethash       PoW     1.133597e+08       210000000 -0.142786   \n",
       "ZEC         Equihash       PoW     7.383056e+06        21000000 -0.144554   \n",
       "\n",
       "          PC 2      PC 3  Class          CoinName  \n",
       "42    1.000645 -0.315822      1           42 Coin  \n",
       "404   1.001790 -0.315970      1           404Coin  \n",
       "1337  1.666681 -0.300005      1         EliteCoin  \n",
       "BTC  -1.336285  0.077707      0           Bitcoin  \n",
       "ETH  -1.882721  0.138988      0          Ethereum  \n",
       "LTC  -1.015572 -0.014732      0          Litecoin  \n",
       "DASH  1.153951 -0.312321      1              Dash  \n",
       "XMR  -2.132933  0.142610      0            Monero  \n",
       "ETC  -1.882707  0.138987      0  Ethereum Classic  \n",
       "ZEC  -1.938975  0.158818      0             ZCash  "
      ],
      "text/html": "<div>\n<style scoped>\n    .dataframe tbody tr th:only-of-type {\n        vertical-align: middle;\n    }\n\n    .dataframe tbody tr th {\n        vertical-align: top;\n    }\n\n    .dataframe thead th {\n        text-align: right;\n    }\n</style>\n<table border=\"1\" class=\"dataframe\">\n  <thead>\n    <tr style=\"text-align: right;\">\n      <th></th>\n      <th>Algorithm</th>\n      <th>ProofType</th>\n      <th>TotalCoinsMined</th>\n      <th>TotalCoinSupply</th>\n      <th>PC 1</th>\n      <th>PC 2</th>\n      <th>PC 3</th>\n      <th>Class</th>\n      <th>CoinName</th>\n    </tr>\n  </thead>\n  <tbody>\n    <tr>\n      <th>42</th>\n      <td>Scrypt</td>\n      <td>PoW/PoS</td>\n      <td>4.199995e+01</td>\n      <td>42</td>\n      <td>-0.331757</td>\n      <td>1.000645</td>\n      <td>-0.315822</td>\n      <td>1</td>\n      <td>42 Coin</td>\n    </tr>\n    <tr>\n      <th>404</th>\n      <td>Scrypt</td>\n      <td>PoW/PoS</td>\n      <td>1.055185e+09</td>\n      <td>532000000</td>\n      <td>-0.315073</td>\n      <td>1.001790</td>\n      <td>-0.315970</td>\n      <td>1</td>\n      <td>404Coin</td>\n    </tr>\n    <tr>\n      <th>1337</th>\n      <td>X13</td>\n      <td>PoW/PoS</td>\n      <td>2.927942e+10</td>\n      <td>314159265359</td>\n      <td>2.289099</td>\n      <td>1.666681</td>\n      <td>-0.300005</td>\n      <td>1</td>\n      <td>EliteCoin</td>\n    </tr>\n    <tr>\n      <th>BTC</th>\n      <td>SHA-256</td>\n      <td>PoW</td>\n      <td>1.792718e+07</td>\n      <td>21000000</td>\n      <td>-0.151080</td>\n      <td>-1.336285</td>\n      <td>0.077707</td>\n      <td>0</td>\n      <td>Bitcoin</td>\n    </tr>\n    <tr>\n      <th>ETH</th>\n      <td>Ethash</td>\n      <td>PoW</td>\n      <td>1.076842e+08</td>\n      <td>0</td>\n      <td>-0.144345</td>\n      <td>-1.882721</td>\n      <td>0.138988</td>\n      <td>0</td>\n      <td>Ethereum</td>\n    </tr>\n    <tr>\n      <th>LTC</th>\n      <td>Scrypt</td>\n      <td>PoW</td>\n      <td>6.303924e+07</td>\n      <td>84000000</td>\n      <td>-0.154967</td>\n      <td>-1.015572</td>\n      <td>-0.014732</td>\n      <td>0</td>\n      <td>Litecoin</td>\n    </tr>\n    <tr>\n      <th>DASH</th>\n      <td>X11</td>\n      <td>PoW/PoS</td>\n      <td>9.031294e+06</td>\n      <td>22000000</td>\n      <td>-0.404537</td>\n      <td>1.153951</td>\n      <td>-0.312321</td>\n      <td>1</td>\n      <td>Dash</td>\n    </tr>\n    <tr>\n      <th>XMR</th>\n      <td>CryptoNight-V7</td>\n      <td>PoW</td>\n      <td>1.720114e+07</td>\n      <td>0</td>\n      <td>-0.152454</td>\n      <td>-2.132933</td>\n      <td>0.142610</td>\n      <td>0</td>\n      <td>Monero</td>\n    </tr>\n    <tr>\n      <th>ETC</th>\n      <td>Ethash</td>\n      <td>PoW</td>\n      <td>1.133597e+08</td>\n      <td>210000000</td>\n      <td>-0.142786</td>\n      <td>-1.882707</td>\n      <td>0.138987</td>\n      <td>0</td>\n      <td>Ethereum Classic</td>\n    </tr>\n    <tr>\n      <th>ZEC</th>\n      <td>Equihash</td>\n      <td>PoW</td>\n      <td>7.383056e+06</td>\n      <td>21000000</td>\n      <td>-0.144554</td>\n      <td>-1.938975</td>\n      <td>0.158818</td>\n      <td>0</td>\n      <td>ZCash</td>\n    </tr>\n  </tbody>\n</table>\n</div>"
     },
     "metadata": {},
     "execution_count": 42
    }
   ],
   "source": [
    "# Create a new DataFrame including predicted clusters and cryptocurrencies features.\n",
    "# Concatentate the crypto_df and pcs_df DataFrames on the same columns.\n",
    "clustered_df = crypto_df.join(pcs_df, how='inner')\n",
    "clustered_df.head()\n",
    "\n",
    "#  Add a new column, \"CoinName\" to the clustered_df DataFrame that holds the names of the cryptocurrencies. \n",
    "clustered_df = clustered_df.join(cc_names_df, how='inner')\n",
    "clustered_df.head()\n",
    "\n",
    "\n",
    "# Print the shape of the clustered_df\n",
    "print(clustered_df.shape)\n",
    "clustered_df.head(10)"
   ]
  },
  {
   "cell_type": "markdown",
   "metadata": {},
   "source": [
    "### Deliverable 4: Visualizing Cryptocurrencies Results\n",
    "\n",
    "#### 3D-Scatter with Clusters"
   ]
  },
  {
   "cell_type": "code",
   "execution_count": 44,
   "metadata": {},
   "outputs": [
    {
     "output_type": "display_data",
     "data": {
      "application/vnd.plotly.v1+json": {
       "config": {
        "plotlyServerURL": "https://plot.ly"
       },
       "data": [
        {
         "customdata": [
          [
           "Scrypt",
           41.99995383,
           "42"
          ],
          [
           "Scrypt",
           1055184902.04,
           "532000000"
          ],
          [
           "X13",
           29279424622.5027,
           "314159265359"
          ],
          [
           "X11",
           9031294.37563393,
           "22000000"
          ],
          [
           "SHA-512",
           2741570000,
           "3600570502"
          ],
          [
           "SHA-256",
           1288862,
           "22000000"
          ],
          [
           "SHA-256",
           11995334.8847328,
           "12500000"
          ],
          [
           "X15",
           25542535.5881841,
           "350000000"
          ],
          [
           "Scrypt",
           18135099.992959,
           "16768584"
          ],
          [
           "Scrypt",
           635423900,
           "0"
          ],
          [
           "Scrypt",
           123062801.128773,
           "0"
          ],
          [
           "Scrypt",
           42579.476901,
           "500000"
          ],
          [
           "Scrypt",
           1039116.65144562,
           "1000000"
          ],
          [
           "Scrypt",
           39999997299.8568,
           "40000000000"
          ],
          [
           "Groestl",
           3304487.74735637,
           "4380000"
          ],
          [
           "PoS",
           5679705,
           "0"
          ],
          [
           "Scrypt",
           461829905.32892996,
           "0"
          ],
          [
           "Scrypt",
           89266933.684704,
           "120000000"
          ],
          [
           "X11",
           1678520090.7713,
           "0"
          ],
          [
           "X11",
           17650913.974345602,
           "22000000"
          ],
          [
           "SHA3",
           61445805,
           "100000000"
          ],
          [
           "Scrypt",
           21293925445.4969,
           "0"
          ],
          [
           "SHA-256",
           1613836099.99999,
           "2419200000"
          ],
          [
           "Scrypt",
           16180000,
           "16180000"
          ],
          [
           "X13",
           66087096.20771079,
           "0"
          ],
          [
           "X13",
           15156364.3306548,
           "0"
          ],
          [
           "NeoScrypt",
           3220616.279225,
           "3770000"
          ],
          [
           "Scrypt",
           222677226.014206,
           "420000000"
          ],
          [
           "Scrypt",
           73959274.625,
           "98000000"
          ],
          [
           "Scrypt",
           29315567169.0888,
           "0"
          ],
          [
           "X11",
           50707661.74935179,
           "0"
          ],
          [
           "X11",
           1177,
           "1000"
          ],
          [
           "Multiple",
           80260463.7331396,
           "100000000"
          ],
          [
           "PHI1612",
           1622326490.46336,
           "2300000000"
          ],
          [
           "X11",
           1431851.00002479,
           "10000000"
          ],
          [
           "Scrypt",
           1098952592.6,
           "1600000000"
          ],
          [
           "Scrypt",
           50235211.141939,
           "100000000"
          ],
          [
           "Scrypt",
           32021108.413669605,
           "0"
          ],
          [
           "X11",
           6950831.0970606,
           "5500000"
          ],
          [
           "Multiple",
           100000000,
           "0"
          ],
          [
           "X13",
           33093725.4123502,
           "0"
          ],
          [
           "Scrypt",
           147990237.978331,
           "1000000000"
          ],
          [
           "Shabal256",
           1813033920,
           "2158812800"
          ],
          [
           "Counterparty",
           51173144,
           "500000000"
          ],
          [
           "SHA-256",
           39121694,
           "68000000"
          ],
          [
           "Groestl",
           53193831,
           "0"
          ],
          [
           "Scrypt",
           27184490.3918338,
           "0"
          ],
          [
           "X13",
           2022464.886973,
           "12000000"
          ],
          [
           "Scrypt",
           174646113.934655,
           "500000000"
          ],
          [
           "Scrypt",
           1467841,
           "0"
          ],
          [
           "X13",
           7096834,
           "10000000"
          ],
          [
           "X11",
           2689812,
           "20000000"
          ],
          [
           "Scrypt",
           11604722,
           "20000000"
          ],
          [
           "X11",
           1513704,
           "0"
          ],
          [
           "SHA3",
           63657220,
           "78000000"
          ],
          [
           "QUAIT",
           8568038.35935056,
           "5060000"
          ],
          [
           "X11",
           329200.01639,
           "0"
          ],
          [
           "Scrypt",
           100000000,
           "100000000"
          ],
          [
           "X13",
           23042604,
           "50000000"
          ],
          [
           "SHA-256",
           43059794.804778,
           "1000000000"
          ],
          [
           "X15",
           13530556.4180753,
           "26298000"
          ],
          [
           "BLAKE256",
           10365046.928166099,
           "21000000"
          ],
          [
           "SHA-256",
           3669691.84494672,
           "22000000"
          ],
          [
           "X11",
           10996318099,
           "26550000000"
          ],
          [
           "SHA-256",
           5129014,
           "10500000"
          ],
          [
           "NIST5",
           10069449031.9252,
           "0"
          ],
          [
           "Scrypt",
           8998743.2411911,
           "42000000"
          ],
          [
           "Scrypt",
           40477042,
           "221052632"
          ],
          [
           "X11",
           10407269.788186802,
           "384000000"
          ],
          [
           "Scrypt",
           36971236046.8073,
           " 99000000000"
          ],
          [
           "SHA-256",
           4377081.60953993,
           "40000000"
          ],
          [
           "Scrypt",
           2147483647,
           "2147483647"
          ],
          [
           "PoS",
           20000000,
           "20000000"
          ],
          [
           "X11",
           134554941.15118998,
           "75000000"
          ],
          [
           "SHA-256",
           1195525,
           "222725000"
          ],
          [
           "SHA-256",
           16662820,
           "525000000"
          ],
          [
           "NIST5",
           83450403,
           "90000000"
          ],
          [
           "X11",
           24387724.5010828,
           "139000000"
          ],
          [
           "POS 3.0",
           38589808.6658096,
           "33500000"
          ],
          [
           "Scrypt",
           813092338.575672,
           "2000000000"
          ],
          [
           "Scrypt",
           4526324,
           "44333333"
          ],
          [
           "Scrypt",
           100000000,
           "100000000"
          ],
          [
           "X13",
           5000000,
           "200000000"
          ],
          [
           "X11",
           657000000,
           "657000000"
          ],
          [
           "X11",
           15563873,
           "50000000"
          ],
          [
           "Scrypt",
           43165500,
           "90000000"
          ],
          [
           "SHA-256",
           595429,
           "21000000"
          ],
          [
           "X11",
           657636.34549789,
           "3000000"
          ],
          [
           "Scrypt",
           2581970,
           "21000000"
          ],
          [
           "Scrypt",
           1939889,
           "0"
          ],
          [
           "Scrypt",
           169598616,
           "0"
          ],
          [
           "Scrypt",
           665200057,
           "3100000000"
          ],
          [
           "SHA-256D",
           19577787259,
           "20000000000"
          ],
          [
           "PoS",
           74033806.79496829,
           "74000000"
          ],
          [
           "Scrypt",
           33522957,
           "0"
          ],
          [
           "X11",
           264678458.28861898,
           "1500000000"
          ],
          [
           "PoS",
           148716816,
           "39999898"
          ],
          [
           "X13",
           2500124,
           "2500124"
          ],
          [
           "X14",
           100000000,
           "100000000"
          ],
          [
           "PoS",
           17818682.1654,
           "301000000"
          ],
          [
           "SHA-256D",
           1082162635.5368302,
           "7506000000"
          ],
          [
           "X11",
           18342813,
           "30000000"
          ],
          [
           "X13",
           92192822723,
           "850000000"
          ],
          [
           "X11",
           3853326.77707314,
           "3853326.77707314"
          ],
          [
           "PoS",
           50000000,
           "50000000"
          ],
          [
           "Scrypt",
           17089600,
           "38540000 "
          ],
          [
           "Scrypt",
           2449577.41533168,
           "42000000"
          ],
          [
           "PoS",
           20000000,
           "20000000"
          ],
          [
           "X11",
           6069482.07721352,
           "60000000"
          ],
          [
           "SHA-256",
           12416554,
           "20000000"
          ],
          [
           "Scrypt",
           20244023.640728,
           "33000000"
          ],
          [
           "X11",
           75590369,
           "76500000"
          ],
          [
           "Scrypt",
           11080722.3769581,
           "28000000"
          ],
          [
           "Scrypt",
           10914418,
           "650659833"
          ],
          [
           "X11",
           814671,
           "5000000"
          ],
          [
           "Scrypt",
           8377873,
           "144000000"
          ],
          [
           "Scrypt",
           33813143821.8337,
           "32514916898"
          ],
          [
           "Scrypt",
           3472983,
           "13000000"
          ],
          [
           "Scrypt",
           3315789,
           "3315789"
          ],
          [
           "Quark",
           10517772.7391666,
           "15000000"
          ],
          [
           "QuBit",
           30227750,
           "78835200"
          ],
          [
           "Scrypt",
           23965372,
           "500000000"
          ],
          [
           "SHA-256",
           2526078.47525448,
           "21000000"
          ],
          [
           "X11",
           5659096.95728771,
           "9354000"
          ],
          [
           "Scrypt",
           11821728,
           "20000000"
          ],
          [
           "Scrypt",
           308179,
           "21933333"
          ],
          [
           "Scrypt",
           2922613.96424908,
           "55000000"
          ],
          [
           "Scrypt",
           110000000,
           "110000000"
          ],
          [
           "X13",
           14524851.4827,
           "14524851.4827"
          ],
          [
           "Scrypt",
           1000000000,
           "1000000000"
          ],
          [
           "Scrypt",
           36050365,
           "34426423"
          ],
          [
           "X11",
           13162749.085802699,
           "100000000"
          ],
          [
           "Blake2S",
           12184195.9258495,
           "36900000"
          ],
          [
           "X11",
           110630387.85047099,
           "110000000"
          ],
          [
           "PoS",
           111135836.889,
           "110290030"
          ],
          [
           "X11",
           21521322.0099142,
           "100000000"
          ],
          [
           "PoS",
           401421401,
           "400000000"
          ],
          [
           "X11",
           121665451.643876,
           "500000000"
          ],
          [
           "Scrypt",
           5368934,
           "21212121"
          ],
          [
           "Scrypt",
           1148324,
           "28600000"
          ],
          [
           "Scrypt",
           500000,
           "1000000000"
          ],
          [
           "SHA-256",
           100545745,
           "75000000000"
          ],
          [
           "X11",
           17171382,
           "40000000"
          ],
          [
           "Scrypt",
           295135466.361878,
           "2000000000"
          ],
          [
           "PoS",
           11390225.974277198,
           "30000000"
          ],
          [
           "Scrypt",
           21358764,
           "105000000"
          ],
          [
           "X15",
           40659020000,
           "90000000000"
          ],
          [
           "SHA-256",
           10343113,
           "200084200"
          ],
          [
           "POS 3.0",
           100000000,
           "100000000"
          ],
          [
           "536",
           22801882871,
           "50000000000"
          ],
          [
           "NIST5",
           4171382,
           "10000000"
          ],
          [
           "NIST5",
           62942075,
           "120000000"
          ],
          [
           "Skein",
           6804362,
           "100000000"
          ],
          [
           "X13",
           21268092,
           "30000000"
          ],
          [
           "Scrypt",
           9044930943.24243,
           "50000000000"
          ],
          [
           "X13",
           21917018.0492836,
           "18898187.6216583"
          ],
          [
           "SkunkHash v2 Raptor",
           107972766,
           "137500000"
          ],
          [
           "Skein",
           47331802.477423795,
           "100000000"
          ],
          [
           "X11",
           12569262.535930699,
           "9507271"
          ],
          [
           "Scrypt",
           18663297.348979898,
           "17405891.19707116"
          ],
          [
           "VeChainThor Authority",
           55454734800,
           "86712634466"
          ],
          [
           "PoS",
           4000000,
           "61599965"
          ],
          [
           "Scrypt",
           19539588,
           "48252000"
          ],
          [
           "Scrypt",
           4200000,
           "4200000"
          ],
          [
           "SHA-512",
           25000000,
           "91388946"
          ],
          [
           "Ouroboros",
           25927070538,
           "45000000000"
          ],
          [
           "X11",
           7262402.04264803,
           "27000000"
          ],
          [
           "NeoScrypt",
           182638400,
           "400000000"
          ],
          [
           "Scrypt",
           1140734.91680375,
           "15733333"
          ],
          [
           "Lyra2REv2",
           24000000,
           "24000000"
          ],
          [
           "Scrypt",
           48459472454,
           "25000000000"
          ],
          [
           "SHA-256",
           92050800,
           "100000000"
          ],
          [
           "NIST5",
           560563220,
           "1200000000"
          ],
          [
           "PHI1612",
           8305775.31777569,
           "60000000"
          ],
          [
           "Scrypt",
           2149688,
           "21000000"
          ],
          [
           "Quark",
           30711550.5294042,
           "200000000"
          ],
          [
           "POS 2.0",
           12330806.30517,
           "21000000"
          ],
          [
           "Scrypt",
           16362544.992,
           "14788275.991"
          ],
          [
           "SHA-256",
           8999999990,
           "9000000000"
          ],
          [
           "X11",
           38198594.8342105,
           "144000000"
          ],
          [
           "NIST5",
           28399150208,
           "30000000000"
          ],
          [
           "X13",
           183534024.88980702,
           "210000000"
          ],
          [
           "Scrypt",
           110976977.29338,
           "210000000"
          ],
          [
           "NIST5",
           13247178.880728599,
           "27716121"
          ],
          [
           "Quark",
           16955764.902064003,
           "20000000"
          ],
          [
           "Scrypt",
           4911500269.41,
           "50000000000"
          ],
          [
           "Scrypt",
           8419402.321,
           "150000000"
          ],
          [
           "X11",
           45174214.1078625,
           "50000000"
          ],
          [
           "Quark",
           27299680,
           "120000000"
          ],
          [
           "Scrypt",
           591022748,
           "900000000"
          ],
          [
           "Scrypt",
           2504486.227718,
           "4000000"
          ],
          [
           "X11",
           4407252,
           "21000000"
          ],
          [
           "POS 3.0",
           20445861.534425102,
           "25000000"
          ],
          [
           "Ethash",
           1618033,
           "1618033"
          ],
          [
           "Scrypt",
           9399342.52839847,
           "30000000"
          ],
          [
           "Scrypt",
           234846265.78215697,
           "232000000"
          ],
          [
           "X13",
           230298925,
           "800000000"
          ],
          [
           "C11",
           11251342.1879021,
           "19340594"
          ],
          [
           "Proof-of-Authority",
           204479039,
           "252460800"
          ],
          [
           "X11",
           2167827.1,
           "25000000"
          ],
          [
           "XEVAN",
           419275.38,
           "60000000"
          ],
          [
           "Scrypt",
           25570013.1348022,
           "124000000"
          ],
          [
           "VBFT",
           650848625,
           "1000000000"
          ],
          [
           "NIST5",
           13787854.6277781,
           "50000000"
          ],
          [
           "Scrypt",
           845637.81347436,
           "3000000"
          ],
          [
           "Scrypt",
           1182153.5,
           "5000000"
          ],
          [
           "Scrypt",
           267297676.3125,
           "500000000"
          ],
          [
           "Green Protocol",
           9803691.3618195,
           "21000000"
          ],
          [
           "PoS",
           21876586.8530324,
           "88000000"
          ],
          [
           "Scrypt",
           9880502.37178894,
           "30000000"
          ],
          [
           "Quark",
           139739596.506702,
           "200000000"
          ],
          [
           "PoS",
           11075254.0929996,
           "80000000"
          ],
          [
           "X16R",
           4403800,
           "45000000"
          ],
          [
           "Scrypt",
           1404157529.46026,
           "5121951220"
          ],
          [
           "XEVAN",
           10904963.0923455,
           "21000000"
          ],
          [
           "Scrypt",
           38706809.466534995,
           "26000000"
          ],
          [
           "Scrypt",
           10200000000,
           "10200000000"
          ],
          [
           "Scrypt",
           7630000.0154,
           "44000000"
          ],
          [
           "SHA-256D",
           33238183.7225834,
           "100000000"
          ],
          [
           "Scrypt",
           21599339.6728,
           "84000000"
          ],
          [
           "X15",
           30284196.369129,
           "90000000"
          ],
          [
           "Scrypt",
           77872059787.8998,
           "92000000000"
          ],
          [
           "Quark",
           2716264.95302831,
           "650000000 "
          ],
          [
           "SHA-256",
           57811001.000889,
           "100262205"
          ],
          [
           "DPoS",
           18194936,
           "18081806 "
          ],
          [
           "X16R",
           36923120.6205934,
           "82546564"
          ],
          [
           "Quark",
           7082392.24744494,
           "21000000"
          ],
          [
           "Quark",
           5919489.76813523,
           "5151000"
          ],
          [
           "Scrypt",
           1042012.45227735,
           "16880000000"
          ],
          [
           "Lyra2REv2",
           13332617.9413708,
           "52500000"
          ],
          [
           "Quark",
           66053877.6256106,
           "100000000"
          ],
          [
           "Scrypt",
           5403802.49590733,
           "1000000000"
          ],
          [
           "X11",
           19269509.94,
           "55000000"
          ],
          [
           "X11",
           30771125.976086702,
           "50000000"
          ],
          [
           "Scrypt",
           107763867.917675,
           "260000000"
          ],
          [
           "PoS",
           9327131.59708692,
           "210000000"
          ],
          [
           "Keccak",
           4672513.84432375,
           "366000000"
          ],
          [
           "X11",
           4504639,
           "100000000"
          ],
          [
           "Scrypt",
           1059954080.4343901,
           "18000000000"
          ],
          [
           "SHA-512",
           1000000000,
           "1000000000"
          ],
          [
           "XEVAN",
           6787405.18013774,
           "50000000"
          ],
          [
           "XEVAN",
           208515864.36734298,
           "70000000000"
          ],
          [
           "X11",
           17209923728.3266,
           "0"
          ],
          [
           "Quark",
           35312185.7437239,
           "54000000"
          ],
          [
           "Equihash",
           13475920,
           "105000000"
          ],
          [
           "Scrypt",
           14777549.394076401,
           "21000000"
          ],
          [
           "Quark",
           18265011.248600602,
           "19035999"
          ],
          [
           "Quark",
           1934701.67524713,
           "13370000"
          ],
          [
           "Scrypt",
           30825710000.0296,
           "74800000000"
          ],
          [
           "X11",
           715659.44237941,
           "19700000"
          ],
          [
           "Scrypt",
           20546528.2059957,
           "84000000"
          ],
          [
           "XEVAN",
           198938144.363399,
           "500000000"
          ],
          [
           "SHA-256D",
           896361168,
           "5000000000"
          ],
          [
           "X11",
           15420234.5389336,
           "420000000"
          ],
          [
           "X11",
           23775960.3207514,
           "30000000"
          ],
          [
           "Scrypt",
           15318887081.0146,
           "35000000000"
          ],
          [
           "X11",
           242574105.22384,
           "0"
          ],
          [
           "Scrypt",
           3537150,
           "200000000"
          ],
          [
           "Scrypt",
           20576532,
           "54256119"
          ],
          [
           "SHA-256",
           4392258.24647793,
           "21000000"
          ],
          [
           "Scrypt",
           9631199.99309942,
           "0"
          ],
          [
           "X11",
           436353624.49031204,
           "500000000"
          ],
          [
           "Scrypt",
           980732528.97974,
           "10500000000"
          ],
          [
           "SHA-256",
           17939725045.334,
           "190000000"
          ],
          [
           "X11",
           494240666.028571,
           "1000000000"
          ],
          [
           "Scrypt",
           60000000,
           "15000000"
          ],
          [
           "Scrypt",
           404316475.545465,
           "400000000"
          ],
          [
           "X11",
           201364327.427503,
           "208000000"
          ],
          [
           "Scrypt",
           103621876.167052,
           "160000000"
          ],
          [
           "PoS",
           3821245.74150193,
           "9000000"
          ],
          [
           "X11",
           16901016.6609755,
           "16504333"
          ],
          [
           "SHA-256",
           74676064.9488608,
           "105000000"
          ],
          [
           "Scrypt",
           10000244677.7002,
           "10008835635"
          ],
          [
           "Scrypt",
           252005564.19257003,
           "300000000"
          ],
          [
           "NeoScrypt",
           1120385.00502,
           "60168145"
          ],
          [
           "X13",
           140777.753365,
           "120000"
          ],
          [
           "SHA-256",
           1000000000,
           "1000000000"
          ],
          [
           "PoS",
           9283137.5558676,
           "8634140"
          ],
          [
           "PoS",
           1000000000,
           "1000000000"
          ],
          [
           "Scrypt",
           14931046.1546605,
           "250000000"
          ],
          [
           "Scrypt",
           128326.99633965,
           "1000000"
          ]
         ],
         "hovertemplate": "<b>%{hovertext}</b><br><br>Class=%{marker.color}<br>PC 1=%{x}<br>PC 2=%{y}<br>PC 3=%{z}<br>Algorithm=%{customdata[0]}<br>TotalCoinsMined=%{customdata[1]}<br>TotalCoinSupply=%{customdata[2]}<extra></extra>",
         "hovertext": [
          "42 Coin",
          "404Coin",
          "EliteCoin",
          "Dash",
          "Bitshares",
          "BitcoinDark",
          "PayCoin",
          "KoboCoin",
          "Aurora Coin",
          "BlueCoin",
          "EnergyCoin",
          "BitBar",
          "CryptoBullion",
          "CasinoCoin",
          "Diamond",
          "Exclusive Coin",
          "FlutterCoin",
          "HoboNickels",
          "HyperStake",
          "IOCoin",
          "MaxCoin",
          "MintCoin",
          "MazaCoin",
          "Nautilus Coin",
          "NavCoin",
          "OpalCoin",
          "Orbitcoin",
          "PotCoin",
          "PhoenixCoin",
          "Reddcoin",
          "SuperCoin",
          "SyncCoin",
          "TeslaCoin",
          "TittieCoin",
          "TorCoin",
          "UnitaryStatus Dollar",
          "UltraCoin",
          "VeriCoin",
          "X11 Coin",
          "Crypti",
          "StealthCoin",
          "ZCC Coin",
          "BurstCoin",
          "StorjCoin",
          "Neutron",
          "FairCoin",
          "RubyCoin",
          "Kore",
          "Dnotes",
          "8BIT Coin",
          "Sativa Coin",
          "Ucoin",
          "Vtorrent",
          "IslaCoin",
          "Nexus",
          "Droidz",
          "Squall Coin",
          "Diggits",
          "Paycon",
          "Emercoin",
          "EverGreenCoin",
          "Decred",
          "EDRCoin",
          "Hitcoin",
          "DubaiCoin",
          "PWR Coin",
          "BillaryCoin",
          "GPU Coin",
          "EuropeCoin",
          "ZeitCoin",
          "SwingCoin",
          "SafeExchangeCoin",
          "Nebuchadnezzar",
          "Ratecoin",
          "Revenu",
          "Clockcoin",
          "VIP Tokens",
          "BitSend",
          "Let it Ride",
          "PutinCoin",
          "iBankCoin",
          "Frankywillcoin",
          "MudraCoin",
          "Lutetium Coin",
          "GoldBlocks",
          "CarterCoin",
          "BitTokens",
          "MustangCoin",
          "ZoneCoin",
          "RootCoin",
          "BitCurrency",
          "Swiscoin",
          "BuzzCoin",
          "Opair",
          "PesoBit",
          "Halloween Coin",
          "CoffeeCoin",
          "RoyalCoin",
          "GanjaCoin V2",
          "TeamUP",
          "LanaCoin",
          "InsaneCoin",
          "EmberCoin",
          "XenixCoin",
          "FreeCoin",
          "PLNCoin",
          "AquariusCoin",
          "Creatio",
          "Eternity",
          "Eurocoin",
          "BitcoinFast",
          "Stakenet",
          "BitConnect Coin",
          "MoneyCoin",
          "Enigma",
          "Russiacoin",
          "PandaCoin",
          "GameUnits",
          "GAKHcoin",
          "Allsafe",
          "LiteCreed",
          "Klingon Empire Darsek",
          "Internet of People",
          "KushCoin",
          "Printerium",
          "Impeach",
          "Zilbercoin",
          "FirstCoin",
          "FindCoin",
          "OpenChat",
          "RenosCoin",
          "VirtacoinPlus",
          "TajCoin",
          "Impact",
          "Atmos",
          "HappyCoin",
          "MacronCoin",
          "Condensate",
          "Independent Money System",
          "ArgusCoin",
          "LomoCoin",
          "ProCurrency",
          "GoldReserve",
          "GrowthCoin",
          "Phreak",
          "Degas Coin",
          "HTML5 Coin",
          "Ultimate Secure Cash",
          "QTUM",
          "Espers",
          "Denarius",
          "Virta Unique Coin",
          "Bitcoin Planet",
          "BritCoin",
          "Linda",
          "DeepOnion",
          "Signatum",
          "Cream",
          "Monoeci",
          "Draftcoin",
          "Vechain",
          "Stakecoin",
          "CoinonatX",
          "Ethereum Dark",
          "Obsidian",
          "Cardano",
          "Regalcoin",
          "TrezarCoin",
          "TerraNovaCoin",
          "Rupee",
          "WomenCoin",
          "Theresa May Coin",
          "NamoCoin",
          "LUXCoin",
          "Xios",
          "Bitcloud 2.0",
          "KekCoin",
          "BlackholeCoin",
          "Infinity Economics",
          "Magnet",
          "Electra",
          "Bitcoin Diamond",
          "Cash & Back Coin",
          "Bulwark",
          "Kalkulus",
          "GermanCoin",
          "LiteCoin Ultra",
          "PhantomX",
          "Digiwage",
          "Trollcoin",
          "Litecoin Plus",
          "Monkey Project",
          "TokenPay",
          "1717 Masonic Commemorative Token",
          "My Big Coin",
          "Unified Society USDEX",
          "Tokyo Coin",
          "Stipend",
          "Poa Network",
          "Pushi",
          "Ellerium",
          "Velox",
          "Ontology",
          "Bitspace",
          "Briacoin",
          "Ignition",
          "MedicCoin",
          "Bitcoin Green",
          "Deviant Coin",
          "Abjcoin",
          "Carebit",
          "Zealium",
          "Proton",
          "iDealCash",
          "Bitcoin Incognito",
          "HollyWoodCoin",
          "Swisscoin",
          "Xt3ch",
          "TheVig",
          "EmaratCoin",
          "Dekado",
          "Lynx",
          "Poseidon Quark",
          "BitcoinWSpectrum",
          "Muse",
          "Trivechain",
          "Dystem",
          "Giant",
          "Peony Coin",
          "Absolute Coin",
          "Vitae",
          "TPCash",
          "ARENON",
          "EUNO",
          "MMOCoin",
          "Ketan",
          "XDNA",
          "PAXEX",
          "ThunderStake",
          "Kcash",
          "Bettex coin",
          "BitMoney",
          "Junson Ming Chan Coin",
          "HerbCoin",
          "PirateCash",
          "Oduwa",
          "Galilel",
          "Crypto Sports",
          "Credit",
          "Dash Platinum",
          "Nasdacoin",
          "Beetle Coin",
          "Titan Coin",
          "Award",
          "Insane Coin",
          "LiteDoge",
          "TruckCoin",
          "OrangeCoin",
          "BitstarCoin",
          "NeosCoin",
          "HyperCoin",
          "PinkCoin",
          "AudioCoin",
          "IncaKoin",
          "Piggy Coin",
          "Genstake",
          "XiaoMiCoin",
          "CapriCoin",
          " ClubCoin",
          "Radium",
          "Creditbit ",
          "OKCash",
          "HiCoin",
          "WhiteCoin",
          "FriendshipCoin",
          "Triangles Coin",
          "TigerCash",
          "Particl",
          "Nxt",
          "Gapcoin",
          "BitcoinPlus"
         ],
         "legendgroup": "1",
         "marker": {
          "color": [
           1,
           1,
           1,
           1,
           1,
           1,
           1,
           1,
           1,
           1,
           1,
           1,
           1,
           1,
           1,
           1,
           1,
           1,
           1,
           1,
           1,
           1,
           1,
           1,
           1,
           1,
           1,
           1,
           1,
           1,
           1,
           1,
           1,
           1,
           1,
           1,
           1,
           1,
           1,
           1,
           1,
           1,
           1,
           1,
           1,
           1,
           1,
           1,
           1,
           1,
           1,
           1,
           1,
           1,
           1,
           1,
           1,
           1,
           1,
           1,
           1,
           1,
           1,
           1,
           1,
           1,
           1,
           1,
           1,
           1,
           1,
           1,
           1,
           1,
           1,
           1,
           1,
           1,
           1,
           1,
           1,
           1,
           1,
           1,
           1,
           1,
           1,
           1,
           1,
           1,
           1,
           1,
           1,
           1,
           1,
           1,
           1,
           1,
           1,
           1,
           1,
           1,
           1,
           1,
           1,
           1,
           1,
           1,
           1,
           1,
           1,
           1,
           1,
           1,
           1,
           1,
           1,
           1,
           1,
           1,
           1,
           1,
           1,
           1,
           1,
           1,
           1,
           1,
           1,
           1,
           1,
           1,
           1,
           1,
           1,
           1,
           1,
           1,
           1,
           1,
           1,
           1,
           1,
           1,
           1,
           1,
           1,
           1,
           1,
           1,
           1,
           1,
           1,
           1,
           1,
           1,
           1,
           1,
           1,
           1,
           1,
           1,
           1,
           1,
           1,
           1,
           1,
           1,
           1,
           1,
           1,
           1,
           1,
           1,
           1,
           1,
           1,
           1,
           1,
           1,
           1,
           1,
           1,
           1,
           1,
           1,
           1,
           1,
           1,
           1,
           1,
           1,
           1,
           1,
           1,
           1,
           1,
           1,
           1,
           1,
           1,
           1,
           1,
           1,
           1,
           1,
           1,
           1,
           1,
           1,
           1,
           1,
           1,
           1,
           1,
           1,
           1,
           1,
           1,
           1,
           1,
           1,
           1,
           1,
           1,
           1,
           1,
           1,
           1,
           1,
           1,
           1,
           1,
           1,
           1,
           1,
           1,
           1,
           1,
           1,
           1,
           1,
           1,
           1,
           1,
           1,
           1,
           1,
           1,
           1,
           1,
           1,
           1,
           1,
           1,
           1,
           1,
           1,
           1,
           1,
           1,
           1,
           1,
           1,
           1,
           1,
           1,
           1,
           1,
           1,
           1,
           1,
           1,
           1,
           1,
           1,
           1,
           1,
           1,
           1,
           1
          ],
          "coloraxis": "coloraxis",
          "symbol": "circle"
         },
         "mode": "markers",
         "name": "1",
         "scene": "scene",
         "showlegend": true,
         "type": "scatter3d",
         "x": [
          -0.33175749649735903,
          -0.315073030778462,
          2.289098699825366,
          -0.40453739639089703,
          -0.26131633218547173,
          -0.3266996611129527,
          -0.2782885438246029,
          -0.2562673144718497,
          -0.33141663773142205,
          -0.3239835793259542,
          -0.3302519195008264,
          -0.3317534283573441,
          -0.33173768847381985,
          0.6658491213406185,
          -0.3739408558489185,
          -0.3494480276564223,
          -0.23934170294578172,
          -0.32981385968393445,
          -0.33592106611439,
          -0.4044319420386023,
          -0.38341793385454426,
          -0.022895310724563828,
          -0.2899607465833265,
          -0.2830971891006541,
          -0.297593683613329,
          -0.29821678156800197,
          -0.3565769198093408,
          -0.3260528733280391,
          -0.33015725010753977,
          0.026895702240850087,
          -0.3558360871190562,
          -0.4048039788707216,
          -0.24515825921857448,
          -0.3183183389661165,
          -0.40471552228042906,
          -0.3069589855725285,
          -0.3304333035013416,
          -0.2476909870016217,
          -0.40467993407007935,
          -0.24562636633022947,
          -0.29799733188427835,
          -0.32285090157512103,
          -0.026625188301155265,
          -0.35450018321714943,
          -0.32591038748792844,
          -0.3733615791747911,
          -0.2830773717966624,
          -0.2982923120275566,
          -0.2777252682962088,
          -0.3317395394144307,
          -0.2982444231621047,
          -0.3562816272210102,
          -0.3314736015452468,
          -0.40478548137346726,
          -0.32380689108803373,
          -0.44945762826042274,
          -0.35841585754105476,
          -0.28147692557158976,
          -0.29776549704499017,
          -0.3192486891959614,
          -0.2587112773164116,
          -0.08789338008014835,
          -0.3266705335086137,
          -0.08187245755557522,
          -0.32673428441134134,
          -0.24316979437590203,
          -0.3313493705696624,
          -0.28134614720008666,
          -0.4019517922665441,
          0.8714133696069936,
          -0.3265341502424868,
          -0.06585034133125,
          -0.349130908965544,
          -0.40262562139202746,
          -0.32527644836374064,
          -0.3229422594785406,
          -0.36470208854693176,
          -0.4035192845323361,
          -0.3571678398041944,
          -0.30761784376085655,
          -0.3313875296982059,
          -0.32982446995410253,
          -0.24857428239762355,
          -0.3437564662607794,
          -0.40425878596164344,
          -0.33059075642816715,
          -0.32671524077732084,
          -0.40477466654616856,
          -0.3315768918593296,
          -0.3317337642737157,
          -0.28133504556037014,
          -0.2210134970440134,
          0.02716855519850805,
          -0.34808666059389376,
          -0.3313473699623087,
          -0.3909217898236097,
          -0.3474142383977101,
          -0.2500063354526921,
          -0.4164994727257781,
          -0.3471636056192195,
          -0.28776909930619776,
          -0.40436670879056746,
          0.8355370290971088,
          -0.40472951450576944,
          -0.3485510007590071,
          -0.33127493755342896,
          -0.33142949452784054,
          -0.349130908965544,
          -0.4043039819608618,
          -0.32657771454263684,
          -0.3312756577472419,
          -0.38503866125815606,
          -0.3314232438729828,
          -0.3270068531119957,
          -0.4047585532489287,
          -0.3306331693254407,
          0.36099508349286097,
          -0.33162275940792785,
          -0.33169340220081767,
          -0.3606230065078415,
          -0.35335776695356647,
          -0.3279162745463952,
          -0.32669162078022124,
          -0.40466838925713544,
          -0.33147094664535115,
          -0.33159808694879944,
          -0.28298391425927477,
          -0.2627899665256957,
          -0.24977389418107243,
          -0.3124272237579924,
          -0.2827246130834215,
          -0.4039333593435083,
          -0.4398248923664755,
          -0.40266995796998917,
          -0.3473752301962127,
          -0.40383109869456313,
          -0.3417680152786177,
          -0.3997674929973766,
          -0.3315412902977418,
          -0.33154050142414637,
          -0.3246553301044488,
          0.25490985803249444,
          -0.40431007983825673,
          -0.26560709949471023,
          -0.3491652823639688,
          -0.33075110415788933,
          0.8770126195526543,
          -0.27697765059647894,
          -0.3559446464696145,
          0.580311915377341,
          -0.3662396898128357,
          -0.36474011051164595,
          -0.43530538734524843,
          -0.29792912782318837,
          0.13370271366665526,
          -0.29799996773365367,
          -0.3558974126729229,
          -0.43480956558225936,
          -0.4045827611286193,
          -0.28305810890063043,
          4.414563638608839,
          -0.34903146110536604,
          -0.33117604701426323,
          -0.3316763101603108,
          -0.3194527847122504,
          0.6291112325166238,
          -0.40452355716450755,
          -0.35157021462256016,
          -0.3316318967842486,
          -0.31419745444967423,
          0.43850776968498884,
          -0.3250357673747049,
          -0.3509883681257062,
          -0.4023073256522881,
          -0.3315821804939146,
          -0.40741072643318976,
          -0.35126864096759497,
          -0.3314523759302272,
          -0.10455153621944362,
          -0.4033148390080633,
          0.19396136852539939,
          -0.29466664112381474,
          -0.3289096096507647,
          -0.3176553956211523,
          -0.3605087624226334,
          0.08313339915407127,
          -0.3305900849458892,
          -0.40389652643185675,
          -0.3596726076445879,
          -0.31814034785758,
          -0.3316984726646958,
          -0.35625351962618124,
          -0.35745013333360426,
          -0.27270674504337433,
          -0.2394690731504985,
          -0.32723805199373934,
          -0.2415602949484559,
          -0.38279333525511733,
          -0.35422928361889316,
          -0.4046000774329665,
          -0.31147508499716664,
          -0.2822172134606552,
          -0.3158465133507816,
          -0.3658381977341061,
          -0.3317258634369719,
          -0.33170755432867977,
          -0.27659174837832823,
          -0.35056579926165926,
          -0.34862541897631816,
          -0.33142373553253907,
          -0.4060768529554943,
          -0.3488143332956949,
          -0.32405294908718957,
          -0.2782330978920475,
          -0.26523943138537487,
          -0.2827519078679268,
          -0.1345887070866457,
          -0.28300437959744457,
          -0.3531552224295611,
          -0.3308971779533036,
          -0.2097067325759723,
          2.252804762811984,
          -0.35621246008832236,
          -0.2771052597244959,
          0.9976726172636783,
          -0.37173621253555583,
          -0.36062245941988275,
          -0.40909669630911233,
          -0.16361587914287637,
          -0.3624732685403543,
          -0.3593404011327545,
          -0.3245953358889192,
          -0.3558304257382864,
          -0.40407273703054886,
          -0.2802465726616975,
          -0.34791323370484606,
          -0.36655714100994446,
          -0.35569174021451044,
          -0.19106088055891313,
          -0.2843934127717121,
          -0.26312059199259874,
          0.5517300862112443,
          -0.14590640339326477,
          -0.40839046454751327,
          -0.2709589069513571,
          -0.3314276884158205,
          -0.4088471297921665,
          -0.3607395802788466,
          0.5761556740483433,
          -0.3563079082595688,
          -0.3309100582840479,
          -0.3059240987524164,
          -0.3078249375120802,
          -0.4016350047322456,
          -0.40430023845216434,
          0.10401894362729448,
          -0.4018362945579749,
          -0.3302950130071112,
          -0.3311207552804651,
          -0.27832124513737416,
          -0.33163966705633996,
          -0.39591752757112514,
          -0.24525047041997297,
          -0.10604468794001387,
          -0.39166129952308887,
          -0.3309170031503391,
          -0.32397257916235755,
          -0.40086448576884354,
          -0.3293543961061541,
          -0.3494069000114412,
          -0.3938173226578628,
          -0.3252128535153822,
          -0.09004152586415608,
          -0.32654558989627347,
          -0.3562024104459883,
          -0.2983996340835331,
          -0.2591937245069682,
          -0.34934267416736686,
          -0.33070787453947825,
          -0.3298008150308433,
          -0.28340128689547106
         ],
         "y": [
          1.0006449892289961,
          1.0017899196217777,
          1.6666808261693453,
          1.15395071762038,
          1.4805717732665635,
          0.6799852190937268,
          0.6207117875988428,
          1.7353627751118565,
          1.0006649703008308,
          1.0013217020880563,
          1.0007760484419428,
          1.0006450544357997,
          1.0006461356336136,
          0.4167955588841957,
          0.7739015372686212,
          1.7762541048036398,
          0.4330622890272134,
          1.0007448342365535,
          1.096443356258462,
          1.1539598973314829,
          3.5766838096448255,
          0.9640381103409463,
          0.6817979894989941,
          0.94137840929938,
          1.623061326248296,
          1.6230070861047547,
          0.3855171881609197,
          1.0008988575355802,
          1.0007276559993412,
          1.0318654431728633,
          1.0947097707285647,
          1.1539402248710415,
          0.25289925764749294,
          1.661969939744186,
          1.1539421466079396,
          1.001879052567573,
          1.0007024700054397,
          0.5310793533749871,
          1.1539478450413385,
          0.25291629843868796,
          1.6230261890118596,
          1.0008424095712736,
          0.43851753025040807,
          1.7324983294848402,
          0.6800273416944291,
          0.7739544939704219,
          0.9413894846574589,
          1.622993576549166,
          0.9415664351127502,
          1.0006465524019628,
          1.6229989010161974,
          1.0946594290211942,
          1.000658144242908,
          1.1539418356402333,
          6.197839196496666,
          1.7239288681281575,
          1.3188687047352632,
          0.9414710130167305,
          1.6230174754788869,
          0.680068642280433,
          1.735337094757961,
          0.7950011067982646,
          0.6799877546267491,
          1.166708128019981,
          0.6799888509134133,
          1.3795820937442755,
          1.0006562448377858,
          0.9414124419178614,
          1.1539665956513554,
          0.984675691987821,
          0.6799892246326964,
          0.37497638107064146,
          1.7762701518912996,
          1.1540865077667357,
          0.6799931113450327,
          0.6800216184433115,
          1.3689508013731884,
          1.1539717301221035,
          1.7411581334037158,
          1.0015905430681664,
          1.0006515747058329,
          1.0007554684445257,
          1.563719777153608,
          1.09538161690084,
          1.1539587894676797,
          1.000694542774403,
          0.6799844407884258,
          1.1539410433882558,
          1.000648575018346,
          1.0006470551230182,
          0.9415411526647831,
          0.45478022698291015,
          1.7458544353330308,
          1.776329846696259,
          1.0006806904170478,
          1.1542818214034027,
          1.7764080288306852,
          1.563709251590643,
          1.7070087671975855,
          1.7762790165516156,
          1.7256595540855635,
          1.1539609527007177,
          1.721208177282291,
          1.1539444807047303,
          1.7763032956698794,
          1.0006647236714918,
          1.0006492701158176,
          1.7762701518912996,
          1.1539490762831852,
          0.679996990220569,
          1.0006678624961827,
          0.7719691393453091,
          1.0006579047060074,
          1.0006825181369778,
          1.153941290254696,
          1.000659644646155,
          0.9786653579552762,
          1.0006492054166687,
          1.000648652441809,
          1.591443563367083,
          0.5234090256104889,
          1.000690418763088,
          0.6799864968889532,
          1.1539466228149486,
          1.0006583753496716,
          1.0006461906390751,
          0.9413658360430889,
          0.3447810941304994,
          1.5637225364208147,
          1.001749781801905,
          0.9414002972764444,
          1.1539582230189342,
          1.6596469015892101,
          1.1540624221154923,
          1.7763708044163442,
          1.1539671247208834,
          1.776691486848397,
          1.154089701659973,
          1.0006515515209573,
          1.000647350801871,
          1.000685335612504,
          0.6237916397661435,
          1.1539601032910847,
          0.9417544746149563,
          1.7762613808049392,
          1.0006719162746185,
          1.7822058820266937,
          0.6207174964839538,
          1.7412261815751913,
          1.8316095175089357,
          1.3688631857909062,
          1.3689301548593489,
          1.7001709632819064,
          1.6230147893826303,
          1.0122683448163572,
          1.6230150384681385,
          1.71725762546567,
          1.7002141241419184,
          1.1539539880962784,
          0.9413811027656689,
          2.905014050482766,
          1.7762547684909737,
          1.000667719529466,
          1.0006496293115954,
          1.4775389697913348,
          1.649364691117449,
          1.1539490328574755,
          0.3857240397528413,
          1.0006468304469436,
          0.7607887482005488,
          1.0532486426433876,
          0.6800849841099021,
          1.3695031098246802,
          1.7194463142964285,
          1.0006481146472326,
          1.6507568903166727,
          1.757113766926107,
          1.0006630037236826,
          0.63064164871184,
          1.153986637474246,
          1.4002972529015987,
          1.6231947656507464,
          1.000771538224763,
          1.3095891012418701,
          1.591450618761173,
          1.007866329278673,
          1.0006599277576396,
          1.15399032384963,
          1.5914656162042642,
          1.0013102483543785,
          1.0006478156627905,
          1.0946612978721169,
          1.7411384720683785,
          0.07416959383718227,
          0.4517201397967166,
          1.0009043322826467,
          1.563983604069419,
          0.7710313651510732,
          4.2354469232672685,
          1.1539435276159027,
          1.800603710687657,
          0.9413927022022339,
          1.8537938130795009,
          1.3688750196868424,
          1.0006460092106575,
          1.0006464472205698,
          0.9416651070512342,
          1.7532223044547095,
          1.7762748577642462,
          1.0006567061251728,
          1.6508730028610237,
          1.7762630360636296,
          0.731543430177953,
          1.002344312074541,
          1.9655414555443365,
          0.9414027908440586,
          1.0119138738995688,
          0.9413704113555196,
          1.7242476098649064,
          1.0006713363898285,
          1.6760730178271472,
          0.5738554030678277,
          1.5914605367798906,
          0.6207640744656227,
          0.825357606485302,
          0.7908640128655237,
          1.591440143643749,
          1.6507227295940536,
          0.9420337027926752,
          0.8200629777911993,
          1.5915060923196356,
          1.000690558057607,
          1.09467847953392,
          1.1539749848678615,
          0.9414856516010188,
          1.7762663501627183,
          0.80134621494921,
          1.0946645468885001,
          1.002490468608971,
          1.2087466540648917,
          1.7413256390429173,
          2.320845816362243,
          1.1129839699833728,
          1.650755977059762,
          0.018038200769445168,
          1.0006615630503757,
          1.6507364301277334,
          1.5914343576826784,
          1.0364517958443455,
          1.0946573146466294,
          1.0006702151680638,
          1.8008326471843026,
          1.7253619057490888,
          1.1539733676537924,
          1.153966738886773,
          1.01835276522588,
          1.154198559827826,
          1.0006567189600422,
          1.0006690629003547,
          0.6207040289028248,
          1.0006552462052374,
          1.1544248378545068,
          1.002107494791496,
          0.6990959599009426,
          1.1545063932898048,
          1.0007094851124274,
          1.0010915031847425,
          1.1541629535927556,
          1.0007617145018546,
          1.7762524839096194,
          0.6448047348756065,
          0.6800666794572265,
          0.952409072305892,
          1.0009253139175547,
          0.3855171968917855,
          1.6229910996028742,
          0.621803307768,
          1.7762582861416192,
          2.021810700882476,
          1.0006708439135428,
          0.9413607102342547
         ],
         "z": [
          -0.31582158703135443,
          -0.31596959108436934,
          -0.3000049123879512,
          -0.3123205842239686,
          -0.08079421249200273,
          -0.22338823698045474,
          0.0036628248499687125,
          -0.45863950622642524,
          -0.31582411817808337,
          -0.31591124083170236,
          -0.3158389503140432,
          -0.31582159221074807,
          -0.31582173199266295,
          -0.1315142904450598,
          -0.2942696653025189,
          -0.00720719405446094,
          -0.20040757313626953,
          -0.3158339845775617,
          -0.08550358537652987,
          -0.3123218003911664,
          -0.26636836498028876,
          -0.09177342083702482,
          -0.22361181298098323,
          -0.08877125523177738,
          -0.2963998552893219,
          -0.2963926693242277,
          -0.2797364881544485,
          -0.31585231437561684,
          -0.31583186096161747,
          -0.3199578056627021,
          -0.08527391258637167,
          -0.3123193463229926,
          0.08115804996993145,
          0.039122296776686646,
          -0.3123195317343224,
          -0.31597400971983347,
          -0.3158285103748444,
          -0.08388759361319653,
          -0.3123203178249986,
          0.08115510037864036,
          -0.2963952001586742,
          -0.3158408225715501,
          -0.05195286776378161,
          0.18656067018834996,
          -0.22339349926271504,
          -0.29427671153940577,
          -0.08877283450063582,
          -0.29639079648622996,
          -0.08879281787646819,
          -0.31582179412745554,
          -0.29639151573338146,
          -0.0852671047117479,
          -0.315823191472938,
          -0.31231955973147096,
          -0.008491537678866571,
          -0.4824144403172837,
          0.10133102724099764,
          -0.08878294376996673,
          -0.2963936997753674,
          -0.22339252192199133,
          -0.4586383438551559,
          -0.18256065758770412,
          -0.22338857289866243,
          -0.3138271785038679,
          -0.22338879771418088,
          -0.41905769505599366,
          -0.31582278760161997,
          -0.08877434639205298,
          -0.3123201829369441,
          -0.09382254030877281,
          -0.22338864309945486,
          -0.12623583004166647,
          -0.0072091816499926355,
          -0.3123382075445461,
          -0.22338789365335457,
          -0.2233895787888935,
          -0.4176485934303893,
          -0.3123225584625918,
          -0.004440427222378271,
          -0.3159330189343348,
          -0.315822152737052,
          -0.31583553183364665,
          -0.06933831930415223,
          -0.08535837548441873,
          -0.3123214598693274,
          -0.3158275293370072,
          -0.22338814078680316,
          -0.3123194340119143,
          -0.31582191678178834,
          -0.31582186073008084,
          -0.0887929281238341,
          -0.14500507425947365,
          -0.4655935213391777,
          -0.007216716616291022,
          -0.3158263168770052,
          -0.3123542231714865,
          -0.007227309783566156,
          -0.06933829144251696,
          -0.4097373550435662,
          -0.007208411685110567,
          -0.46300447033519765,
          -0.31232188485459617,
          -0.3093968862696229,
          -0.31231988349759754,
          -0.007213365092436316,
          -0.3158239348552344,
          -0.3158218635607652,
          -0.0072091816499926355,
          -0.31232010382982694,
          -0.22338981030853852,
          -0.3158243890343825,
          -0.2318234024558299,
          -0.3158231043816907,
          -0.31582205674957964,
          -0.3123194528787366,
          -0.31582253222887163,
          -0.09348631235513115,
          -0.3158220556560204,
          -0.3158220494059143,
          -0.04078002424102455,
          -0.21722839662099092,
          -0.31582414595600866,
          -0.2233884131877529,
          -0.3123201292313079,
          -0.3158232220909459,
          -0.3158215944308314,
          -0.08876932085643584,
          0.20088349877003764,
          -0.06933996826769465,
          -0.3159610351069729,
          -0.08877402878715877,
          -0.3123210388464177,
          -0.4629471448724034,
          -0.31233477439078833,
          -0.007221891758805991,
          -0.31232221818178285,
          -0.007262372470553703,
          -0.3123356898774812,
          -0.3158223096537425,
          -0.3158217020038185,
          -0.31582001274489335,
          0.0037736724842439406,
          -0.31232170312571816,
          -0.08880735082905893,
          -0.007207950423662963,
          -0.3158244278887935,
          -0.46422514299975576,
          0.0036633665103283607,
          -0.004448982383887869,
          -0.7060589547417423,
          -0.4176375393088955,
          -0.4176456505059312,
          -0.5339400711635958,
          -0.2963934823008489,
          -0.31701552128674904,
          -0.296393592120274,
          0.16653016779602065,
          -0.5339457892980481,
          -0.31232110395456364,
          -0.08877160359104443,
          0.09449792010378118,
          -0.007206855738708433,
          -0.31582426455660656,
          -0.31582217270744156,
          -0.0804166957262506,
          0.012128551498506685,
          -0.3123203264216675,
          -0.27976115100157023,
          -0.315821722096495,
          -0.13371026548253703,
          -0.32261775426353484,
          -0.2234009145497608,
          -0.41771408490740186,
          -0.18770624882247533,
          -0.3158218557898635,
          -0.2678351572105418,
          0.15864246303490212,
          -0.315823871340407,
          0.0024094640144690796,
          -0.31232449885432123,
          -0.4215945410956688,
          -0.2964160808044056,
          -0.3158368996763234,
          -0.1905862026358394,
          -0.040780924371928616,
          -0.31643232353075557,
          -0.3158225282194019,
          -0.31232563767847704,
          -0.04078221934228935,
          -0.31590349579967003,
          -0.31582193381143736,
          -0.08526734538552593,
          -0.004437881221134677,
          0.06495717202916416,
          -0.17625408560365946,
          -0.31585434056831907,
          -0.0693691204885335,
          -0.3333530107801579,
          5.69576244168306,
          -0.31231961090292515,
          -0.1042758497388316,
          -0.08877240275078832,
          0.14069873563979948,
          -0.417638830331906,
          -0.31582170140451704,
          -0.31582174559483994,
          -0.08880589035488465,
          0.10501806089970742,
          -0.00720933457484988,
          -0.31582293174950515,
          -0.26785054029466054,
          -0.0072078237420109825,
          0.060296166299517076,
          -0.3160112789714019,
          0.30937302650409193,
          -0.0887744174526436,
          -0.3172439574565276,
          -0.08877000312832312,
          -0.46286865612266803,
          -0.31582449637368337,
          -0.23158801483249195,
          -0.0265581841403529,
          -0.040777879038416655,
          0.0036565049380296805,
          0.08063929179399827,
          -0.1667609482520885,
          -0.040779529664236876,
          -0.2678319797194883,
          -0.08874138130160755,
          -0.360761301576685,
          -0.040787720181291585,
          -0.3158207046366504,
          -0.08526938642060618,
          -0.31232360550488075,
          -0.0887837760243428,
          -0.007207363266805413,
          -0.10947757537421521,
          -0.08526722918480346,
          -0.31594153214253323,
          -0.24522695768157815,
          0.12277582337862265,
          0.3711441172542705,
          -0.0876949562893641,
          -0.2678360464722961,
          0.08477223416131317,
          -0.3158236374915562,
          -0.26783369874659935,
          -0.040778815911632446,
          -0.32004784304290423,
          -0.08526682666626983,
          -0.31582434782945135,
          -0.10430313561954932,
          -0.4629823770023458,
          -0.3123208310169469,
          -0.3123226514331539,
          -0.3179254044121463,
          -0.3123535716446118,
          -0.3158217571268686,
          -0.31582440098631404,
          0.0036639115711953577,
          -0.31582294591951915,
          -0.31238009014706924,
          -0.31594269074637277,
          -0.225918946785162,
          -0.3123874351845961,
          -0.3158300279276055,
          -0.3158779752821781,
          -0.3123474151131742,
          -0.31583594416506605,
          -0.007206917035595707,
          -0.08897640381027702,
          -0.22339845487372192,
          -0.09016349976574968,
          -0.3158566497753999,
          -0.2797360990615142,
          -0.2963905505340648,
          0.0035250486648448253,
          -0.007207688271573725,
          -0.12152565231291322,
          -0.3158232824834638,
          -0.08876901542302143
         ]
        },
        {
         "customdata": [
          [
           "SHA-256",
           17927175,
           "21000000"
          ],
          [
           "Ethash",
           107684222.6865,
           "0"
          ],
          [
           "Scrypt",
           63039243.30000489,
           "84000000"
          ],
          [
           "CryptoNight-V7",
           17201143.1449131,
           "0"
          ],
          [
           "Ethash",
           113359703,
           "210000000"
          ],
          [
           "Equihash",
           7383056.25,
           "21000000"
          ],
          [
           "Multiple",
           11406219141,
           "21000000000"
          ],
          [
           "Scrypt",
           5768310,
           "21000000"
          ],
          [
           "X11",
           11149733.9976203,
           "20000000"
          ],
          [
           "Scrypt",
           12205795.444954902,
           "64000000"
          ],
          [
           "Multiple",
           1688254250,
           "2000000000"
          ],
          [
           "Scrypt",
           88,
           "384000000000"
          ],
          [
           "SHA-256",
           170204389.754849,
           "169795588"
          ],
          [
           "Scrypt",
           128940951.183046,
           "250000000"
          ],
          [
           "Scrypt",
           7357794.7925,
           "100000000"
          ],
          [
           "Quark",
           259557164.91477,
           "247000000"
          ],
          [
           "Groestl",
           49548585.14129171,
           "84000000"
          ],
          [
           "Scrypt",
           33442988.3440364,
           "48166000"
          ],
          [
           "Scrypt",
           7219956.64626131,
           "21000000 "
          ],
          [
           "Scrypt",
           4703879.51824446,
           "13140000"
          ],
          [
           "X11",
           4996986.20575291,
           "18000000"
          ],
          [
           "Multiple",
           15929530669.1206,
           "16555000000"
          ],
          [
           "SHA-256",
           18773857500,
           "21000000000"
          ],
          [
           "Scrypt",
           12539015186.821999,
           "13500000000"
          ],
          [
           "Scrypt",
           20910478.806249898,
           "21000000 "
          ],
          [
           "Scrypt",
           218871896.499999,
           "299792458"
          ],
          [
           "Scrypt",
           19496786.31025,
           "32000000"
          ],
          [
           "Scrypt",
           1142732.14912776,
           "11235813"
          ],
          [
           "NeoScrypt",
           208669093.00773,
           "336000000"
          ],
          [
           "Scrypt",
           884125802,
           "1420609614"
          ],
          [
           "Scrypt",
           65672720.470874794,
           "70000000"
          ],
          [
           "Scrypt",
           41658647.9999715,
           "72245700"
          ],
          [
           "Scrypt",
           90595753018.6314,
           "90600000000"
          ],
          [
           "SHA-256",
           21089348.999,
           "21000000"
          ],
          [
           "Scrypt",
           151447649.8,
           "265420800"
          ],
          [
           "Scrypt",
           19326319.14375,
           "20000000"
          ],
          [
           "Scrypt",
           1104344.22938102,
           "1350000"
          ],
          [
           "Scrypt",
           38151999.993099704,
           "42000000"
          ],
          [
           "HybridScryptHash256",
           40431856.9,
           "200000000"
          ],
          [
           "Scrypt",
           5804204.88794916,
           "10000000"
          ],
          [
           "Scrypt",
           2366066305.76482,
           "15000000000"
          ],
          [
           "SHA-256",
           14736400,
           "21000000"
          ],
          [
           "Scrypt",
           334709223.48313797,
           "337000000"
          ],
          [
           "Scrypt",
           1104157.42169891,
           "21000000"
          ],
          [
           "Scrypt",
           24215181.725,
           "250000000"
          ],
          [
           "Scrypt",
           25593737.1355044,
           "51200000"
          ],
          [
           "SHA-256",
           563336541.299966,
           "888000000"
          ],
          [
           "SHA-256",
           43536800,
           "47011968"
          ],
          [
           "SHA-256",
           22935396,
           "42000000"
          ],
          [
           "SHA-256",
           2278150,
           "80000000"
          ],
          [
           "SHA-256",
           200911.79151896,
           "250000"
          ],
          [
           "X11",
           1207310,
           "0"
          ],
          [
           "Scrypt",
           23150892.167968698,
           "23000000"
          ],
          [
           "Lyra2REv2",
           51173723.81663471,
           "84000000"
          ],
          [
           "Scrypt",
           119606941,
           "265420800"
          ],
          [
           "SHA-256",
           39195739.362088,
           "45000000"
          ],
          [
           "CryptoNight",
           184066828814,
           "184467440735"
          ],
          [
           "CryptoNight",
           6906587610.38292,
           "10000000000"
          ],
          [
           "Scrypt",
           68194674.8711679,
           "105120000"
          ],
          [
           "Scrypt",
           415032420,
           "1680000000"
          ],
          [
           "Scrypt",
           137517654.41397,
           "166386000"
          ],
          [
           "Scrypt",
           181919.2435974,
           "2628000"
          ],
          [
           "Scrypt",
           152270664.860648,
           "160000000"
          ],
          [
           "Scrypt",
           792537250,
           "1000000000"
          ],
          [
           "Stanford Folding",
           719416990,
           "1000000000"
          ],
          [
           "Multiple",
           65113302,
           "0"
          ],
          [
           "QuBit",
           6365285,
           "0"
          ],
          [
           "Scrypt",
           10140044.443029301,
           "3371337"
          ],
          [
           "Scrypt",
           4610340640.89,
           "10000000000"
          ],
          [
           "M7 POW",
           708506520,
           "1840000000"
          ],
          [
           "Scrypt",
           619478,
           "619478"
          ],
          [
           "SHA-256",
           12462620,
           "21000000"
          ],
          [
           "Scrypt",
           88213,
           "92000000000"
          ],
          [
           "X11",
           32221574.820996,
           "33000000"
          ],
          [
           "Lyra2RE",
           13742738,
           "65789100"
          ],
          [
           "SHA-256",
           14747200.0002,
           "53760000"
          ],
          [
           "X11",
           15863837.5,
           "21000000"
          ],
          [
           "Scrypt",
           32565300,
           "210240000"
          ],
          [
           "Scrypt",
           75614500,
           "250000000"
          ],
          [
           "Ethash",
           10495278,
           "16906397"
          ],
          [
           "Blake2b",
           33098296530,
           "0"
          ],
          [
           "X11",
           15867695,
           "16000000"
          ],
          [
           "SHA-256",
           20997476.865023103,
           "21000000"
          ],
          [
           "Scrypt",
           210000000,
           "210000000"
          ],
          [
           "1GB AES Pattern Search",
           11448949,
           "81962100"
          ],
          [
           "Scrypt",
           69836100,
           "84000000"
          ],
          [
           "SHA-256",
           21739971929,
           "21626280000 "
          ],
          [
           "X11",
           45110324,
           "84000000"
          ],
          [
           "Dagger",
           5702048,
           "30000000"
          ],
          [
           "Scrypt",
           636462.55983338,
           "168351300"
          ],
          [
           "X11GOST",
           17263355,
           "24000000"
          ],
          [
           "Scrypt",
           6570807.65677618,
           "20000000"
          ],
          [
           "X11",
           13654082.4987998,
           "25000000"
          ],
          [
           "Scrypt",
           616448,
           "616448"
          ],
          [
           "X11",
           1377917,
           "25000000"
          ],
          [
           "Equihash",
           115898131,
           "200000000"
          ],
          [
           "CryptoNight",
           7822432.72439746,
           "10000000"
          ],
          [
           "SHA-256",
           6243840,
           "9736000"
          ],
          [
           "Multiple",
           1000000000,
           "1200000000"
          ],
          [
           "Scrypt",
           116845228,
           "200000000"
          ],
          [
           "SHA-256",
           9106714,
           "10638298"
          ],
          [
           "Scrypt",
           11119200,
           "30000000"
          ],
          [
           "Lyra2Z",
           7568281.24956067,
           "21400000"
          ],
          [
           "Ethash",
           26205539,
           "26205539"
          ],
          [
           "Equihash",
           5613550,
           "21000000"
          ],
          [
           "DPoS",
           108202084,
           "125000000"
          ],
          [
           "Scrypt",
           196297971,
           "10000000000"
          ],
          [
           "X11",
           824000000,
           "500000000"
          ],
          [
           "X11",
           61364813,
           "228000000"
          ],
          [
           "CryptoNight",
           978145,
           "21000000"
          ],
          [
           "Scrypt",
           894026,
           "2714286"
          ],
          [
           "CryptoNight",
           9357088,
           "25000000"
          ],
          [
           "Lyra2RE",
           1876146.4435959999,
           "9999999"
          ],
          [
           "X11",
           536982074,
           "100000000000"
          ],
          [
           "CryptoNight-V7",
           10969318.522954,
           "185000000"
          ],
          [
           "Scrypt",
           3115258,
           "3360000"
          ],
          [
           "X11",
           30385540,
           "1000000000"
          ],
          [
           "Equihash",
           6921653.89980891,
           "17000000"
          ],
          [
           "Scrypt",
           99843408.3158479,
           "100000000 "
          ],
          [
           "Lyra2RE",
           18545757.5,
           "21000000"
          ],
          [
           "Dagger-Hashimoto",
           2232901,
           "2232901"
          ],
          [
           "Scrypt",
           64096052,
           "4000000000"
          ],
          [
           "NIST5",
           10123200,
           "48252000"
          ],
          [
           "Scrypt",
           20276099.146523997,
           "35520400"
          ],
          [
           "SHA-256",
           1317747500,
           "2500000000"
          ],
          [
           "Scrypt",
           13673406.4325268,
           "72000000"
          ],
          [
           "CryptoNight-V7",
           69036016.8340164,
           "105000000"
          ],
          [
           "Argon2d",
           19784224.6512734,
           "0"
          ],
          [
           "Blake2b",
           133248297,
           "340282367"
          ],
          [
           "Cloverhash",
           18407259.0885883,
           "30000000"
          ],
          [
           "CryptoNight",
           1809467143,
           "2000000000"
          ],
          [
           "X11",
           35138975,
           "100000000"
          ],
          [
           "Scrypt",
           18133195,
           "19276800"
          ],
          [
           "Scrypt",
           5167775,
           " 75000000"
          ],
          [
           "X11",
           26042364.373555303,
           "60000000"
          ],
          [
           "X11",
           2622886,
           "18900000"
          ],
          [
           "CryptoNight",
           14161803,
           "54000000"
          ],
          [
           "Time Travel",
           17801865.1605478,
           "21000000"
          ],
          [
           "Scrypt",
           163055097500,
           "200000000000"
          ],
          [
           "Keccak",
           2241009149.22257,
           "5000000000"
          ],
          [
           "X11",
           122475638.389743,
           "1100000000"
          ],
          [
           "SHA-256",
           17995589.6469082,
           "21000000"
          ],
          [
           "Scrypt",
           485214,
           "10500000000"
          ],
          [
           "Scrypt",
           143006669741.68698,
           "0"
          ],
          [
           "Scrypt",
           9704042,
           "20000000"
          ],
          [
           "Scrypt",
           17453749.4042601,
           "84000000"
          ],
          [
           "Scrypt",
           32646731.063036,
           "100000000"
          ],
          [
           "Scrypt",
           33716526,
           "100000000"
          ],
          [
           "CryptoNight",
           8946653,
           "88888888"
          ],
          [
           "Equihash",
           5211553258.01514,
           "21000000000"
          ],
          [
           "X11",
           2702855668.85288,
           "1800000000"
          ],
          [
           "NeoScrypt",
           4165967.57499639,
           "27000000"
          ],
          [
           "Equihash",
           17202361.088994,
           "21000000"
          ],
          [
           "Dagger",
           33986980,
           "156306732.71"
          ],
          [
           "Scrypt",
           99990001.493466,
           "100000000"
          ],
          [
           "X11",
           175215859,
           "350000000"
          ],
          [
           "NeoScrypt",
           6375259.04,
           "45000000"
          ],
          [
           "Ethash",
           12756367,
           "280000000"
          ],
          [
           "NeoScrypt",
           5832306.875,
           "31800000"
          ],
          [
           "DPoS",
           288090567.493887,
           "500000000"
          ],
          [
           "Multiple",
           481730566.566176,
           "660000000"
          ],
          [
           "CryptoNight",
           19281821413.4924,
           "85000000000"
          ],
          [
           "CryptoNight",
           4500000,
           "12500000"
          ],
          [
           "Ethash",
           520891780,
           "10000000000"
          ],
          [
           "X11",
           80316207,
           "550000000"
          ],
          [
           "CryptoNight-V7",
           441250233.377,
           "999481516"
          ],
          [
           "Scrypt",
           3964201248.87125,
           "4999999999"
          ],
          [
           "BLAKE256",
           30089671530.5228,
           " 90000000000"
          ],
          [
           "X11",
           4229040.50393462,
           "19800000"
          ],
          [
           "NeoScrypt",
           7847417.33355824,
           "21000000"
          ],
          [
           "NeoScrypt",
           299797953,
           "500000000"
          ],
          [
           "Scrypt",
           45483049.3398182,
           "64000000"
          ],
          [
           "X11",
           8478104.33969947,
           "23000000"
          ],
          [
           "SHA-256",
           20166000,
           "20166000"
          ],
          [
           "C11",
           11916588.09471,
           "23000000"
          ],
          [
           "CryptoNight",
           53139835213.77,
           "1000000000000"
          ],
          [
           "SkunkHash",
           4818338.98949984,
           "16600000"
          ],
          [
           "CryptoNight",
           133932467.77410801,
           "336000000"
          ],
          [
           "Scrypt",
           10000000000,
           "10000000000"
          ],
          [
           "Dagger",
           107325266.02778299,
           "100000000"
          ],
          [
           "Lyra2REv2",
           643795911.540095,
           "1100000000"
          ],
          [
           "Proof-of-BibleHash",
           1772091549.88818,
           "5200000000"
          ],
          [
           "Scrypt",
           12446100.00278,
           "40000000"
          ],
          [
           "Scrypt",
           14491014421,
           "18406979840"
          ],
          [
           "X11",
           211297638.500483,
           "500000000"
          ],
          [
           "Ethash",
           247612453,
           "6500000000"
          ],
          [
           "CryptoNight",
           80049082.9057215,
           "1000000000"
          ],
          [
           "Scrypt",
           4070212.1493015997,
           "21000000"
          ],
          [
           "IMesh",
           25000000,
           "25000000"
          ],
          [
           "Equihash",
           71355477,
           "70000000"
          ],
          [
           "Lyra2Z",
           27340501.6514783,
           "300000000"
          ],
          [
           "Semux BFT consensus",
           1231147,
           "100000000"
          ],
          [
           "X11",
           31801461.1867843,
           "100000000"
          ],
          [
           "CryptoNight",
           16016864,
           "18400000"
          ],
          [
           "NIST5",
           21069346.252259802,
           "21000000"
          ],
          [
           "Lyra2RE",
           5097689.71077377,
           "26280000"
          ],
          [
           "Tribus",
           795447,
           "18000000"
          ],
          [
           "Lyra2Z",
           6986399.70430446,
           "10500000"
          ],
          [
           "CryptoNight",
           84300,
           "600000518"
          ],
          [
           "CryptoNight Heavy",
           19153632,
           "150000000"
          ],
          [
           "CryptoNight",
           41294520017,
           "184000000000"
          ],
          [
           "Jump Consistent Hash",
           135862416.039898,
           "168000000"
          ],
          [
           "CryptoNight",
           560085952.404637,
           "1000000000"
          ],
          [
           "X16R",
           8125865.02097646,
           "22075700"
          ],
          [
           "HMQ1725",
           8645406.16776286,
           "21000000"
          ],
          [
           "X11",
           4993030.69736615,
           "21000000"
          ],
          [
           "Scrypt",
           1416663.06600024,
           "22105263"
          ],
          [
           "CryptoNight-V7",
           15580199.3087496,
           "1750000000"
          ],
          [
           "Cryptonight-GPU",
           4890897,
           "88188888"
          ],
          [
           "XEVAN",
           14746153.0962884,
           "210000000"
          ],
          [
           "CryptoNight Heavy",
           99553110528.8022,
           "184470000000"
          ],
          [
           "SHA-256",
           2100000000,
           "2100000000"
          ],
          [
           "X11",
           5015881.37315389,
           "25000000"
          ],
          [
           "X16R",
           9753753.61515394,
           "100000000"
          ],
          [
           "Equihash",
           4235111504,
           "7600000000"
          ],
          [
           "Lyra2Z",
           13634850,
           "84000000"
          ],
          [
           "SHA-256",
           17992514.6469233,
           "21000000"
          ],
          [
           "CryptoNight",
           1867054873.2839699,
           "8080000000"
          ],
          [
           "Blake",
           1578281.31341127,
           "105120001.44"
          ],
          [
           "Blake",
           15846721.248274697,
           "25228800"
          ],
          [
           "Exosis",
           406091.925,
           "21000000"
          ],
          [
           "Scrypt",
           35284717.173946,
           "120000000"
          ],
          [
           "Equihash",
           35687520,
           "262800000"
          ],
          [
           "Equihash",
           25150787.5,
           "30886000"
          ],
          [
           "QuBit",
           12925790.4226959,
           "100000000"
          ],
          [
           "SHA-256",
           52293836.62779579,
           "64000000"
          ],
          [
           "X13",
           1170292.5,
           "2100000"
          ],
          [
           "SHA-256",
           84613099.9999955,
           "168000000"
          ],
          [
           "DPoS",
           1000000000,
           "1000000000"
          ],
          [
           "Scrypt",
           55565076.3863525,
           "98100000000"
          ],
          [
           "NeoScrypt",
           3824685012,
           "4000000000"
          ],
          [
           "Blake",
           23356790.1494191,
           "7000000000"
          ],
          [
           "Scrypt",
           780210700,
           "1000000000"
          ],
          [
           "SHA-256",
           22986929.0854247,
           "42000000"
          ],
          [
           "Scrypt",
           29583989322.9213,
           "50000000000"
          ],
          [
           "Groestl",
           73298203.8873662,
           "105000000"
          ],
          [
           "Scrypt",
           5052555.91981545,
           "5000000"
          ],
          [
           "Scrypt",
           69684455.4387001,
           "182000000"
          ],
          [
           "DPoS",
           120012140,
           "159918400"
          ],
          [
           "Multiple",
           3332922.5,
           "2800000"
          ],
          [
           "Equihash+Scrypt",
           100000000,
           "2100000000"
          ],
          [
           "DPoS",
           1020544523.0722,
           "0"
          ],
          [
           "Ethash",
           24487944.095820397,
           "24487944"
          ],
          [
           "DPoS",
           1122382283.37,
           "0"
          ],
          [
           "SHA-256",
           1999999995.3056,
           "2000000000"
          ],
          [
           "CryptoNight",
           980222595,
           "1400222610"
          ],
          [
           "Equihash",
           7296537.5,
           "21000000"
          ]
         ],
         "hovertemplate": "<b>%{hovertext}</b><br><br>Class=%{marker.color}<br>PC 1=%{x}<br>PC 2=%{y}<br>PC 3=%{z}<br>Algorithm=%{customdata[0]}<br>TotalCoinsMined=%{customdata[1]}<br>TotalCoinSupply=%{customdata[2]}<extra></extra>",
         "hovertext": [
          "Bitcoin",
          "Ethereum",
          "Litecoin",
          "Monero",
          "Ethereum Classic",
          "ZCash",
          "DigiByte",
          "ProsperCoin",
          "Spreadcoin",
          "Argentum",
          "MyriadCoin",
          "MoonCoin",
          "ZetaCoin",
          "SexCoin",
          "Quatloo",
          "QuarkCoin",
          "Riecoin",
          "Digitalcoin ",
          "Catcoin",
          "CannaCoin",
          "CryptCoin",
          "Verge",
          "DevCoin",
          "EarthCoin",
          "E-Gulden",
          "Einsteinium",
          "Emerald",
          "Franko",
          "FeatherCoin",
          "GrandCoin",
          "GlobalCoin",
          "GoldCoin",
          "Infinite Coin",
          "IXcoin",
          "KrugerCoin",
          "LuckyCoin",
          "Litebar ",
          "MegaCoin",
          "MediterraneanCoin",
          "MinCoin",
          "NobleCoin",
          "Namecoin",
          "NyanCoin",
          "RonPaulCoin",
          "StableCoin",
          "SmartCoin",
          "SysCoin",
          "TigerCoin",
          "TerraCoin",
          "UnbreakableCoin",
          "Unobtanium",
          "UroCoin",
          "ViaCoin",
          "Vertcoin",
          "WorldCoin",
          "JouleCoin",
          "ByteCoin",
          "DigitalNote ",
          "MonaCoin",
          "Gulden",
          "PesetaCoin",
          "Wild Beast Coin",
          "Flo",
          "ArtByte",
          "Folding Coin",
          "Unitus",
          "CypherPunkCoin",
          "OmniCron",
          "GreenCoin",
          "Cryptonite",
          "MasterCoin",
          "SoonCoin",
          "1Credit",
          "MarsCoin ",
          "Crypto",
          "Anarchists Prime",
          "BowsCoin",
          "Song Coin",
          "BitZeny",
          "Expanse",
          "Siacoin",
          "MindCoin",
          "I0coin",
          "Revolution VR",
          "HOdlcoin",
          "Gamecredits",
          "CarpeDiemCoin",
          "Adzcoin",
          "SoilCoin",
          "YoCoin",
          "SibCoin",
          "Francs",
          "BolivarCoin",
          "Omni",
          "PizzaCoin",
          "Komodo",
          "Karbo",
          "ZayedCoin",
          "Circuits of Value",
          "DopeCoin",
          "DollarCoin",
          "Shilling",
          "ZCoin",
          "Elementrem",
          "ZClassic",
          "ARK",
          "KiloCoin",
          "ArtexCoin",
          "Kurrent",
          "Cannabis Industry Coin",
          "OsmiumCoin",
          "Bikercoins",
          "HexxCoin",
          "PacCoin",
          "Citadel",
          "BeaverCoin",
          "VaultCoin",
          "Zero",
          "Canada eCoin",
          "Zoin",
          "DubaiCoin",
          "EB3coin",
          "Coinonat",
          "BenjiRolls",
          "ILCoin",
          "EquiTrader",
          "Quantum Resistant Ledger",
          "Dynamic",
          "Nano",
          "ChanCoin",
          "Dinastycoin",
          "DigitalPrice",
          "Unify",
          "SocialCoin",
          "ArcticCoin",
          "DAS",
          "LeviarCoin",
          "Bitcore",
          "gCn Coin",
          "SmartCash",
          "Onix",
          "Bitcoin Cash",
          "Sojourn Coin",
          "NewYorkCoin",
          "FrazCoin",
          "Kronecoin",
          "AdCoin",
          "Linx",
          "Sumokoin",
          "BitcoinZ",
          "Elements",
          "VIVO Coin",
          "Bitcoin Gold",
          "Pirl",
          "eBoost",
          "Pura",
          "Innova",
          "Ellaism",
          "GoByte",
          "Lamden Tau",
          "SHIELD",
          "UltraNote",
          "BitCoal",
          "DaxxCoin",
          "AC3",
          "Lethean",
          "PopularCoin",
          "Photon",
          "Sucre",
          "SparksPay",
          "GunCoin",
          "IrishCoin",
          "Pioneer Coin",
          "UnitedBitcoin",
          "Interzone",
          "TurtleCoin",
          "MUNcoin",
          "Niobio Cash",
          "ShareChain",
          "Travelflex",
          "KREDS",
          "BiblePay",
          "BitFlip",
          "LottoCoin",
          "Crypto Improvement Fund",
          "Callisto Network",
          "BitTube",
          "Poseidon",
          "Aidos Kuneen",
          "Bitrolium",
          "Alpenschillling",
          "Semux",
          "FuturoCoin",
          "Monero Classic",
          "Jumpcoin",
          "Infinex",
          "KEYCO",
          "GINcoin",
          "PlatinCoin",
          "Loki",
          "Newton Coin",
          "MassGrid",
          "PluraCoin",
          "Motion",
          "PlusOneCoin",
          "Axe",
          "HexCoin",
          "Webchain",
          "Ryo",
          "Urals Coin",
          "Qwertycoin",
          "Project Pai",
          "Azart",
          "Xchange",
          "CrypticCoin",
          "Actinium",
          "Bitcoin SV",
          "FREDEnergy",
          "Universal Molecule",
          "Lithium",
          "Exosis",
          "Block-Logic",
          "Beam",
          "Bithereum",
          "SLICE",
          "BLAST",
          "Bitcoin Rhodium",
          "GlobalToken",
          "ALAX",
          "SolarCoin",
          "UFO Coin",
          "BlakeCoin",
          "Crypto Escudo",
          "Crown Coin",
          "SmileyCoin",
          "Groestlcoin",
          "Bata",
          "Pakcoin",
          "Lisk",
          "JoinCoin",
          "Vollar",
          "EOS",
          "Reality Clash",
          "Oxycoin",
          "ZEPHYR",
          "Beldex",
          "Horizen"
         ],
         "legendgroup": "0",
         "marker": {
          "color": [
           0,
           0,
           0,
           0,
           0,
           0,
           0,
           0,
           0,
           0,
           0,
           0,
           0,
           0,
           0,
           0,
           0,
           0,
           0,
           0,
           0,
           0,
           0,
           0,
           0,
           0,
           0,
           0,
           0,
           0,
           0,
           0,
           0,
           0,
           0,
           0,
           0,
           0,
           0,
           0,
           0,
           0,
           0,
           0,
           0,
           0,
           0,
           0,
           0,
           0,
           0,
           0,
           0,
           0,
           0,
           0,
           0,
           0,
           0,
           0,
           0,
           0,
           0,
           0,
           0,
           0,
           0,
           0,
           0,
           0,
           0,
           0,
           0,
           0,
           0,
           0,
           0,
           0,
           0,
           0,
           0,
           0,
           0,
           0,
           0,
           0,
           0,
           0,
           0,
           0,
           0,
           0,
           0,
           0,
           0,
           0,
           0,
           0,
           0,
           0,
           0,
           0,
           0,
           0,
           0,
           0,
           0,
           0,
           0,
           0,
           0,
           0,
           0,
           0,
           0,
           0,
           0,
           0,
           0,
           0,
           0,
           0,
           0,
           0,
           0,
           0,
           0,
           0,
           0,
           0,
           0,
           0,
           0,
           0,
           0,
           0,
           0,
           0,
           0,
           0,
           0,
           0,
           0,
           0,
           0,
           0,
           0,
           0,
           0,
           0,
           0,
           0,
           0,
           0,
           0,
           0,
           0,
           0,
           0,
           0,
           0,
           0,
           0,
           0,
           0,
           0,
           0,
           0,
           0,
           0,
           0,
           0,
           0,
           0,
           0,
           0,
           0,
           0,
           0,
           0,
           0,
           0,
           0,
           0,
           0,
           0,
           0,
           0,
           0,
           0,
           0,
           0,
           0,
           0,
           0,
           0,
           0,
           0,
           0,
           0,
           0,
           0,
           0,
           0,
           0,
           0,
           0,
           0,
           0,
           0,
           0,
           0,
           0,
           0,
           0,
           0,
           0,
           0,
           0,
           0,
           0,
           0,
           0,
           0,
           0,
           0,
           0,
           0,
           0,
           0,
           0,
           0,
           0,
           0,
           0,
           0,
           0,
           0,
           0,
           0,
           0,
           0,
           0,
           0,
           0,
           0,
           0
          ],
          "coloraxis": "coloraxis",
          "symbol": "diamond"
         },
         "mode": "markers",
         "name": "0",
         "scene": "scene",
         "showlegend": true,
         "type": "scatter3d",
         "x": [
          -0.15108025708479839,
          -0.14434519036408575,
          -0.15496724967320416,
          -0.1524541624957823,
          -0.14278558475015868,
          -0.14455411775926588,
          0.16878889591851,
          -0.15611496622471768,
          -0.22910272778832738,
          -0.15573107843527417,
          -0.08492780988469552,
          2.56854868273684,
          -0.1481614026658249,
          -0.15298304913724145,
          -0.155534932155232,
          -0.22885452045596205,
          -0.19738716448033228,
          -0.15558361672889554,
          -0.15609720645526495,
          -0.15618376365881853,
          -0.22919219397988091,
          0.19258615726092498,
          0.22725202057946056,
          0.09286723592712032,
          -0.1559297135479005,
          -0.15152948408020403,
          -0.15586895242677412,
          -0.15624084373783828,
          -0.17628295327444912,
          -0.13543724445976277,
          -0.1550343758263268,
          -0.15531223375538286,
          1.5949362711524673,
          -0.15104157034148089,
          -0.1525982703877806,
          -0.15595619056129797,
          -0.15631146360848513,
          -0.15556975987298746,
          -0.11969628955156916,
          -0.15619258362966093,
          -0.020946818772858422,
          -0.15111929373915303,
          -0.14984827775522222,
          -0.15617202850960363,
          -0.1542642876026215,
          -0.1556581168061778,
          -0.13825532159062462,
          -0.15058236098192118,
          -0.1508699683380023,
          -0.1508530437980611,
          -0.15144436718940027,
          -0.2293662866270912,
          -0.1558881117300084,
          -0.18636384317820234,
          -0.15298781673430692,
          -0.15064974751352458,
          3.8601558543737506,
          0.4547081765212381,
          -0.1547543083933743,
          -0.13933559054519576,
          -0.15347144896585993,
          -0.1563136800098657,
          -0.15333627271526856,
          -0.13954242616170404,
          -0.13669445740308636,
          -0.11897777913275447,
          -0.17878618097189683,
          -0.15618657532436317,
          -0.028970115520706302,
          -0.11742966476854158,
          -0.15632257939098876,
          -0.1511471116717679,
          0.4965031337077775,
          -0.22875268152780912,
          -0.14171609838223942,
          -0.15088669500848909,
          -0.22903795834258114,
          -0.15444426934144245,
          -0.15363545685724683,
          -0.1454142529910412,
          0.3817011902647956,
          -0.22907339139952934,
          -0.15104269432569742,
          -0.15227519662442882,
          -0.15378436900140308,
          -0.15488409540952358,
          0.26798424155866846,
          -0.22823309913551135,
          -0.15016119700537697,
          -0.15513213818697827,
          -0.1791379360646172,
          -0.15611224433915302,
          -0.22903660877868154,
          -0.15632263796171766,
          -0.22918679813060353,
          -0.2456575509716935,
          0.2994176013226666,
          -0.1513031235241732,
          -0.09902490624967963,
          -0.15348583342220354,
          -0.15126169573211773,
          -0.15598563778992003,
          -0.14221146601107895,
          -0.14515606296992645,
          -0.1445757662941387,
          3.6856648938284944,
          -0.0829724998981059,
          -0.21575203195134582,
          -0.22701240687148777,
          0.29941192332825767,
          -0.15630435564690343,
          0.29954281738963534,
          -0.14225715917036966,
          0.4867935108637362,
          -0.15121763476354577,
          -0.15627259857937323,
          -0.2219132635481089,
          -0.1445881468590942,
          -0.15440344249272003,
          -0.141975162865625,
          -0.1395971963402848,
          -0.12716618827504036,
          -0.1904724925942438,
          -0.15583443720464368,
          -0.11758685659259129,
          -0.15565635495375818,
          -0.1510749178083729,
          -0.15519691035196723,
          -0.01918591540557351,
          -0.15664078609559165,
          0.33558046498560146,
          -0.22824155404586816,
          -0.15597591937211328,
          -0.15573912659907763,
          -0.22863668601670606,
          -0.2292148528072267,
          0.29980738479929664,
          -0.12256757993270147,
          3.257727963350613,
          -0.13089125951477815,
          -0.22007700769681773,
          -0.1510794200847202,
          -0.08182009187668321,
          1.5932409995605314,
          -0.1560739116500512,
          -0.15552495279197678,
          -0.15522554165787847,
          -0.1552124535475653,
          0.2999911547857673,
          0.06798289830561206,
          -0.18354082673195887,
          -0.18097756968764225,
          -0.1444339861896614,
          -0.14891887392438993,
          -0.15440164903902767,
          -0.22475380962242375,
          -0.18082281182050028,
          -0.14351966493690782,
          -0.18092312227984222,
          3.690526708518007,
          -0.10919739736010231,
          1.1383133091943656,
          0.2993946940635242,
          -0.06832941584282236,
          -0.2244956231524862,
          -0.14017388026403121,
          -0.07235537970013557,
          1.094022011468793,
          -0.22918881630903332,
          -0.18097510630920413,
          -0.17400431022255414,
          -0.1553239570750497,
          -0.22911412495228073,
          -0.15105878490524208,
          -0.2073362859207137,
          8.045425651016156,
          -0.14970196804602368,
          0.30327377200211797,
          0.03696818144214577,
          -0.1484211923409717,
          -0.17190398401277798,
          -0.24092989500656803,
          -0.15589844369784894,
          0.151568605498477,
          -0.22324796955528878,
          -0.09650895152151058,
          0.30732632789273867,
          -0.15613574113327702,
          -0.16048749272574447,
          -0.1434237584140897,
          -0.1399926086924943,
          3.873130101204887,
          -0.2282823859356539,
          0.29957746064678675,
          -0.1905319565521234,
          -0.14210222238754786,
          -0.1557251189880432,
          -0.142295931825944,
          0.3035096045084196,
          0.5985250973671251,
          2.11013054203911,
          -0.13953372121440663,
          0.3131992062223561,
          -0.19709468563661978,
          -0.1757977008126828,
          -0.22917095422217534,
          -0.1561603622441053,
          -0.1400559058220532,
          -0.13296205342608702,
          -0.13481245602073216,
          3.1241897208705973,
          -0.1108550247440862,
          -0.22914229046152942,
          -0.196521814947528,
          -0.03905017955375437,
          -0.1416930335175367,
          -0.15107945770495723,
          0.37942899071207686,
          -0.13818737783366036,
          -0.13857972651850964,
          -0.14422403401392847,
          -0.15505134694445705,
          -0.142492009712385,
          -0.14426659181358834,
          -0.17799631327325202,
          -0.15035467751293097,
          -0.122950045351847,
          -0.1492212872131545,
          3.7027843926438,
          0.5404677556187978,
          -0.10604387895221422,
          -0.08899452083463853,
          -0.13969323192887256,
          -0.15086933787071966,
          0.5604050867434,
          -0.19694758928559208,
          -0.1562372597215645,
          -0.15419053775385408,
          3.6860571634082224,
          -0.11971374516062845,
          -0.1184941284515453,
          3.6959396888368596,
          -0.1451892645499544,
          3.6971855947528236,
          2.4462689611297006,
          0.32117925147976994,
          -0.14455517624898637
         ],
         "y": [
          -1.336285046434502,
          -1.882721002087634,
          -1.0155724761592442,
          -2.1329329803378805,
          -1.8827065968945778,
          -1.9389751221066371,
          -1.6912102162220868,
          -1.0156359767603758,
          -0.8623350510773444,
          -1.0156274089761876,
          -1.7023161065025918,
          -1.000354402707479,
          -1.3361169503088337,
          -1.015495683131321,
          -1.0156311386916566,
          -0.36528546789096084,
          -1.2423339889305733,
          -1.0156054222324888,
          -1.0156344307876484,
          -1.015637423293717,
          -0.8623416832504396,
          -1.6865699588531713,
          -1.3154751238792042,
          -1.0017516839562173,
          -1.015619850673447,
          -1.0153979261580357,
          -1.0156209182724676,
          -1.015641291652925,
          -1.630538731369194,
          -1.01464482078509,
          -1.015570228957374,
          -1.0155957140223788,
          -0.915553267615303,
          -1.336281678786616,
          -1.0154711000143504,
          -1.0156215775836523,
          -1.0156417261284119,
          -1.0156006527282424,
          -2.09766603769138,
          -1.0156363764864318,
          -1.012525936703606,
          -1.3362884445418473,
          -1.0152730804957304,
          -1.0156409439834264,
          -1.0156072138429086,
          -1.0156136607221742,
          -1.3356696784017343,
          -1.3362567370909597,
          -1.3362788766931684,
          -1.3362993632899782,
          -1.3363047506661407,
          -0.8623464358257285,
          -1.0156173850531045,
          -1.1961834132616198,
          -1.0155050096903382,
          -1.3362614403323572,
          -1.967483095000255,
          -2.1631012109195757,
          -1.015566144864116,
          -1.0151340678818455,
          -1.015489878128073,
          -1.0156426576091389,
          -1.015474420738325,
          -1.0147591067663617,
          -2.1946156546758613,
          -1.7041243448859433,
          -1.4929074713088113,
          -1.015632022822946,
          -1.0103349020903052,
          -2.136040631667795,
          -1.0156422715855682,
          -1.3362908660690676,
          -1.0119799795028355,
          -0.8623120924349182,
          -2.1072940103486433,
          -1.3362871287353844,
          -0.8623299908436844,
          -1.0155999041472579,
          -1.015552474664844,
          -1.8828238331312412,
          -2.0002435110687746,
          -0.8623301858052318,
          -1.33628177662848,
          -1.0154109495302348,
          -2.141675023491184,
          -1.0155652376517759,
          -1.3122913405789134,
          -0.8622963356808779,
          -2.0663387041238357,
          -1.015635575432581,
          -2.2001731163876412,
          -1.015635161931422,
          -0.8623321849298836,
          -1.0156422749330898,
          -0.8623452587843965,
          -1.357550058505826,
          -2.1708459900097203,
          -1.3362979374014017,
          -1.7030809337568502,
          -1.0155105555156436,
          -1.3362948525775926,
          -1.0156299198511485,
          -2.1351788502895825,
          -1.8828067318027513,
          -1.9389770065930667,
          0.14980244911947466,
          -1.0150357634207896,
          -0.8614502721835696,
          -0.8622732917892167,
          -2.1708528410768717,
          -1.0156418957952404,
          -2.170843758425464,
          -2.1073088691995925,
          -0.8577944530684056,
          -2.1329322515192213,
          -1.0156395045221012,
          -0.8622755476923243,
          -1.9389757727460664,
          -1.015532643485164,
          -2.1072906784658487,
          -2.0869831573669297,
          -1.0154154392892365,
          -0.6474168978498543,
          -1.0156199481599164,
          -1.3348020667435108,
          -1.0156255274902526,
          -2.132873596838821,
          -2.08656649629863,
          -2.03533703659864,
          -2.176238395884138,
          -2.168848047064875,
          -0.862306317931912,
          -1.0156228770288682,
          -1.015634466364556,
          -0.8623175981859007,
          -0.8623441757839934,
          -2.1708374869021556,
          -1.969756549991675,
          -0.8340299655687036,
          -1.2123755815779065,
          -0.8621734923069588,
          -1.336284973574363,
          -1.0152243928617348,
          -0.8633439017876895,
          -1.0156318251036511,
          -1.0156210237383025,
          -1.0156042065137203,
          -1.015603067204922,
          -2.1708416518615983,
          -1.9325975351419915,
          -0.8593975728330684,
          -1.630768825345152,
          -1.9389646647563454,
          -2.066303552505576,
          -1.0155324873665552,
          -0.862147185551925,
          -1.630765755845917,
          -1.8828109503265908,
          -1.6307668596224116,
          0.15000895674666115,
          -1.7036543791812084,
          -2.1469358052320424,
          -2.170849428794882,
          -1.8818828054434866,
          -0.8622402888698109,
          -2.1324415838003588,
          -1.0112220964691923,
          -1.185670599729689,
          -0.8623424294311455,
          -1.6307651435632962,
          -1.630435151590031,
          -1.0155919694103028,
          -0.8623377768641459,
          -1.33628269533844,
          -1.2452557258437318,
          -2.0744479868081855,
          -2.117572936623708,
          -2.1706987061665917,
          -1.0045950297871782,
          -2.0662276905875308,
          -1.1955118323035259,
          -3.636441316340197,
          -1.0156281085915309,
          -0.9994774801871689,
          -0.8621027871349803,
          -1.8823131908920794,
          -2.1707296543660757,
          -1.0156377851983815,
          -2.144490545423067,
          -1.9389050419594243,
          -2.13514670113258,
          0.020421644454161923,
          -0.8623098723129631,
          -2.170836928678027,
          -0.6474063254469896,
          -2.107304790153707,
          -2.021373055992251,
          -2.1351799039529746,
          -2.170830740710525,
          -2.0031902324624897,
          -2.1195511704412784,
          -2.1834879883717497,
          -2.1702184253350496,
          -1.2254570083439666,
          -2.130290561188264,
          -0.8623415680211501,
          -1.0156405671667026,
          -2.132865032212502,
          -2.0192845153689283,
          -0.2156630045648418,
          -1.8898501850307412,
          -1.3339849100858472,
          -0.862341384429905,
          -1.2254521722038734,
          -1.9341709315946944,
          -2.1351698971705306,
          -1.3362849768491727,
          -2.168544648601297,
          -2.1942903574077026,
          -2.19427834260694,
          -2.1122920531474865,
          -1.0156006008359462,
          -1.9389353514454013,
          -1.9389558062510712,
          -1.4928965031163572,
          -1.336246734673166,
          -0.39329567031715357,
          -1.336208174696943,
          0.1507870320837598,
          -1.011678032788685,
          -1.62654187323523,
          -2.1939926514176333,
          -1.0147722342792942,
          -1.336278821811531,
          -0.9821459410907606,
          -1.2423078600002282,
          -1.0156373760462598,
          -1.0155614973838245,
          0.14981641681641317,
          -1.7041900281938418,
          -2.1651152682395325,
          0.15076909762222535,
          -1.882808629388928,
          0.15087755266563352,
          -0.052747169511691575,
          -2.169755054329319,
          -1.9389752142472627
         ],
         "z": [
          0.07770744106109245,
          0.13898764335123928,
          -0.014732316015857264,
          0.142610041956414,
          0.13898718799491053,
          0.15881839482638063,
          0.15363985357445745,
          -0.014724339117413379,
          -0.011222859176075876,
          -0.014725176673394805,
          0.15497973779181007,
          -0.014091946212375516,
          0.07768620056897328,
          -0.014741341238212932,
          -0.01472443344110816,
          0.03323065883734448,
          0.006821968178760976,
          -0.014728199134901709,
          -0.014724543934460764,
          -0.01472420186216164,
          -0.01122199435664874,
          0.15299433513846766,
          0.0750956191261866,
          -0.01647052074868858,
          -0.014726475570051615,
          -0.014753947956872576,
          -0.014726258014968041,
          -0.014723702541579906,
          0.02133309821766349,
          -0.014845967014925085,
          -0.014732710608394784,
          -0.01472931869927614,
          -0.02735695675367788,
          0.07770699490077014,
          -0.014744491409233099,
          -0.014726253701184563,
          -0.01472371338576917,
          -0.014728873685055396,
          0.1812115402667169,
          -0.014724362275025263,
          -0.015032722562104701,
          0.07770789125682202,
          -0.014770230582281286,
          -0.014723681038560288,
          -0.014726565174801644,
          -0.014727086670813447,
          0.07763191373232534,
          0.07770387050980819,
          0.07770676897799764,
          0.07770974607234651,
          0.0777099079809689,
          -0.011221489267097378,
          -0.014726788386835268,
          -0.05966856164196967,
          -0.014739998911018615,
          0.07770447969334011,
          0.24472587559481418,
          0.2694349605350926,
          -0.014733008671949998,
          -0.014779354612958482,
          -0.01474268888078706,
          -0.014723581136055952,
          -0.01474478092980626,
          -0.014833736349809995,
          0.2441268809006465,
          0.15520546181500308,
          0.08387286776768327,
          -0.014724984934243446,
          -0.01535759789089697,
          0.1796624646050822,
          -0.014723646176165034,
          0.07770821207105566,
          -0.014572248147819971,
          -0.011225810880633973,
          -0.01792006784725809,
          0.07770794361755314,
          -0.011223522657822938,
          -0.014727808715599608,
          -0.014733817254113735,
          0.13900138383023475,
          0.04564319575708698,
          -0.011223531426224216,
          0.07770700786327679,
          -0.014752843888255908,
          -0.020173330402492213,
          -0.014733275004142954,
          0.07467815153664645,
          -0.011227545505563133,
          0.0732568504632653,
          -0.014723372682726285,
          0.17807243052716187,
          -0.014724453988968773,
          -0.011223204297754428,
          -0.014723645753637453,
          -0.011221472217858687,
          0.07641063510807472,
          0.2703918955569666,
          0.07770907096948154,
          0.15507552972410507,
          -0.014739716858801152,
          0.07770866852238623,
          -0.014725079286603248,
          0.2188636985919547,
          0.13899918251929688,
          0.15881864449116412,
          0.14436530238489143,
          -0.014734807772210241,
          -0.011336757067319656,
          -0.011229602043595828,
          0.27039287933052575,
          -0.014723681467344025,
          0.2703917037003959,
          -0.017918485318763954,
          -0.011132600580830695,
          0.14261122551568484,
          -0.014723993805339466,
          -0.011223961281373708,
          0.15881845334767222,
          -0.014737482505317805,
          -0.017920819189572897,
          0.11517043865136564,
          -0.014726023981307108,
          -0.11654028891593049,
          -0.014726362180033602,
          0.07752812315715399,
          -0.014725370584281307,
          0.1426029011301663,
          0.2758146965416295,
          0.05029488999788109,
          0.14349039281173925,
          0.2701409694704993,
          -0.011226112301697563,
          -0.014726086549367712,
          -0.014724165565522494,
          -0.01122489462752883,
          -0.011221657907600959,
          0.2703910734891665,
          -0.09553617429489494,
          -0.037400512336595644,
          0.19131254274838994,
          -0.011236790058496543,
          0.0777074314082755,
          -0.01470635756726697,
          -0.0349007867647236,
          -0.014724896066115446,
          -0.014725884225941595,
          -0.014728001530680134,
          -0.0147281524711595,
          0.27039186669603554,
          0.15811863014300895,
          -0.01159971200317468,
          0.021361443906873497,
          0.15881700939210136,
          0.07325306741267379,
          -0.014737503188575396,
          -0.011245464949914359,
          0.0213611617984018,
          0.13900149755008895,
          0.02136121669338465,
          0.14434053820569165,
          0.15514776565925978,
          0.2678122648335554,
          0.2703923684407305,
          0.13894579096576665,
          -0.011231746316582764,
          0.14255185561115896,
          -0.015274656340062314,
          0.11444139270226719,
          -0.011221883044267212,
          0.02136091461145685,
          0.021320510333393345,
          -0.01472987185793498,
          -0.011222477293595774,
          0.07770712380698021,
          -0.032255071388194945,
          0.26454015594954927,
          0.45180118608601144,
          0.27037463853894755,
          -0.016118040605879787,
          0.0732426272857533,
          -0.05975050528580393,
          -12.317976755656153,
          -0.014725250054513361,
          -0.016737862864868624,
          -0.011250309109070116,
          0.1389785918461439,
          0.2703833332676084,
          -0.014724099527848469,
          0.4081353281738202,
          0.1588094493679972,
          0.21886136712068902,
          0.224304970646738,
          -0.011225641402166354,
          0.270390753197371,
          -0.11654187816436941,
          -0.017918913077887188,
          0.18128637264346892,
          0.21886376276269928,
          0.2703939578014365,
          0.10341223756121001,
          0.2648692670418882,
          0.18658805532202488,
          0.27031560346948735,
          0.13434104260670132,
          0.22549900820846125,
          -0.011221988864073135,
          -0.014723723312924044,
          0.14261314910745335,
          0.07349017291654165,
          0.1968204027987329,
          0.08967187660853919,
          0.07741709494589727,
          -0.011221985508833295,
          0.13434094109516223,
          0.1582343584674878,
          0.2188629456082988,
          0.07770743184213617,
          0.2701428447986644,
          0.18262370176963602,
          0.18262155718673534,
          0.3941934607558509,
          -0.014728340835272033,
          0.15881479898644904,
          0.1588159041862607,
          0.08387210660959792,
          0.07770266289641484,
          0.004707334699815668,
          0.07769827393955835,
          0.14424091524677693,
          -0.014570042094763118,
          0.02082893066069758,
          0.18263196986168054,
          -0.014831997161018184,
          0.07770676170704471,
          -0.01881540953772911,
          0.0068186518173438985,
          -0.014724264446821317,
          -0.014733092415118863,
          0.14436369350447145,
          0.1552141831939529,
          0.2213658495081484,
          0.14423637173320072,
          0.13899942203461058,
          0.14422200314740183,
          0.06712413468328854,
          0.2702569834655811,
          0.1588184070335629
         ]
        },
        {
         "customdata": [
          [
           "SHA-256 + Hive",
           638382332.208514,
           "840000000"
          ],
          [
           "ECC 256K1",
           1000000000,
           "1000000000"
          ],
          [
           "Leased POS",
           100000000,
           "100000000"
          ]
         ],
         "hovertemplate": "<b>%{hovertext}</b><br><br>Class=%{marker.color}<br>PC 1=%{x}<br>PC 2=%{y}<br>PC 3=%{z}<br>Algorithm=%{customdata[0]}<br>TotalCoinsMined=%{customdata[1]}<br>TotalCoinSupply=%{customdata[2]}<extra></extra>",
         "hovertext": [
          "LitecoinCash",
          "Acute Angle Cloud",
          "Waves"
         ],
         "legendgroup": "3",
         "marker": {
          "color": [
           3,
           3,
           3
          ],
          "coloraxis": "coloraxis",
          "symbol": "square"
         },
         "mode": "markers",
         "name": "3",
         "scene": "scene",
         "showlegend": true,
         "type": "scatter3d",
         "x": [
          -0.35573569665093996,
          -0.40725972454517095,
          -0.425258707668709
         ],
         "y": [
          1.9745367820844246,
          -5.985289280285727,
          3.6093492513610923
         ],
         "z": [
          11.745115126507635,
          12.853651869114508,
          23.569207492483187
         ]
        },
        {
         "customdata": [
          [
           "TRC10",
           989988713439.649,
           "990000000000"
          ]
         ],
         "hovertemplate": "<b>%{hovertext}</b><br><br>Class=%{marker.color}<br>PC 1=%{x}<br>PC 2=%{y}<br>PC 3=%{z}<br>Algorithm=%{customdata[0]}<br>TotalCoinsMined=%{customdata[1]}<br>TotalCoinSupply=%{customdata[2]}<extra></extra>",
         "hovertext": [
          "BitTorrent"
         ],
         "legendgroup": "2",
         "marker": {
          "color": [
           2
          ],
          "coloraxis": "coloraxis",
          "symbol": "x"
         },
         "mode": "markers",
         "name": "2",
         "scene": "scene",
         "showlegend": true,
         "type": "scatter3d",
         "x": [
          34.08316351337313
         ],
         "y": [
          2.6892016215207275
         ],
         "z": [
          -0.18824233456180875
         ]
        }
       ],
       "layout": {
        "coloraxis": {
         "colorbar": {
          "title": {
           "text": "Class"
          }
         },
         "colorscale": [
          [
           0,
           "#0d0887"
          ],
          [
           0.1111111111111111,
           "#46039f"
          ],
          [
           0.2222222222222222,
           "#7201a8"
          ],
          [
           0.3333333333333333,
           "#9c179e"
          ],
          [
           0.4444444444444444,
           "#bd3786"
          ],
          [
           0.5555555555555556,
           "#d8576b"
          ],
          [
           0.6666666666666666,
           "#ed7953"
          ],
          [
           0.7777777777777778,
           "#fb9f3a"
          ],
          [
           0.8888888888888888,
           "#fdca26"
          ],
          [
           1,
           "#f0f921"
          ]
         ]
        },
        "legend": {
         "title": {
          "text": "Class"
         },
         "tracegroupgap": 0,
         "x": 0,
         "y": 1
        },
        "margin": {
         "t": 60
        },
        "scene": {
         "domain": {
          "x": [
           0,
           1
          ],
          "y": [
           0,
           1
          ]
         },
         "xaxis": {
          "title": {
           "text": "PC 1"
          }
         },
         "yaxis": {
          "title": {
           "text": "PC 2"
          }
         },
         "zaxis": {
          "title": {
           "text": "PC 3"
          }
         }
        },
        "template": {
         "data": {
          "bar": [
           {
            "error_x": {
             "color": "#2a3f5f"
            },
            "error_y": {
             "color": "#2a3f5f"
            },
            "marker": {
             "line": {
              "color": "#E5ECF6",
              "width": 0.5
             }
            },
            "type": "bar"
           }
          ],
          "barpolar": [
           {
            "marker": {
             "line": {
              "color": "#E5ECF6",
              "width": 0.5
             }
            },
            "type": "barpolar"
           }
          ],
          "carpet": [
           {
            "aaxis": {
             "endlinecolor": "#2a3f5f",
             "gridcolor": "white",
             "linecolor": "white",
             "minorgridcolor": "white",
             "startlinecolor": "#2a3f5f"
            },
            "baxis": {
             "endlinecolor": "#2a3f5f",
             "gridcolor": "white",
             "linecolor": "white",
             "minorgridcolor": "white",
             "startlinecolor": "#2a3f5f"
            },
            "type": "carpet"
           }
          ],
          "choropleth": [
           {
            "colorbar": {
             "outlinewidth": 0,
             "ticks": ""
            },
            "type": "choropleth"
           }
          ],
          "contour": [
           {
            "colorbar": {
             "outlinewidth": 0,
             "ticks": ""
            },
            "colorscale": [
             [
              0,
              "#0d0887"
             ],
             [
              0.1111111111111111,
              "#46039f"
             ],
             [
              0.2222222222222222,
              "#7201a8"
             ],
             [
              0.3333333333333333,
              "#9c179e"
             ],
             [
              0.4444444444444444,
              "#bd3786"
             ],
             [
              0.5555555555555556,
              "#d8576b"
             ],
             [
              0.6666666666666666,
              "#ed7953"
             ],
             [
              0.7777777777777778,
              "#fb9f3a"
             ],
             [
              0.8888888888888888,
              "#fdca26"
             ],
             [
              1,
              "#f0f921"
             ]
            ],
            "type": "contour"
           }
          ],
          "contourcarpet": [
           {
            "colorbar": {
             "outlinewidth": 0,
             "ticks": ""
            },
            "type": "contourcarpet"
           }
          ],
          "heatmap": [
           {
            "colorbar": {
             "outlinewidth": 0,
             "ticks": ""
            },
            "colorscale": [
             [
              0,
              "#0d0887"
             ],
             [
              0.1111111111111111,
              "#46039f"
             ],
             [
              0.2222222222222222,
              "#7201a8"
             ],
             [
              0.3333333333333333,
              "#9c179e"
             ],
             [
              0.4444444444444444,
              "#bd3786"
             ],
             [
              0.5555555555555556,
              "#d8576b"
             ],
             [
              0.6666666666666666,
              "#ed7953"
             ],
             [
              0.7777777777777778,
              "#fb9f3a"
             ],
             [
              0.8888888888888888,
              "#fdca26"
             ],
             [
              1,
              "#f0f921"
             ]
            ],
            "type": "heatmap"
           }
          ],
          "heatmapgl": [
           {
            "colorbar": {
             "outlinewidth": 0,
             "ticks": ""
            },
            "colorscale": [
             [
              0,
              "#0d0887"
             ],
             [
              0.1111111111111111,
              "#46039f"
             ],
             [
              0.2222222222222222,
              "#7201a8"
             ],
             [
              0.3333333333333333,
              "#9c179e"
             ],
             [
              0.4444444444444444,
              "#bd3786"
             ],
             [
              0.5555555555555556,
              "#d8576b"
             ],
             [
              0.6666666666666666,
              "#ed7953"
             ],
             [
              0.7777777777777778,
              "#fb9f3a"
             ],
             [
              0.8888888888888888,
              "#fdca26"
             ],
             [
              1,
              "#f0f921"
             ]
            ],
            "type": "heatmapgl"
           }
          ],
          "histogram": [
           {
            "marker": {
             "colorbar": {
              "outlinewidth": 0,
              "ticks": ""
             }
            },
            "type": "histogram"
           }
          ],
          "histogram2d": [
           {
            "colorbar": {
             "outlinewidth": 0,
             "ticks": ""
            },
            "colorscale": [
             [
              0,
              "#0d0887"
             ],
             [
              0.1111111111111111,
              "#46039f"
             ],
             [
              0.2222222222222222,
              "#7201a8"
             ],
             [
              0.3333333333333333,
              "#9c179e"
             ],
             [
              0.4444444444444444,
              "#bd3786"
             ],
             [
              0.5555555555555556,
              "#d8576b"
             ],
             [
              0.6666666666666666,
              "#ed7953"
             ],
             [
              0.7777777777777778,
              "#fb9f3a"
             ],
             [
              0.8888888888888888,
              "#fdca26"
             ],
             [
              1,
              "#f0f921"
             ]
            ],
            "type": "histogram2d"
           }
          ],
          "histogram2dcontour": [
           {
            "colorbar": {
             "outlinewidth": 0,
             "ticks": ""
            },
            "colorscale": [
             [
              0,
              "#0d0887"
             ],
             [
              0.1111111111111111,
              "#46039f"
             ],
             [
              0.2222222222222222,
              "#7201a8"
             ],
             [
              0.3333333333333333,
              "#9c179e"
             ],
             [
              0.4444444444444444,
              "#bd3786"
             ],
             [
              0.5555555555555556,
              "#d8576b"
             ],
             [
              0.6666666666666666,
              "#ed7953"
             ],
             [
              0.7777777777777778,
              "#fb9f3a"
             ],
             [
              0.8888888888888888,
              "#fdca26"
             ],
             [
              1,
              "#f0f921"
             ]
            ],
            "type": "histogram2dcontour"
           }
          ],
          "mesh3d": [
           {
            "colorbar": {
             "outlinewidth": 0,
             "ticks": ""
            },
            "type": "mesh3d"
           }
          ],
          "parcoords": [
           {
            "line": {
             "colorbar": {
              "outlinewidth": 0,
              "ticks": ""
             }
            },
            "type": "parcoords"
           }
          ],
          "pie": [
           {
            "automargin": true,
            "type": "pie"
           }
          ],
          "scatter": [
           {
            "marker": {
             "colorbar": {
              "outlinewidth": 0,
              "ticks": ""
             }
            },
            "type": "scatter"
           }
          ],
          "scatter3d": [
           {
            "line": {
             "colorbar": {
              "outlinewidth": 0,
              "ticks": ""
             }
            },
            "marker": {
             "colorbar": {
              "outlinewidth": 0,
              "ticks": ""
             }
            },
            "type": "scatter3d"
           }
          ],
          "scattercarpet": [
           {
            "marker": {
             "colorbar": {
              "outlinewidth": 0,
              "ticks": ""
             }
            },
            "type": "scattercarpet"
           }
          ],
          "scattergeo": [
           {
            "marker": {
             "colorbar": {
              "outlinewidth": 0,
              "ticks": ""
             }
            },
            "type": "scattergeo"
           }
          ],
          "scattergl": [
           {
            "marker": {
             "colorbar": {
              "outlinewidth": 0,
              "ticks": ""
             }
            },
            "type": "scattergl"
           }
          ],
          "scattermapbox": [
           {
            "marker": {
             "colorbar": {
              "outlinewidth": 0,
              "ticks": ""
             }
            },
            "type": "scattermapbox"
           }
          ],
          "scatterpolar": [
           {
            "marker": {
             "colorbar": {
              "outlinewidth": 0,
              "ticks": ""
             }
            },
            "type": "scatterpolar"
           }
          ],
          "scatterpolargl": [
           {
            "marker": {
             "colorbar": {
              "outlinewidth": 0,
              "ticks": ""
             }
            },
            "type": "scatterpolargl"
           }
          ],
          "scatterternary": [
           {
            "marker": {
             "colorbar": {
              "outlinewidth": 0,
              "ticks": ""
             }
            },
            "type": "scatterternary"
           }
          ],
          "surface": [
           {
            "colorbar": {
             "outlinewidth": 0,
             "ticks": ""
            },
            "colorscale": [
             [
              0,
              "#0d0887"
             ],
             [
              0.1111111111111111,
              "#46039f"
             ],
             [
              0.2222222222222222,
              "#7201a8"
             ],
             [
              0.3333333333333333,
              "#9c179e"
             ],
             [
              0.4444444444444444,
              "#bd3786"
             ],
             [
              0.5555555555555556,
              "#d8576b"
             ],
             [
              0.6666666666666666,
              "#ed7953"
             ],
             [
              0.7777777777777778,
              "#fb9f3a"
             ],
             [
              0.8888888888888888,
              "#fdca26"
             ],
             [
              1,
              "#f0f921"
             ]
            ],
            "type": "surface"
           }
          ],
          "table": [
           {
            "cells": {
             "fill": {
              "color": "#EBF0F8"
             },
             "line": {
              "color": "white"
             }
            },
            "header": {
             "fill": {
              "color": "#C8D4E3"
             },
             "line": {
              "color": "white"
             }
            },
            "type": "table"
           }
          ]
         },
         "layout": {
          "annotationdefaults": {
           "arrowcolor": "#2a3f5f",
           "arrowhead": 0,
           "arrowwidth": 1
          },
          "autotypenumbers": "strict",
          "coloraxis": {
           "colorbar": {
            "outlinewidth": 0,
            "ticks": ""
           }
          },
          "colorscale": {
           "diverging": [
            [
             0,
             "#8e0152"
            ],
            [
             0.1,
             "#c51b7d"
            ],
            [
             0.2,
             "#de77ae"
            ],
            [
             0.3,
             "#f1b6da"
            ],
            [
             0.4,
             "#fde0ef"
            ],
            [
             0.5,
             "#f7f7f7"
            ],
            [
             0.6,
             "#e6f5d0"
            ],
            [
             0.7,
             "#b8e186"
            ],
            [
             0.8,
             "#7fbc41"
            ],
            [
             0.9,
             "#4d9221"
            ],
            [
             1,
             "#276419"
            ]
           ],
           "sequential": [
            [
             0,
             "#0d0887"
            ],
            [
             0.1111111111111111,
             "#46039f"
            ],
            [
             0.2222222222222222,
             "#7201a8"
            ],
            [
             0.3333333333333333,
             "#9c179e"
            ],
            [
             0.4444444444444444,
             "#bd3786"
            ],
            [
             0.5555555555555556,
             "#d8576b"
            ],
            [
             0.6666666666666666,
             "#ed7953"
            ],
            [
             0.7777777777777778,
             "#fb9f3a"
            ],
            [
             0.8888888888888888,
             "#fdca26"
            ],
            [
             1,
             "#f0f921"
            ]
           ],
           "sequentialminus": [
            [
             0,
             "#0d0887"
            ],
            [
             0.1111111111111111,
             "#46039f"
            ],
            [
             0.2222222222222222,
             "#7201a8"
            ],
            [
             0.3333333333333333,
             "#9c179e"
            ],
            [
             0.4444444444444444,
             "#bd3786"
            ],
            [
             0.5555555555555556,
             "#d8576b"
            ],
            [
             0.6666666666666666,
             "#ed7953"
            ],
            [
             0.7777777777777778,
             "#fb9f3a"
            ],
            [
             0.8888888888888888,
             "#fdca26"
            ],
            [
             1,
             "#f0f921"
            ]
           ]
          },
          "colorway": [
           "#636efa",
           "#EF553B",
           "#00cc96",
           "#ab63fa",
           "#FFA15A",
           "#19d3f3",
           "#FF6692",
           "#B6E880",
           "#FF97FF",
           "#FECB52"
          ],
          "font": {
           "color": "#2a3f5f"
          },
          "geo": {
           "bgcolor": "white",
           "lakecolor": "white",
           "landcolor": "#E5ECF6",
           "showlakes": true,
           "showland": true,
           "subunitcolor": "white"
          },
          "hoverlabel": {
           "align": "left"
          },
          "hovermode": "closest",
          "mapbox": {
           "style": "light"
          },
          "paper_bgcolor": "white",
          "plot_bgcolor": "#E5ECF6",
          "polar": {
           "angularaxis": {
            "gridcolor": "white",
            "linecolor": "white",
            "ticks": ""
           },
           "bgcolor": "#E5ECF6",
           "radialaxis": {
            "gridcolor": "white",
            "linecolor": "white",
            "ticks": ""
           }
          },
          "scene": {
           "xaxis": {
            "backgroundcolor": "#E5ECF6",
            "gridcolor": "white",
            "gridwidth": 2,
            "linecolor": "white",
            "showbackground": true,
            "ticks": "",
            "zerolinecolor": "white"
           },
           "yaxis": {
            "backgroundcolor": "#E5ECF6",
            "gridcolor": "white",
            "gridwidth": 2,
            "linecolor": "white",
            "showbackground": true,
            "ticks": "",
            "zerolinecolor": "white"
           },
           "zaxis": {
            "backgroundcolor": "#E5ECF6",
            "gridcolor": "white",
            "gridwidth": 2,
            "linecolor": "white",
            "showbackground": true,
            "ticks": "",
            "zerolinecolor": "white"
           }
          },
          "shapedefaults": {
           "line": {
            "color": "#2a3f5f"
           }
          },
          "ternary": {
           "aaxis": {
            "gridcolor": "white",
            "linecolor": "white",
            "ticks": ""
           },
           "baxis": {
            "gridcolor": "white",
            "linecolor": "white",
            "ticks": ""
           },
           "bgcolor": "#E5ECF6",
           "caxis": {
            "gridcolor": "white",
            "linecolor": "white",
            "ticks": ""
           }
          },
          "title": {
           "x": 0.05
          },
          "xaxis": {
           "automargin": true,
           "gridcolor": "white",
           "linecolor": "white",
           "ticks": "",
           "title": {
            "standoff": 15
           },
           "zerolinecolor": "white",
           "zerolinewidth": 2
          },
          "yaxis": {
           "automargin": true,
           "gridcolor": "white",
           "linecolor": "white",
           "ticks": "",
           "title": {
            "standoff": 15
           },
           "zerolinecolor": "white",
           "zerolinewidth": 2
          }
         }
        }
       }
      }
     },
     "metadata": {}
    }
   ],
   "source": [
    "# Creating a 3D-Scatter with the PCA data and the clusters\n",
    "# Creating a 3D-Scatter with the PCA data and the clusters\n",
    "fig = px.scatter_3d(\n",
    "    clustered_df, \n",
    "    x=\"PC 1\", \n",
    "    y=\"PC 2\", \n",
    "    z=\"PC 3\", \n",
    "    color=\"Class\", \n",
    "    symbol=\"Class\", \n",
    "    hover_name=\"CoinName\", \n",
    "    hover_data=[\"Algorithm\", \"TotalCoinsMined\", \"TotalCoinSupply\"])\n",
    "fig.update_layout(legend=dict(x=0, y=1))\n",
    "fig.show()\n"
   ]
  },
  {
   "cell_type": "code",
   "execution_count": 45,
   "metadata": {},
   "outputs": [
    {
     "output_type": "display_data",
     "data": {},
     "metadata": {}
    },
    {
     "output_type": "execute_result",
     "data": {
      "text/html": "<div id='1102'>\n\n\n\n\n\n  <div class=\"bk-root\" id=\"af2d9135-c4c6-4f37-b851-1a19f1c432ec\" data-root-id=\"1102\"></div>\n</div>\n<script type=\"application/javascript\">(function(root) {\n  function embed_document(root) {\n    var docs_json = {\"d36a8791-bcd6-4959-8783-d52c3f0fd92b\":{\"roots\":{\"references\":[{\"attributes\":{\"columns\":[{\"id\":\"1108\"},{\"id\":\"1113\"},{\"id\":\"1118\"},{\"id\":\"1123\"},{\"id\":\"1128\"},{\"id\":\"1133\"}],\"height\":300,\"reorderable\":false,\"source\":{\"id\":\"1104\"},\"view\":{\"id\":\"1137\"},\"width\":700},\"id\":\"1136\",\"type\":\"DataTable\"},{\"attributes\":{\"margin\":[5,5,5,5],\"name\":\"HSpacer01707\",\"sizing_mode\":\"stretch_width\"},\"id\":\"1142\",\"type\":\"Spacer\"},{\"attributes\":{\"editor\":{\"id\":\"1122\"},\"field\":\"TotalCoinsMined\",\"formatter\":{\"id\":\"1121\"},\"title\":\"TotalCoinsMined\"},\"id\":\"1123\",\"type\":\"TableColumn\"},{\"attributes\":{},\"id\":\"1111\",\"type\":\"StringFormatter\"},{\"attributes\":{\"source\":{\"id\":\"1104\"}},\"id\":\"1137\",\"type\":\"CDSView\"},{\"attributes\":{\"editor\":{\"id\":\"1117\"},\"field\":\"ProofType\",\"formatter\":{\"id\":\"1116\"},\"title\":\"ProofType\"},\"id\":\"1118\",\"type\":\"TableColumn\"},{\"attributes\":{},\"id\":\"1107\",\"type\":\"StringEditor\"},{\"attributes\":{},\"id\":\"1117\",\"type\":\"StringEditor\"},{\"attributes\":{\"format\":\"0,0.0[00000]\"},\"id\":\"1121\",\"type\":\"NumberFormatter\"},{\"attributes\":{\"editor\":{\"id\":\"1112\"},\"field\":\"Algorithm\",\"formatter\":{\"id\":\"1111\"},\"title\":\"Algorithm\"},\"id\":\"1113\",\"type\":\"TableColumn\"},{\"attributes\":{},\"id\":\"1112\",\"type\":\"StringEditor\"},{\"attributes\":{},\"id\":\"1132\",\"type\":\"IntEditor\"},{\"attributes\":{\"editor\":{\"id\":\"1132\"},\"field\":\"Class\",\"formatter\":{\"id\":\"1131\"},\"title\":\"Class\"},\"id\":\"1133\",\"type\":\"TableColumn\"},{\"attributes\":{\"children\":[{\"id\":\"1103\"},{\"id\":\"1136\"},{\"id\":\"1142\"}],\"margin\":[0,0,0,0],\"name\":\"Row01702\",\"tags\":[\"embedded\"]},\"id\":\"1102\",\"type\":\"Row\"},{\"attributes\":{},\"id\":\"1139\",\"type\":\"UnionRenderers\"},{\"attributes\":{\"data\":{\"Algorithm\":[\"Scrypt\",\"Scrypt\",\"X13\",\"SHA-256\",\"Ethash\",\"Scrypt\",\"X11\",\"CryptoNight-V7\",\"Ethash\",\"Equihash\",\"SHA-512\",\"Multiple\",\"SHA-256\",\"SHA-256\",\"Scrypt\",\"X15\",\"X11\",\"Scrypt\",\"Scrypt\",\"Scrypt\",\"Multiple\",\"Scrypt\",\"SHA-256\",\"Scrypt\",\"Scrypt\",\"Scrypt\",\"Quark\",\"Groestl\",\"Scrypt\",\"Scrypt\",\"Scrypt\",\"Scrypt\",\"Scrypt\",\"X11\",\"Scrypt\",\"Groestl\",\"Multiple\",\"SHA-256\",\"Scrypt\",\"Scrypt\",\"Scrypt\",\"Scrypt\",\"PoS\",\"Scrypt\",\"Scrypt\",\"NeoScrypt\",\"Scrypt\",\"Scrypt\",\"Scrypt\",\"Scrypt\",\"X11\",\"Scrypt\",\"X11\",\"SHA-256\",\"Scrypt\",\"Scrypt\",\"Scrypt\",\"SHA3\",\"Scrypt\",\"HybridScryptHash256\",\"Scrypt\",\"Scrypt\",\"SHA-256\",\"Scrypt\",\"X13\",\"Scrypt\",\"SHA-256\",\"Scrypt\",\"X13\",\"NeoScrypt\",\"Scrypt\",\"Scrypt\",\"Scrypt\",\"Scrypt\",\"Scrypt\",\"Scrypt\",\"X11\",\"X11\",\"SHA-256\",\"Multiple\",\"SHA-256\",\"PHI1612\",\"X11\",\"SHA-256\",\"SHA-256\",\"SHA-256\",\"X11\",\"Scrypt\",\"Scrypt\",\"Scrypt\",\"Scrypt\",\"Lyra2REv2\",\"Scrypt\",\"X11\",\"Multiple\",\"SHA-256\",\"X13\",\"Scrypt\",\"CryptoNight\",\"CryptoNight\",\"Shabal256\",\"Counterparty\",\"Scrypt\",\"SHA-256\",\"Groestl\",\"Scrypt\",\"Scrypt\",\"Scrypt\",\"X13\",\"Scrypt\",\"Scrypt\",\"Scrypt\",\"Scrypt\",\"X13\",\"Scrypt\",\"Stanford Folding\",\"X11\",\"Multiple\",\"QuBit\",\"Scrypt\",\"Scrypt\",\"Scrypt\",\"M7 POW\",\"Scrypt\",\"SHA-256\",\"Scrypt\",\"X11\",\"SHA3\",\"X11\",\"Lyra2RE\",\"SHA-256\",\"QUAIT\",\"X11\",\"X11\",\"Scrypt\",\"Scrypt\",\"Scrypt\",\"Ethash\",\"X13\",\"Blake2b\",\"SHA-256\",\"X15\",\"X11\",\"SHA-256\",\"BLAKE256\",\"Scrypt\",\"1GB AES Pattern Search\",\"SHA-256\",\"X11\",\"Scrypt\",\"SHA-256\",\"SHA-256\",\"NIST5\",\"Scrypt\",\"Scrypt\",\"X11\",\"Dagger\",\"Scrypt\",\"X11GOST\",\"X11\",\"Scrypt\",\"SHA-256\",\"Scrypt\",\"PoS\",\"Scrypt\",\"X11\",\"X11\",\"SHA-256\",\"SHA-256\",\"NIST5\",\"X11\",\"Scrypt\",\"POS 3.0\",\"Scrypt\",\"Scrypt\",\"Scrypt\",\"X13\",\"X11\",\"X11\",\"Equihash\",\"X11\",\"Scrypt\",\"CryptoNight\",\"SHA-256\",\"SHA-256\",\"X11\",\"Scrypt\",\"Multiple\",\"Scrypt\",\"Scrypt\",\"Scrypt\",\"SHA-256\",\"Scrypt\",\"Scrypt\",\"SHA-256D\",\"PoS\",\"Scrypt\",\"X11\",\"Lyra2Z\",\"PoS\",\"X13\",\"X14\",\"PoS\",\"SHA-256D\",\"Ethash\",\"Equihash\",\"DPoS\",\"X11\",\"Scrypt\",\"X11\",\"X13\",\"X11\",\"PoS\",\"Scrypt\",\"Scrypt\",\"X11\",\"PoS\",\"X11\",\"SHA-256\",\"Scrypt\",\"X11\",\"Scrypt\",\"Scrypt\",\"X11\",\"CryptoNight\",\"Scrypt\",\"Scrypt\",\"Scrypt\",\"Scrypt\",\"Quark\",\"QuBit\",\"Scrypt\",\"CryptoNight\",\"Lyra2RE\",\"Scrypt\",\"SHA-256\",\"X11\",\"Scrypt\",\"X11\",\"Scrypt\",\"CryptoNight-V7\",\"Scrypt\",\"Scrypt\",\"Scrypt\",\"X13\",\"X11\",\"Equihash\",\"Scrypt\",\"Scrypt\",\"Lyra2RE\",\"Scrypt\",\"Dagger-Hashimoto\",\"X11\",\"Blake2S\",\"X11\",\"Scrypt\",\"PoS\",\"X11\",\"NIST5\",\"PoS\",\"X11\",\"Scrypt\",\"Scrypt\",\"Scrypt\",\"SHA-256\",\"X11\",\"Scrypt\",\"Scrypt\",\"SHA-256\",\"PoS\",\"Scrypt\",\"X15\",\"SHA-256\",\"Scrypt\",\"POS 3.0\",\"CryptoNight-V7\",\"536\",\"Argon2d\",\"Blake2b\",\"Cloverhash\",\"CryptoNight\",\"NIST5\",\"X11\",\"NIST5\",\"Skein\",\"Scrypt\",\"X13\",\"Scrypt\",\"X11\",\"X11\",\"Scrypt\",\"CryptoNight\",\"X13\",\"Time Travel\",\"Scrypt\",\"Keccak\",\"SkunkHash v2 Raptor\",\"X11\",\"Skein\",\"SHA-256\",\"X11\",\"Scrypt\",\"VeChainThor Authority\",\"Scrypt\",\"PoS\",\"Scrypt\",\"Scrypt\",\"Scrypt\",\"Scrypt\",\"Scrypt\",\"Scrypt\",\"Scrypt\",\"CryptoNight\",\"SHA-512\",\"Ouroboros\",\"X11\",\"Equihash\",\"NeoScrypt\",\"X11\",\"Scrypt\",\"NeoScrypt\",\"Lyra2REv2\",\"Equihash\",\"Scrypt\",\"SHA-256\",\"NIST5\",\"PHI1612\",\"Dagger\",\"Scrypt\",\"Quark\",\"Scrypt\",\"POS 2.0\",\"Scrypt\",\"SHA-256\",\"X11\",\"NeoScrypt\",\"Ethash\",\"NeoScrypt\",\"X11\",\"DPoS\",\"NIST5\",\"X13\",\"Multiple\",\"Scrypt\",\"CryptoNight\",\"CryptoNight\",\"Ethash\",\"NIST5\",\"Quark\",\"X11\",\"CryptoNight-V7\",\"Scrypt\",\"Scrypt\",\"Scrypt\",\"X11\",\"BLAKE256\",\"X11\",\"NeoScrypt\",\"Quark\",\"NeoScrypt\",\"Scrypt\",\"Scrypt\",\"Scrypt\",\"X11\",\"X11\",\"SHA-256\",\"C11\",\"POS 3.0\",\"Ethash\",\"Scrypt\",\"CryptoNight\",\"SkunkHash\",\"Scrypt\",\"CryptoNight\",\"Scrypt\",\"Dagger\",\"Lyra2REv2\",\"X13\",\"Proof-of-BibleHash\",\"SHA-256 + Hive\",\"Scrypt\",\"Scrypt\",\"X11\",\"C11\",\"Proof-of-Authority\",\"X11\",\"XEVAN\",\"Scrypt\",\"VBFT\",\"Ethash\",\"CryptoNight\",\"Scrypt\",\"IMesh\",\"NIST5\",\"Scrypt\",\"Scrypt\",\"Equihash\",\"Scrypt\",\"Lyra2Z\",\"Green Protocol\",\"PoS\",\"Scrypt\",\"Semux BFT consensus\",\"X11\",\"Quark\",\"PoS\",\"CryptoNight\",\"X16R\",\"Scrypt\",\"NIST5\",\"Lyra2RE\",\"XEVAN\",\"Tribus\",\"Scrypt\",\"Lyra2Z\",\"CryptoNight\",\"CryptoNight Heavy\",\"CryptoNight\",\"Scrypt\",\"Scrypt\",\"Jump Consistent Hash\",\"SHA-256D\",\"CryptoNight\",\"Scrypt\",\"X15\",\"Scrypt\",\"Quark\",\"SHA-256\",\"DPoS\",\"X16R\",\"HMQ1725\",\"X11\",\"X16R\",\"Quark\",\"Quark\",\"Scrypt\",\"Lyra2REv2\",\"Quark\",\"Scrypt\",\"Scrypt\",\"CryptoNight-V7\",\"Cryptonight-GPU\",\"XEVAN\",\"CryptoNight Heavy\",\"X11\",\"X11\",\"Scrypt\",\"PoS\",\"SHA-256\",\"Keccak\",\"X11\",\"X11\",\"Scrypt\",\"SHA-512\",\"X16R\",\"ECC 256K1\",\"Equihash\",\"XEVAN\",\"Lyra2Z\",\"SHA-256\",\"XEVAN\",\"X11\",\"CryptoNight\",\"Quark\",\"Blake\",\"Blake\",\"Equihash\",\"Exosis\",\"Scrypt\",\"Scrypt\",\"Equihash\",\"Quark\",\"Equihash\",\"Quark\",\"Scrypt\",\"QuBit\",\"X11\",\"Scrypt\",\"XEVAN\",\"SHA-256D\",\"X11\",\"SHA-256\",\"X13\",\"SHA-256\",\"X11\",\"DPoS\",\"Scrypt\",\"Scrypt\",\"X11\",\"NeoScrypt\",\"Scrypt\",\"Blake\",\"Scrypt\",\"SHA-256\",\"Scrypt\",\"X11\",\"Scrypt\",\"Scrypt\",\"SHA-256\",\"X11\",\"SHA-256\",\"Scrypt\",\"Scrypt\",\"Scrypt\",\"Groestl\",\"X11\",\"Scrypt\",\"PoS\",\"Scrypt\",\"Scrypt\",\"X11\",\"SHA-256\",\"DPoS\",\"Scrypt\",\"Scrypt\",\"NeoScrypt\",\"Multiple\",\"X13\",\"Equihash+Scrypt\",\"DPoS\",\"Ethash\",\"DPoS\",\"SHA-256\",\"Leased POS\",\"PoS\",\"TRC10\",\"PoS\",\"SHA-256\",\"Scrypt\",\"CryptoNight\",\"Equihash\",\"Scrypt\"],\"Class\":{\"__ndarray__\":\"AQAAAAEAAAABAAAAAAAAAAAAAAAAAAAAAQAAAAAAAAAAAAAAAAAAAAEAAAAAAAAAAQAAAAEAAAAAAAAAAQAAAAAAAAAAAAAAAQAAAAEAAAAAAAAAAAAAAAAAAAAAAAAAAAAAAAEAAAAAAAAAAAAAAAAAAAABAAAAAAAAAAEAAAAAAAAAAAAAAAEAAAABAAAAAAAAAAAAAAAAAAAAAAAAAAAAAAAAAAAAAQAAAAEAAAAAAAAAAAAAAAAAAAAAAAAAAAAAAAEAAAABAAAAAAAAAAEAAAAAAAAAAAAAAAAAAAAAAAAAAQAAAAAAAAAAAAAAAQAAAAAAAAABAAAAAQAAAAEAAAAAAAAAAAAAAAAAAAABAAAAAQAAAAEAAAABAAAAAQAAAAAAAAAAAAAAAAAAAAEAAAABAAAAAAAAAAEAAAAAAAAAAQAAAAEAAAAAAAAAAAAAAAAAAAAAAAAAAQAAAAEAAAAAAAAAAQAAAAAAAAAAAAAAAQAAAAEAAAAAAAAAAQAAAAEAAAAAAAAAAAAAAAEAAAABAAAAAAAAAAEAAAABAAAAAAAAAAEAAAAAAAAAAQAAAAAAAAABAAAAAAAAAAEAAAABAAAAAAAAAAAAAAABAAAAAAAAAAAAAAAAAAAAAQAAAAAAAAAAAAAAAAAAAAAAAAAAAAAAAQAAAAEAAAAAAAAAAAAAAAAAAAABAAAAAAAAAAEAAAAAAAAAAAAAAAEAAAAAAAAAAQAAAAAAAAABAAAAAQAAAAAAAAAAAAAAAQAAAAAAAAAAAAAAAQAAAAEAAAAAAAAAAQAAAAAAAAABAAAAAQAAAAEAAAAAAAAAAAAAAAAAAAAAAAAAAQAAAAEAAAABAAAAAQAAAAEAAAAAAAAAAAAAAAEAAAABAAAAAQAAAAEAAAABAAAAAAAAAAEAAAABAAAAAQAAAAEAAAABAAAAAAAAAAEAAAAAAAAAAQAAAAEAAAAAAAAAAQAAAAAAAAABAAAAAQAAAAAAAAABAAAAAAAAAAEAAAAAAAAAAQAAAAAAAAABAAAAAQAAAAEAAAABAAAAAAAAAAEAAAABAAAAAQAAAAEAAAABAAAAAAAAAAAAAAAAAAAAAQAAAAAAAAAAAAAAAQAAAAEAAAABAAAAAQAAAAEAAAAAAAAAAQAAAAEAAAABAAAAAQAAAAEAAAABAAAAAQAAAAEAAAAAAAAAAQAAAAEAAAABAAAAAQAAAAEAAAABAAAAAAAAAAAAAAAAAAAAAQAAAAEAAAABAAAAAQAAAAAAAAABAAAAAAAAAAEAAAABAAAAAAAAAAEAAAAAAAAAAAAAAAEAAAAAAAAAAAAAAAEAAAAAAAAAAQAAAAEAAAABAAAAAAAAAAEAAAABAAAAAAAAAAEAAAABAAAAAQAAAAEAAAABAAAAAQAAAAEAAAAAAAAAAQAAAAAAAAABAAAAAQAAAAEAAAABAAAAAAAAAAEAAAAAAAAAAQAAAAAAAAAAAAAAAAAAAAAAAAABAAAAAAAAAAEAAAABAAAAAAAAAAEAAAAAAAAAAAAAAAAAAAABAAAAAAAAAAEAAAAAAAAAAAAAAAAAAAABAAAAAAAAAAEAAAAAAAAAAQAAAAEAAAABAAAAAAAAAAEAAAAAAAAAAAAAAAAAAAAAAAAAAAAAAAEAAAABAAAAAAAAAAEAAAABAAAAAQAAAAAAAAABAAAAAAAAAAEAAAAAAAAAAQAAAAAAAAABAAAAAQAAAAEAAAABAAAAAAAAAAEAAAABAAAAAAAAAAEAAAABAAAAAQAAAAAAAAAAAAAAAAAAAAAAAAABAAAAAAAAAAEAAAABAAAAAAAAAAEAAAAAAAAAAAAAAAAAAAABAAAAAQAAAAAAAAAAAAAAAQAAAAEAAAAAAAAAAQAAAAAAAAAAAAAAAAAAAAEAAAAAAAAAAAAAAAEAAAABAAAAAQAAAAAAAAAAAAAAAAAAAAEAAAABAAAAAQAAAAAAAAAAAAAAAQAAAAAAAAAAAAAAAAAAAAAAAAABAAAAAAAAAAMAAAAAAAAAAAAAAAAAAAABAAAAAQAAAAEAAAABAAAAAQAAAAEAAAAAAAAAAAAAAAAAAAAAAAAAAQAAAAEAAAABAAAAAAAAAAEAAAAAAAAAAQAAAAEAAAABAAAAAAAAAAAAAAABAAAAAQAAAAAAAAABAAAAAQAAAAAAAAAAAAAAAQAAAAAAAAABAAAAAAAAAAAAAAAAAAAAAAAAAAEAAAABAAAAAAAAAAEAAAAAAAAAAQAAAAEAAAABAAAAAQAAAAEAAAABAAAAAAAAAAAAAAAAAAAAAQAAAAEAAAABAAAAAQAAAAEAAAABAAAAAAAAAAEAAAAAAAAAAAAAAAAAAAAAAAAAAQAAAAEAAAABAAAAAQAAAAAAAAABAAAAAQAAAAAAAAABAAAAAQAAAAAAAAADAAAAAAAAAAEAAAAAAAAAAAAAAAEAAAABAAAAAAAAAAEAAAAAAAAAAAAAAAEAAAAAAAAAAAAAAAEAAAAAAAAAAQAAAAAAAAABAAAAAQAAAAAAAAABAAAAAQAAAAEAAAABAAAAAQAAAAAAAAAAAAAAAAAAAAEAAAAAAAAAAQAAAAAAAAABAAAAAAAAAAEAAAAAAAAAAQAAAAEAAAABAAAAAQAAAAAAAAABAAAAAQAAAAEAAAAAAAAAAQAAAAAAAAABAAAAAAAAAAEAAAABAAAAAQAAAAAAAAAAAAAAAQAAAAEAAAAAAAAAAQAAAAEAAAABAAAAAAAAAAEAAAAAAAAAAAAAAAAAAAAAAAAAAQAAAAMAAAABAAAAAgAAAAEAAAAAAAAAAQAAAAAAAAAAAAAAAQAAAA==\",\"dtype\":\"int32\",\"order\":\"little\",\"shape\":[532]},\"CoinName\":[\"42 Coin\",\"404Coin\",\"EliteCoin\",\"Bitcoin\",\"Ethereum\",\"Litecoin\",\"Dash\",\"Monero\",\"Ethereum Classic\",\"ZCash\",\"Bitshares\",\"DigiByte\",\"BitcoinDark\",\"PayCoin\",\"ProsperCoin\",\"KoboCoin\",\"Spreadcoin\",\"Argentum\",\"Aurora Coin\",\"BlueCoin\",\"MyriadCoin\",\"MoonCoin\",\"ZetaCoin\",\"SexCoin\",\"Quatloo\",\"EnergyCoin\",\"QuarkCoin\",\"Riecoin\",\"Digitalcoin \",\"BitBar\",\"Catcoin\",\"CryptoBullion\",\"CannaCoin\",\"CryptCoin\",\"CasinoCoin\",\"Diamond\",\"Verge\",\"DevCoin\",\"EarthCoin\",\"E-Gulden\",\"Einsteinium\",\"Emerald\",\"Exclusive Coin\",\"FlutterCoin\",\"Franko\",\"FeatherCoin\",\"GrandCoin\",\"GlobalCoin\",\"GoldCoin\",\"HoboNickels\",\"HyperStake\",\"Infinite Coin\",\"IOCoin\",\"IXcoin\",\"KrugerCoin\",\"LuckyCoin\",\"Litebar \",\"MaxCoin\",\"MegaCoin\",\"MediterraneanCoin\",\"MintCoin\",\"MinCoin\",\"MazaCoin\",\"Nautilus Coin\",\"NavCoin\",\"NobleCoin\",\"Namecoin\",\"NyanCoin\",\"OpalCoin\",\"Orbitcoin\",\"PotCoin\",\"PhoenixCoin\",\"Reddcoin\",\"RonPaulCoin\",\"StableCoin\",\"SmartCoin\",\"SuperCoin\",\"SyncCoin\",\"SysCoin\",\"TeslaCoin\",\"TigerCoin\",\"TittieCoin\",\"TorCoin\",\"TerraCoin\",\"UnbreakableCoin\",\"Unobtanium\",\"UroCoin\",\"UnitaryStatus Dollar\",\"UltraCoin\",\"ViaCoin\",\"VeriCoin\",\"Vertcoin\",\"WorldCoin\",\"X11 Coin\",\"Crypti\",\"JouleCoin\",\"StealthCoin\",\"ZCC Coin\",\"ByteCoin\",\"DigitalNote \",\"BurstCoin\",\"StorjCoin\",\"MonaCoin\",\"Neutron\",\"FairCoin\",\"Gulden\",\"RubyCoin\",\"PesetaCoin\",\"Kore\",\"Wild Beast Coin\",\"Dnotes\",\"Flo\",\"8BIT Coin\",\"Sativa Coin\",\"ArtByte\",\"Folding Coin\",\"Ucoin\",\"Unitus\",\"CypherPunkCoin\",\"OmniCron\",\"Vtorrent\",\"GreenCoin\",\"Cryptonite\",\"MasterCoin\",\"SoonCoin\",\"1Credit\",\"IslaCoin\",\"Nexus\",\"MarsCoin \",\"Crypto\",\"Anarchists Prime\",\"Droidz\",\"BowsCoin\",\"Squall Coin\",\"Song Coin\",\"BitZeny\",\"Diggits\",\"Expanse\",\"Paycon\",\"Siacoin\",\"Emercoin\",\"EverGreenCoin\",\"MindCoin\",\"I0coin\",\"Decred\",\"Revolution VR\",\"HOdlcoin\",\"EDRCoin\",\"Hitcoin\",\"Gamecredits\",\"DubaiCoin\",\"CarpeDiemCoin\",\"PWR Coin\",\"BillaryCoin\",\"GPU Coin\",\"Adzcoin\",\"SoilCoin\",\"YoCoin\",\"SibCoin\",\"EuropeCoin\",\"ZeitCoin\",\"SwingCoin\",\"SafeExchangeCoin\",\"Nebuchadnezzar\",\"Francs\",\"BolivarCoin\",\"Ratecoin\",\"Revenu\",\"Clockcoin\",\"VIP Tokens\",\"BitSend\",\"Omni\",\"Let it Ride\",\"PutinCoin\",\"iBankCoin\",\"Frankywillcoin\",\"MudraCoin\",\"PizzaCoin\",\"Lutetium Coin\",\"Komodo\",\"GoldBlocks\",\"CarterCoin\",\"Karbo\",\"BitTokens\",\"ZayedCoin\",\"MustangCoin\",\"ZoneCoin\",\"Circuits of Value\",\"RootCoin\",\"DopeCoin\",\"BitCurrency\",\"DollarCoin\",\"Swiscoin\",\"Shilling\",\"BuzzCoin\",\"Opair\",\"PesoBit\",\"Halloween Coin\",\"ZCoin\",\"CoffeeCoin\",\"RoyalCoin\",\"GanjaCoin V2\",\"TeamUP\",\"LanaCoin\",\"Elementrem\",\"ZClassic\",\"ARK\",\"InsaneCoin\",\"KiloCoin\",\"ArtexCoin\",\"EmberCoin\",\"XenixCoin\",\"FreeCoin\",\"PLNCoin\",\"AquariusCoin\",\"Kurrent\",\"Creatio\",\"Eternity\",\"Eurocoin\",\"BitcoinFast\",\"Stakenet\",\"BitConnect Coin\",\"MoneyCoin\",\"Enigma\",\"Cannabis Industry Coin\",\"Russiacoin\",\"PandaCoin\",\"GameUnits\",\"GAKHcoin\",\"Allsafe\",\"LiteCreed\",\"OsmiumCoin\",\"Bikercoins\",\"HexxCoin\",\"Klingon Empire Darsek\",\"Internet of People\",\"KushCoin\",\"Printerium\",\"PacCoin\",\"Impeach\",\"Citadel\",\"Zilbercoin\",\"FirstCoin\",\"BeaverCoin\",\"FindCoin\",\"VaultCoin\",\"Zero\",\"OpenChat\",\"Canada eCoin\",\"Zoin\",\"RenosCoin\",\"DubaiCoin\",\"VirtacoinPlus\",\"TajCoin\",\"Impact\",\"EB3coin\",\"Atmos\",\"HappyCoin\",\"Coinonat\",\"MacronCoin\",\"Condensate\",\"Independent Money System\",\"ArgusCoin\",\"LomoCoin\",\"ProCurrency\",\"GoldReserve\",\"BenjiRolls\",\"GrowthCoin\",\"ILCoin\",\"Phreak\",\"Degas Coin\",\"HTML5 Coin\",\"Ultimate Secure Cash\",\"EquiTrader\",\"QTUM\",\"Quantum Resistant Ledger\",\"Espers\",\"Dynamic\",\"Nano\",\"ChanCoin\",\"Dinastycoin\",\"Denarius\",\"DigitalPrice\",\"Virta Unique Coin\",\"Bitcoin Planet\",\"Unify\",\"BritCoin\",\"SocialCoin\",\"ArcticCoin\",\"DAS\",\"Linda\",\"LeviarCoin\",\"DeepOnion\",\"Bitcore\",\"gCn Coin\",\"SmartCash\",\"Signatum\",\"Onix\",\"Cream\",\"Bitcoin Cash\",\"Monoeci\",\"Draftcoin\",\"Vechain\",\"Sojourn Coin\",\"Stakecoin\",\"NewYorkCoin\",\"FrazCoin\",\"Kronecoin\",\"AdCoin\",\"Linx\",\"CoinonatX\",\"Ethereum Dark\",\"Sumokoin\",\"Obsidian\",\"Cardano\",\"Regalcoin\",\"BitcoinZ\",\"TrezarCoin\",\"Elements\",\"TerraNovaCoin\",\"VIVO Coin\",\"Rupee\",\"Bitcoin Gold\",\"WomenCoin\",\"Theresa May Coin\",\"NamoCoin\",\"LUXCoin\",\"Pirl\",\"Xios\",\"Bitcloud 2.0\",\"eBoost\",\"KekCoin\",\"BlackholeCoin\",\"Infinity Economics\",\"Pura\",\"Innova\",\"Ellaism\",\"GoByte\",\"Magnet\",\"Lamden Tau\",\"Electra\",\"Bitcoin Diamond\",\"SHIELD\",\"Cash & Back Coin\",\"UltraNote\",\"BitCoal\",\"DaxxCoin\",\"Bulwark\",\"Kalkulus\",\"AC3\",\"Lethean\",\"GermanCoin\",\"LiteCoin Ultra\",\"PopularCoin\",\"PhantomX\",\"Photon\",\"Sucre\",\"SparksPay\",\"Digiwage\",\"GunCoin\",\"IrishCoin\",\"Trollcoin\",\"Litecoin Plus\",\"Monkey Project\",\"Pioneer Coin\",\"UnitedBitcoin\",\"Interzone\",\"TokenPay\",\"1717 Masonic Commemorative Token\",\"My Big Coin\",\"TurtleCoin\",\"MUNcoin\",\"Unified Society USDEX\",\"Niobio Cash\",\"ShareChain\",\"Travelflex\",\"KREDS\",\"Tokyo Coin\",\"BiblePay\",\"LitecoinCash\",\"BitFlip\",\"LottoCoin\",\"Crypto Improvement Fund\",\"Stipend\",\"Poa Network\",\"Pushi\",\"Ellerium\",\"Velox\",\"Ontology\",\"Callisto Network\",\"BitTube\",\"Poseidon\",\"Aidos Kuneen\",\"Bitspace\",\"Briacoin\",\"Ignition\",\"Bitrolium\",\"MedicCoin\",\"Alpenschillling\",\"Bitcoin Green\",\"Deviant Coin\",\"Abjcoin\",\"Semux\",\"FuturoCoin\",\"Carebit\",\"Zealium\",\"Monero Classic\",\"Proton\",\"iDealCash\",\"Jumpcoin\",\"Infinex\",\"Bitcoin Incognito\",\"KEYCO\",\"HollyWoodCoin\",\"GINcoin\",\"PlatinCoin\",\"Loki\",\"Newton Coin\",\"Swisscoin\",\"Xt3ch\",\"MassGrid\",\"TheVig\",\"PluraCoin\",\"EmaratCoin\",\"Dekado\",\"Lynx\",\"Poseidon Quark\",\"BitcoinWSpectrum\",\"Muse\",\"Motion\",\"PlusOneCoin\",\"Axe\",\"Trivechain\",\"Dystem\",\"Giant\",\"Peony Coin\",\"Absolute Coin\",\"Vitae\",\"HexCoin\",\"TPCash\",\"Webchain\",\"Ryo\",\"Urals Coin\",\"Qwertycoin\",\"ARENON\",\"EUNO\",\"MMOCoin\",\"Ketan\",\"Project Pai\",\"XDNA\",\"PAXEX\",\"Azart\",\"ThunderStake\",\"Kcash\",\"Xchange\",\"Acute Angle Cloud\",\"CrypticCoin\",\"Bettex coin\",\"Actinium\",\"Bitcoin SV\",\"BitMoney\",\"Junson Ming Chan Coin\",\"FREDEnergy\",\"HerbCoin\",\"Universal Molecule\",\"Lithium\",\"PirateCash\",\"Exosis\",\"Block-Logic\",\"Oduwa\",\"Beam\",\"Galilel\",\"Bithereum\",\"Crypto Sports\",\"Credit\",\"SLICE\",\"Dash Platinum\",\"Nasdacoin\",\"Beetle Coin\",\"Titan Coin\",\"Award\",\"BLAST\",\"Bitcoin Rhodium\",\"GlobalToken\",\"Insane Coin\",\"ALAX\",\"LiteDoge\",\"SolarCoin\",\"TruckCoin\",\"UFO Coin\",\"OrangeCoin\",\"BlakeCoin\",\"BitstarCoin\",\"NeosCoin\",\"HyperCoin\",\"PinkCoin\",\"Crypto Escudo\",\"AudioCoin\",\"IncaKoin\",\"Piggy Coin\",\"Crown Coin\",\"Genstake\",\"SmileyCoin\",\"XiaoMiCoin\",\"Groestlcoin\",\"CapriCoin\",\" ClubCoin\",\"Radium\",\"Bata\",\"Pakcoin\",\"Creditbit \",\"OKCash\",\"Lisk\",\"HiCoin\",\"WhiteCoin\",\"FriendshipCoin\",\"JoinCoin\",\"Triangles Coin\",\"Vollar\",\"EOS\",\"Reality Clash\",\"Oxycoin\",\"TigerCash\",\"Waves\",\"Particl\",\"BitTorrent\",\"Nxt\",\"ZEPHYR\",\"Gapcoin\",\"Beldex\",\"Horizen\",\"BitcoinPlus\"],\"ProofType\":[\"PoW/PoS\",\"PoW/PoS\",\"PoW/PoS\",\"PoW\",\"PoW\",\"PoW\",\"PoW/PoS\",\"PoW\",\"PoW\",\"PoW\",\"PoS\",\"PoW\",\"PoW/PoS\",\"PoS\",\"PoW\",\"PoW/PoS\",\"PoW\",\"PoW\",\"PoW/PoS\",\"PoW/PoS\",\"PoW\",\"PoW\",\"PoW\",\"PoW\",\"PoW\",\"PoW/PoS\",\"PoW\",\"PoW\",\"PoW\",\"PoW/PoS\",\"PoW\",\"PoW/PoS\",\"PoW\",\"PoW\",\"PoC\",\"PoW/PoS\",\"PoW\",\"PoW\",\"PoW\",\"PoW\",\"PoW\",\"PoW\",\"PoS\",\"PoS/PoW/PoT\",\"PoW\",\"PoW\",\"PoW\",\"PoW\",\"PoW\",\"PoW/PoS\",\"PoS\",\"PoW\",\"PoW/PoS\",\"PoW\",\"PoW\",\"PoW\",\"PoW\",\"PoW/PoS\",\"PoW\",\"PoW\",\"PoS\",\"PoW\",\"PoW/PoS\",\"PoS\",\"PoW/PoS\",\"PoW\",\"PoW\",\"PoW\",\"PoW/PoS\",\"PoW/PoS\",\"PoW/PoS\",\"PoW/PoS\",\"PoW/PoS\",\"PoW\",\"PoW\",\"PoW\",\"PoS\",\"PoW/PoS\",\"PoW\",\"PoS\",\"PoW\",\"PoS\",\"PoW/PoS\",\"PoW\",\"PoW\",\"PoW\",\"PoW\",\"PoW/PoS\",\"PoW/PoS\",\"PoW\",\"PoST\",\"PoW\",\"PoW\",\"PoW/PoS\",\"PoS\",\"PoW\",\"PoW/PoS\",\"PoW/PoS\",\"PoW\",\"PoW\",\"PoC\",\"PoS\",\"PoW\",\"PoW/PoS\",\"PoW/PoS\",\"PoW\",\"PoS\",\"PoW\",\"PoW/PoS\",\"PoW\",\"PoS\",\"PoW\",\"PoW/PoS\",\"PoW/PoS\",\"PoW\",\"PoW\",\"PoS\",\"PoW\",\"PoW\",\"PoW\",\"PoW/PoS\",\"PoW\",\"PoW\",\"PoW\",\"PoW\",\"PoW\",\"PoW/PoS\",\"PoW/nPoS\",\"PoW\",\"PoW\",\"PoW\",\"PoW/PoS\",\"PoW\",\"PoS/PoW\",\"PoW\",\"PoW\",\"PoS\",\"PoW\",\"PoW/PoS\",\"PoW\",\"PoW/PoS\",\"PoW/PoS\",\"PoW\",\"PoW\",\"PoW/PoS\",\"PoW\",\"PoW\",\"PoW/PoS\",\"PoW/PoS\",\"PoW\",\"PoW/PoS\",\"PoW\",\"PoW/PoS\",\"PoW/PoS\",\"PoS\",\"PoW\",\"PoW\",\"PoW\",\"PoW\",\"PoW/PoS\",\"PoS\",\"PoW/PoS\",\"PoC\",\"PoS\",\"PoW\",\"PoW\",\"PoW/PoS\",\"PoW/PoS\",\"PoW/PoS\",\"PoW/PoS\",\"PoW/PoS\",\"PoW\",\"PoS\",\"PoW/PoS\",\"PoW/PoS\",\"PoW/PoS\",\"PoS\",\"PoW\",\"PoS\",\"dPoW/PoW\",\"PoW/PoS\",\"PoW/PoS\",\"PoW\",\"PoW/PoS\",\"PoW\",\"PoW/PoS\",\"PoW/PoS\",\"PoW\",\"PoW/PoS\",\"PoW\",\"PoS\",\"PoW\",\"PoW/PoW\",\"PoW\",\"PoW/PoS\",\"PoS\",\"PoW/PoS\",\"PoW/PoS\",\"PoW\",\"PoS\",\"PoS\",\"PoW/PoS\",\"PoS\",\"PoW/PoS\",\"PoW\",\"PoW\",\"DPoS\",\"PoW/PoS\",\"PoW\",\"PoW\",\"PoW/PoS\",\"PoW/PoS\",\"PoS\",\"PoW/PoS\",\"PoW/PoS\",\"PoW\",\"PoS\",\"PoW/PoS\",\"PoW/PoS\",\"PoW/PoS\",\"TPoS\",\"PoW/PoS\",\"PoW/PoS\",\"PoW/PoS\",\"PoW\",\"PoW/PoS\",\"PoS\",\"PoW/PoS\",\"PoW/PoS\",\"PoS\",\"PoW/PoS\",\"PoW\",\"PoW\",\"PoW\",\"PoW/PoS\",\"PoW/PoS\",\"PoW/PoS\",\"PoW/PoS\",\"PoW\",\"PoW/PoS\",\"PoW\",\"PoS\",\"PoW/PoS \",\"PoW\",\"PoS\",\"PoW\",\"PoW\",\"PoW/PoS\",\"PoW\",\"PoW\",\"PoS\",\"PoW\",\"PoW/PoS\",\"PoW/PoS\",\"PoW/PoS\",\"PoW\",\"PoS\",\"PoW/PoS\",\"PoW\",\"PoS\",\"PoW/PoS\",\"PoW/PoS\",\"PoW/PoS\",\"PoW/PoS\",\"PoS\",\"PoW/PoS\",\"PoW\",\"PoS\",\"PoW\",\"PoS\",\"PoW/PoS\",\"PoW/PoS\",\"PoS\",\"PoW\",\"PoS\",\"PoW\",\"PoW/PoS\",\"PoW\",\"PoW\",\"PoW\",\"PoW\",\"PoW/PoS\",\"PoW\",\"PoW/PoS\",\"PoW/PoS\",\"PoW\",\"PoW/PoS\",\"PoW\",\"PoW\",\"PoW\",\"PoW/PoS\",\"PoW\",\"PoW/PoS\",\"PoW\",\"PoW\",\"PoW\",\"PoS\",\"PoW\",\"PoW/PoS\",\"PoW\",\"PoW/PoS\",\"PoS\",\"Proof of Authority\",\"PoW\",\"PoS\",\"PoW\",\"PoW\",\"PoW\",\"PoW\",\"PoW\",\"PoW/PoS\",\"PoW/PoS\",\"PoW\",\"PoS\",\"PoS\",\"PoW/PoS\",\"PoW\",\"PoW/PoS\",\"PoW\",\"PoW/PoS\",\"PoW\",\"PoS\",\"PoW\",\"PoW/PoS\",\"PoW/PoS\",\"PoW/PoS\",\"PoW/PoS\",\"PoW\",\"PoW/PoS\",\"PoW/PoS\",\"PoW\",\"PoS\",\"PoW/PoS\",\"PoS\",\"PoW\",\"PoW\",\"PoW\",\"PoW\",\"PoW/PoS\",\"DPoS\",\"PoW/PoS\",\"PoW/PoS\",\"PoW\",\"PoW/PoS\",\"PoW\",\"PoW\",\"PoW\",\"PoS\",\"PoS\",\"PoW\",\"PoW\",\"PoW/PoS\",\"PoW/PoS\",\"PoW\",\"PoW/PoS\",\"PoW\",\"PoW\",\"PoW\",\"PoS\",\"PoW\",\"PoW\",\"PoW/PoS\",\"PoW/PoS\",\"PoS\",\"PoW\",\"PoW\",\"PoW\",\"PoS\",\"PoS\",\"PoW and PoS\",\"PoW\",\"PoW\",\"PoW/PoS\",\"PoW\",\"PoW\",\"PoW\",\"PoW\",\"PoS\",\"POBh\",\"PoW + Hive\",\"PoW\",\"PoW\",\"PoW\",\"PoW/PoS\",\"PoA\",\"PoW/PoS\",\"PoW/PoS\",\"PoS\",\"PoS\",\"PoW\",\"PoW\",\"PoW\",\"PoW\",\"PoW/PoS\",\"PoW/PoS\",\"PoW/PoS\",\"PoW\",\"PoS\",\"PoW\",\"PoS\",\"PoS\",\"PoW/PoS\",\"DPoS\",\"PoW\",\"PoW/PoS\",\"PoS\",\"PoW\",\"PoS\",\"PoW/PoS\",\"PoW\",\"PoW\",\"PoS/PoW\",\"PoW\",\"PoS\",\"PoW\",\"PoW\",\"PoW\",\"PoW\",\"PoW/PoS\",\"PoS\",\"PoW\",\"PoW/PoS\",\"PoW\",\"PoW/PoS\",\"PoS\",\"HPoW\",\"PoS\",\"PoS\",\"PoS\",\"PoW\",\"PoW\",\"PoW\",\"PoW/PoS\",\"PoS\",\"PoW/PoS\",\"PoS\",\"PoW/PoS\",\"PoS\",\"PoW\",\"PoW/PoS\",\"PoW\",\"PoW\",\"PoW\",\"PoW\",\"PoS\",\"PoW/PoS\",\"PoS\",\"PoS\",\"PoW\",\"PoW/PoS\",\"PoS\",\"PoW\",\"PoW/PoS\",\"Zero-Knowledge Proof\",\"PoW\",\"DPOS\",\"PoW\",\"PoS\",\"PoW\",\"PoW\",\"Pos\",\"PoS\",\"PoW\",\"PoW/PoS\",\"PoW\",\"PoW\",\"PoS\",\"PoW\",\"PoW\",\"PoW/PoS\",\"PoW\",\"PoW/PoS\",\"PoW\",\"PoS\",\"PoW/PoS\",\"PoW\",\"PoS\",\"PoW/PoS\",\"PoW/PoS\",\"PoW/PoS\",\"PoW/PoS\",\"PoW\",\"PoW\",\"PoW\",\"PoW/PoS\",\"DPoS\",\"PoW/PoS\",\"PoW\",\"PoW/PoS\",\"PoW\",\"PoW/PoS\",\"PoW\",\"PoW/PoS\",\"PoS\",\"PoW/PoS\",\"PoW/PoS\",\"PoW\",\"PoW/PoS\",\"PoW/PoS\",\"PoW/PoS\",\"PoW\",\"PoW/PoS\",\"PoW\",\"PoW/PoS\",\"PoW\",\"PoW/PoS\",\"PoW/PoS\",\"PoS\",\"PoW\",\"PoW\",\"Proof of Trust\",\"PoW/PoS\",\"DPoS\",\"PoS\",\"PoW/PoS\",\"PoW/PoS\",\"PoW\",\"PoW/PoS\",\"PoW\",\"DPoS\",\"PoW\",\"DPoS\",\"PoS\",\"LPoS\",\"PoS\",\"DPoS\",\"PoS/LPoS\",\"DPoS\",\"PoW/PoS\",\"PoW\",\"PoW\",\"PoS\"],\"TotalCoinSupply\":[\"42\",\"532000000\",\"314159265359\",\"21000000\",\"0\",\"84000000\",\"22000000\",\"0\",\"210000000\",\"21000000\",\"3600570502\",\"21000000000\",\"22000000\",\"12500000\",\"21000000\",\"350000000\",\"20000000\",\"64000000\",\"16768584\",\"0\",\"2000000000\",\"384000000000\",\"169795588\",\"250000000\",\"100000000\",\"0\",\"247000000\",\"84000000\",\"48166000\",\"500000\",\"21000000 \",\"1000000\",\"13140000\",\"18000000\",\"40000000000\",\"4380000\",\"16555000000\",\"21000000000\",\"13500000000\",\"21000000 \",\"299792458\",\"32000000\",\"0\",\"0\",\"11235813\",\"336000000\",\"1420609614\",\"70000000\",\"72245700\",\"120000000\",\"0\",\"90600000000\",\"22000000\",\"21000000\",\"265420800\",\"20000000\",\"1350000\",\"100000000\",\"42000000\",\"200000000\",\"0\",\"10000000\",\"2419200000\",\"16180000\",\"0\",\"15000000000\",\"21000000\",\"337000000\",\"0\",\"3770000\",\"420000000\",\"98000000\",\"0\",\"21000000\",\"250000000\",\"51200000\",\"0\",\"1000\",\"888000000\",\"100000000\",\"47011968\",\"2300000000\",\"10000000\",\"42000000\",\"80000000\",\"250000\",\"0\",\"1600000000\",\"100000000\",\"23000000\",\"0\",\"84000000\",\"265420800\",\"5500000\",\"0\",\"45000000\",\"0\",\"1000000000\",\"184467440735\",\"10000000000\",\"2158812800\",\"500000000\",\"105120000\",\"68000000\",\"0\",\"1680000000\",\"0\",\"166386000\",\"12000000\",\"2628000\",\"500000000\",\"160000000\",\"0\",\"10000000\",\"1000000000\",\"1000000000\",\"20000000\",\"0\",\"0\",\"3371337\",\"20000000\",\"10000000000\",\"1840000000\",\"619478\",\"21000000\",\"92000000000\",\"0\",\"78000000\",\"33000000\",\"65789100\",\"53760000\",\"5060000\",\"21000000\",\"0\",\"210240000\",\"250000000\",\"100000000\",\"16906397\",\"50000000\",\"0\",\"1000000000\",\"26298000\",\"16000000\",\"21000000\",\"21000000\",\"210000000\",\"81962100\",\"22000000\",\"26550000000\",\"84000000\",\"10500000\",\"21626280000 \",\"0\",\"42000000\",\"221052632\",\"84000000\",\"30000000\",\"168351300\",\"24000000\",\"384000000\",\" 99000000000\",\"40000000\",\"2147483647\",\"20000000\",\"20000000\",\"25000000\",\"75000000\",\"222725000\",\"525000000\",\"90000000\",\"139000000\",\"616448\",\"33500000\",\"2000000000\",\"44333333\",\"100000000\",\"200000000\",\"25000000\",\"657000000\",\"200000000\",\"50000000\",\"90000000\",\"10000000\",\"21000000\",\"9736000\",\"3000000\",\"21000000\",\"1200000000\",\"0\",\"200000000\",\"0\",\"10638298\",\"3100000000\",\"30000000\",\"20000000000\",\"74000000\",\"0\",\"1500000000\",\"21400000\",\"39999898\",\"2500124\",\"100000000\",\"301000000\",\"7506000000\",\"26205539\",\"21000000\",\"125000000\",\"30000000\",\"10000000000\",\"500000000\",\"850000000\",\"3853326.77707314\",\"50000000\",\"38540000 \",\"42000000\",\"228000000\",\"20000000\",\"60000000\",\"20000000\",\"33000000\",\"76500000\",\"28000000\",\"650659833\",\"5000000\",\"21000000\",\"144000000\",\"32514916898\",\"13000000\",\"3315789\",\"15000000\",\"78835200\",\"2714286\",\"25000000\",\"9999999\",\"500000000\",\"21000000\",\"9354000\",\"20000000\",\"100000000000\",\"21933333\",\"185000000\",\"55000000\",\"110000000\",\"3360000\",\"14524851.4827\",\"1000000000\",\"17000000\",\"1000000000\",\"100000000 \",\"21000000\",\"34426423\",\"2232901\",\"100000000\",\"36900000\",\"110000000\",\"4000000000\",\"110290030\",\"100000000\",\"48252000\",\"400000000\",\"500000000\",\"21212121\",\"28600000\",\"1000000000\",\"75000000000\",\"40000000\",\"35520400\",\"2000000000\",\"2500000000\",\"30000000\",\"105000000\",\"90000000000\",\"200084200\",\"72000000\",\"100000000\",\"105000000\",\"50000000000\",\"0\",\"340282367\",\"30000000\",\"2000000000\",\"10000000\",\"100000000\",\"120000000\",\"100000000\",\"19276800\",\"30000000\",\" 75000000\",\"60000000\",\"18900000\",\"50000000000\",\"54000000\",\"18898187.6216583\",\"21000000\",\"200000000000\",\"5000000000\",\"137500000\",\"1100000000\",\"100000000\",\"21000000\",\"9507271\",\"17405891.19707116\",\"86712634466\",\"10500000000\",\"61599965\",\"0\",\"20000000\",\"84000000\",\"100000000\",\"100000000\",\"48252000\",\"4200000\",\"88888888\",\"91388946\",\"45000000000\",\"27000000\",\"21000000000\",\"400000000\",\"1800000000\",\"15733333\",\"27000000\",\"24000000\",\"21000000\",\"25000000000\",\"100000000\",\"1200000000\",\"60000000\",\"156306732.71\",\"21000000\",\"200000000\",\"100000000\",\"21000000\",\"14788275.991\",\"9000000000\",\"350000000\",\"45000000\",\"280000000\",\"31800000\",\"144000000\",\"500000000\",\"30000000000\",\"210000000\",\"660000000\",\"210000000\",\"85000000000\",\"12500000\",\"10000000000\",\"27716121\",\"20000000\",\"550000000\",\"999481516\",\"50000000000\",\"150000000\",\"4999999999\",\"50000000\",\" 90000000000\",\"19800000\",\"21000000\",\"120000000\",\"500000000\",\"64000000\",\"900000000\",\"4000000\",\"21000000\",\"23000000\",\"20166000\",\"23000000\",\"25000000\",\"1618033\",\"30000000\",\"1000000000000\",\"16600000\",\"232000000\",\"336000000\",\"10000000000\",\"100000000\",\"1100000000\",\"800000000\",\"5200000000\",\"840000000\",\"40000000\",\"18406979840\",\"500000000\",\"19340594\",\"252460800\",\"25000000\",\"60000000\",\"124000000\",\"1000000000\",\"6500000000\",\"1000000000\",\"21000000\",\"25000000\",\"50000000\",\"3000000\",\"5000000\",\"70000000\",\"500000000\",\"300000000\",\"21000000\",\"88000000\",\"30000000\",\"100000000\",\"100000000\",\"200000000\",\"80000000\",\"18400000\",\"45000000\",\"5121951220\",\"21000000\",\"26280000\",\"21000000\",\"18000000\",\"26000000\",\"10500000\",\"600000518\",\"150000000\",\"184000000000\",\"10200000000\",\"44000000\",\"168000000\",\"100000000\",\"1000000000\",\"84000000\",\"90000000\",\"92000000000\",\"650000000 \",\"100262205\",\"18081806 \",\"22075700\",\"21000000\",\"21000000\",\"82546564\",\"21000000\",\"5151000\",\"16880000000\",\"52500000\",\"100000000\",\"22105263\",\"1000000000\",\"1750000000\",\"88188888\",\"210000000\",\"184470000000\",\"55000000\",\"50000000\",\"260000000\",\"210000000\",\"2100000000\",\"366000000\",\"100000000\",\"25000000\",\"18000000000\",\"1000000000\",\"100000000\",\"1000000000\",\"7600000000\",\"50000000\",\"84000000\",\"21000000\",\"70000000000\",\"0\",\"8080000000\",\"54000000\",\"105120001.44\",\"25228800\",\"105000000\",\"21000000\",\"120000000\",\"21000000\",\"262800000\",\"19035999\",\"30886000\",\"13370000\",\"74800000000\",\"100000000\",\"19700000\",\"84000000\",\"500000000\",\"5000000000\",\"420000000\",\"64000000\",\"2100000\",\"168000000\",\"30000000\",\"1000000000\",\"35000000000\",\"98100000000\",\"0\",\"4000000000\",\"200000000\",\"7000000000\",\"54256119\",\"21000000\",\"0\",\"500000000\",\"1000000000\",\"10500000000\",\"190000000\",\"1000000000\",\"42000000\",\"15000000\",\"50000000000\",\"400000000\",\"105000000\",\"208000000\",\"160000000\",\"9000000\",\"5000000\",\"182000000\",\"16504333\",\"105000000\",\"159918400\",\"10008835635\",\"300000000\",\"60168145\",\"2800000\",\"120000\",\"2100000000\",\"0\",\"24487944\",\"0\",\"1000000000\",\"100000000\",\"8634140\",\"990000000000\",\"1000000000\",\"2000000000\",\"250000000\",\"1400222610\",\"21000000\",\"1000000\"],\"TotalCoinsMined\":{\"__ndarray__\":\"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\",\"dtype\":\"float64\",\"order\":\"little\",\"shape\":[532]}},\"selected\":{\"id\":\"1105\"},\"selection_policy\":{\"id\":\"1139\"}},\"id\":\"1104\",\"type\":\"ColumnDataSource\"},{\"attributes\":{},\"id\":\"1127\",\"type\":\"StringEditor\"},{\"attributes\":{},\"id\":\"1116\",\"type\":\"StringFormatter\"},{\"attributes\":{},\"id\":\"1122\",\"type\":\"NumberEditor\"},{\"attributes\":{},\"id\":\"1105\",\"type\":\"Selection\"},{\"attributes\":{},\"id\":\"1126\",\"type\":\"StringFormatter\"},{\"attributes\":{\"margin\":[5,5,5,5],\"name\":\"HSpacer01706\",\"sizing_mode\":\"stretch_width\"},\"id\":\"1103\",\"type\":\"Spacer\"},{\"attributes\":{},\"id\":\"1131\",\"type\":\"NumberFormatter\"},{\"attributes\":{\"editor\":{\"id\":\"1127\"},\"field\":\"TotalCoinSupply\",\"formatter\":{\"id\":\"1126\"},\"title\":\"TotalCoinSupply\"},\"id\":\"1128\",\"type\":\"TableColumn\"},{\"attributes\":{\"editor\":{\"id\":\"1107\"},\"field\":\"CoinName\",\"formatter\":{\"id\":\"1106\"},\"title\":\"CoinName\"},\"id\":\"1108\",\"type\":\"TableColumn\"},{\"attributes\":{},\"id\":\"1106\",\"type\":\"StringFormatter\"}],\"root_ids\":[\"1102\"]},\"title\":\"Bokeh Application\",\"version\":\"2.2.3\"}};\n    var render_items = [{\"docid\":\"d36a8791-bcd6-4959-8783-d52c3f0fd92b\",\"root_ids\":[\"1102\"],\"roots\":{\"1102\":\"af2d9135-c4c6-4f37-b851-1a19f1c432ec\"}}];\n    root.Bokeh.embed.embed_items_notebook(docs_json, render_items);\n  }\n  if (root.Bokeh !== undefined && root.Bokeh.Panel !== undefined) {\n    embed_document(root);\n  } else {\n    var attempts = 0;\n    var timer = setInterval(function(root) {\n      if (root.Bokeh !== undefined && root.Bokeh.Panel !== undefined) {\n        clearInterval(timer);\n        embed_document(root);\n      } else if (document.readyState == \"complete\") {\n        attempts++;\n        if (attempts > 100) {\n          clearInterval(timer);\n          console.log(\"Bokeh: ERROR: Unable to run BokehJS code because BokehJS library is missing\");\n        }\n      }\n    }, 10, root)\n  }\n})(window);</script>",
      "application/vnd.holoviews_exec.v0+json": "",
      "text/plain": [
       ":Table   [CoinName,Algorithm,ProofType,TotalCoinsMined,TotalCoinSupply,Class]"
      ]
     },
     "metadata": {
      "application/vnd.holoviews_exec.v0+json": {
       "id": "1102"
      }
     },
     "execution_count": 45
    }
   ],
   "source": [
    "# Create a table with tradable cryptocurrencies.\n",
    "clustered_df.hvplot.table(columns=['CoinName', 'Algorithm', 'ProofType', 'TotalCoinsMined', 'TotalCoinSupply', 'Class'], sortable=True, selectable=True)"
   ]
  },
  {
   "cell_type": "code",
   "execution_count": 46,
   "metadata": {},
   "outputs": [
    {
     "output_type": "execute_result",
     "data": {
      "text/plain": [
       "532"
      ]
     },
     "metadata": {},
     "execution_count": 46
    }
   ],
   "source": [
    "# Print the total number of tradable cryptocurrencies.\n",
    "clustered_df['CoinName'].count()"
   ]
  },
  {
   "cell_type": "code",
   "execution_count": 47,
   "metadata": {},
   "outputs": [
    {
     "output_type": "execute_result",
     "data": {
      "text/plain": [
       "array([[4.20000000e-11, 0.00000000e+00],\n",
       "       [5.32000000e-04, 1.06585544e-03],\n",
       "       [3.14159265e-01, 2.95755135e-02],\n",
       "       ...,\n",
       "       [1.40022261e-03, 9.90135079e-04],\n",
       "       [2.10000000e-05, 7.37028150e-06],\n",
       "       [1.00000000e-06, 1.29582282e-07]])"
      ]
     },
     "metadata": {},
     "execution_count": 47
    }
   ],
   "source": [
    "# Scaling data to create the scatter plot with tradable cryptocurrencies.\n",
    "cluster_df = clustered_df[['TotalCoinSupply', 'TotalCoinsMined']]\n",
    "X_minmax = MinMaxScaler().fit_transform(cluster_df)\n",
    "X_minmax"
   ]
  },
  {
   "cell_type": "code",
   "execution_count": 48,
   "metadata": {},
   "outputs": [
    {
     "output_type": "execute_result",
     "data": {
      "text/plain": [
       "      TotalCoinSupply_scaled  TotalCoinsMined_scaled          CoinName  Class\n",
       "42              4.200000e-11                0.000000           42 Coin      1\n",
       "404             5.320000e-04                0.001066           404Coin      1\n",
       "1337            3.141593e-01                0.029576         EliteCoin      1\n",
       "BTC             2.100000e-05                0.000018           Bitcoin      0\n",
       "ETH             0.000000e+00                0.000109          Ethereum      0\n",
       "LTC             8.400000e-05                0.000064          Litecoin      0\n",
       "DASH            2.200000e-05                0.000009              Dash      1\n",
       "XMR             0.000000e+00                0.000017            Monero      0\n",
       "ETC             2.100000e-04                0.000115  Ethereum Classic      0\n",
       "ZEC             2.100000e-05                0.000007             ZCash      0"
      ],
      "text/html": "<div>\n<style scoped>\n    .dataframe tbody tr th:only-of-type {\n        vertical-align: middle;\n    }\n\n    .dataframe tbody tr th {\n        vertical-align: top;\n    }\n\n    .dataframe thead th {\n        text-align: right;\n    }\n</style>\n<table border=\"1\" class=\"dataframe\">\n  <thead>\n    <tr style=\"text-align: right;\">\n      <th></th>\n      <th>TotalCoinSupply_scaled</th>\n      <th>TotalCoinsMined_scaled</th>\n      <th>CoinName</th>\n      <th>Class</th>\n    </tr>\n  </thead>\n  <tbody>\n    <tr>\n      <th>42</th>\n      <td>4.200000e-11</td>\n      <td>0.000000</td>\n      <td>42 Coin</td>\n      <td>1</td>\n    </tr>\n    <tr>\n      <th>404</th>\n      <td>5.320000e-04</td>\n      <td>0.001066</td>\n      <td>404Coin</td>\n      <td>1</td>\n    </tr>\n    <tr>\n      <th>1337</th>\n      <td>3.141593e-01</td>\n      <td>0.029576</td>\n      <td>EliteCoin</td>\n      <td>1</td>\n    </tr>\n    <tr>\n      <th>BTC</th>\n      <td>2.100000e-05</td>\n      <td>0.000018</td>\n      <td>Bitcoin</td>\n      <td>0</td>\n    </tr>\n    <tr>\n      <th>ETH</th>\n      <td>0.000000e+00</td>\n      <td>0.000109</td>\n      <td>Ethereum</td>\n      <td>0</td>\n    </tr>\n    <tr>\n      <th>LTC</th>\n      <td>8.400000e-05</td>\n      <td>0.000064</td>\n      <td>Litecoin</td>\n      <td>0</td>\n    </tr>\n    <tr>\n      <th>DASH</th>\n      <td>2.200000e-05</td>\n      <td>0.000009</td>\n      <td>Dash</td>\n      <td>1</td>\n    </tr>\n    <tr>\n      <th>XMR</th>\n      <td>0.000000e+00</td>\n      <td>0.000017</td>\n      <td>Monero</td>\n      <td>0</td>\n    </tr>\n    <tr>\n      <th>ETC</th>\n      <td>2.100000e-04</td>\n      <td>0.000115</td>\n      <td>Ethereum Classic</td>\n      <td>0</td>\n    </tr>\n    <tr>\n      <th>ZEC</th>\n      <td>2.100000e-05</td>\n      <td>0.000007</td>\n      <td>ZCash</td>\n      <td>0</td>\n    </tr>\n  </tbody>\n</table>\n</div>"
     },
     "metadata": {},
     "execution_count": 48
    }
   ],
   "source": [
    "# Create a new DataFrame that has the scaled data with the clustered_df DataFrame index.\n",
    "index_values = (clustered_df.index.tolist())\n",
    "plot_df = pd.DataFrame(\n",
    "    data = X_minmax, columns=[\"TotalCoinSupply_scaled\", \"TotalCoinsMined_scaled\"], index = index_values)\n",
    "\n",
    "# Add the \"CoinName\" column from the clustered_df DataFrame to the new DataFrame.\n",
    "plot_df = plot_df.join(cc_names_df, how='inner')\n",
    "\n",
    "# Add the \"Class\" column from the clustered_df DataFrame to the new DataFrame. \n",
    "class_df = clustered_df['Class']\n",
    "plot_df = plot_df.join(class_df, how='inner')\n",
    "\n",
    "plot_df.head(10)"
   ]
  },
  {
   "cell_type": "code",
   "execution_count": 49,
   "metadata": {},
   "outputs": [
    {
     "output_type": "display_data",
     "data": {},
     "metadata": {}
    },
    {
     "output_type": "execute_result",
     "data": {
      "text/html": "<div id='1154'>\n\n\n\n\n\n  <div class=\"bk-root\" id=\"eebbbd88-5ac3-44da-9640-8ecf079eb380\" data-root-id=\"1154\"></div>\n</div>\n<script type=\"application/javascript\">(function(root) {\n  function embed_document(root) {\n    var docs_json = {\"a93357cf-cb9b-41f2-bead-eabe06c433ae\":{\"roots\":{\"references\":[{\"attributes\":{},\"id\":\"1172\",\"type\":\"BasicTicker\"},{\"attributes\":{\"fill_alpha\":{\"value\":0.2},\"fill_color\":{\"value\":\"#e5ae38\"},\"line_alpha\":{\"value\":0.2},\"line_color\":{\"value\":\"#e5ae38\"},\"size\":{\"units\":\"screen\",\"value\":5.477225575051661},\"x\":{\"field\":\"TotalCoinsMined_scaled\"},\"y\":{\"field\":\"TotalCoinSupply_scaled\"}},\"id\":\"1238\",\"type\":\"Scatter\"},{\"attributes\":{\"data\":{\"Class\":[3,3,3],\"TotalCoinSupply_scaled\":{\"__ndarray__\":\"vHmqQ26GSz/8qfHSTWJQPyxDHOviNho/\",\"dtype\":\"float64\",\"order\":\"little\",\"shape\":[3]},\"TotalCoinsMined_scaled\":{\"__ndarray__\":\"kKTF8kohRT96Q0MFuIxQP/tFfmC/eho/\",\"dtype\":\"float64\",\"order\":\"little\",\"shape\":[3]}},\"selected\":{\"id\":\"1255\"},\"selection_policy\":{\"id\":\"1275\"}},\"id\":\"1254\",\"type\":\"ColumnDataSource\"},{\"attributes\":{\"axis\":{\"id\":\"1175\"},\"dimension\":1,\"grid_line_color\":null,\"ticker\":null},\"id\":\"1178\",\"type\":\"Grid\"},{\"attributes\":{\"callback\":null,\"renderers\":[{\"id\":\"1202\"},{\"id\":\"1220\"},{\"id\":\"1239\"},{\"id\":\"1260\"}],\"tags\":[\"hv_created\"],\"tooltips\":[[\"Class\",\"@{Class}\"],[\"TotalCoinsMined_scaled\",\"@{TotalCoinsMined_scaled}\"],[\"TotalCoinSupply_scaled\",\"@{TotalCoinSupply_scaled}\"]]},\"id\":\"1158\",\"type\":\"HoverTool\"},{\"attributes\":{\"data\":{\"Class\":[1,1,1,1,1,1,1,1,1,1,1,1,1,1,1,1,1,1,1,1,1,1,1,1,1,1,1,1,1,1,1,1,1,1,1,1,1,1,1,1,1,1,1,1,1,1,1,1,1,1,1,1,1,1,1,1,1,1,1,1,1,1,1,1,1,1,1,1,1,1,1,1,1,1,1,1,1,1,1,1,1,1,1,1,1,1,1,1,1,1,1,1,1,1,1,1,1,1,1,1,1,1,1,1,1,1,1,1,1,1,1,1,1,1,1,1,1,1,1,1,1,1,1,1,1,1,1,1,1,1,1,1,1,1,1,1,1,1,1,1,1,1,1,1,1,1,1,1,1,1,1,1,1,1,1,1,1,1,1,1,1,1,1,1,1,1,1,1,1,1,1,1,1,1,1,1,1,1,1,1,1,1,1,1,1,1,1,1,1,1,1,1,1,1,1,1,1,1,1,1,1,1,1,1,1,1,1,1,1,1,1,1,1,1,1,1,1,1,1,1,1,1,1,1,1,1,1,1,1,1,1,1,1,1,1,1,1,1,1,1,1,1,1,1,1,1,1,1,1,1,1,1,1,1,1,1,1,1,1,1,1,1,1,1,1,1,1,1,1,1,1,1,1,1,1,1,1,1,1,1,1],\"TotalCoinSupply_scaled\":{\"__ndarray__\":\"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\",\"dtype\":\"float64\",\"order\":\"little\",\"shape\":[281]},\"TotalCoinsMined_scaled\":{\"__ndarray__\":\"AAAAAAAAAADVQ6eRhXZRP0gFXx0LSZ4/fb2YAaYh4z6ruJV6oa9mP4fxacJq17U+W7PlNwxp6T7W0pn52A37PoFADD9SNfM+Y2BMhDkIRT+TanQDD0sgP35ukl9tEWc+7S9W9+ubsT49x1z95a+kP28YHhABAMw+ye+KsSkQ2D75DhvNkpI+P1ecpQYuoxc/Ypyz9GrHWz/8kyPDCLLyPpO8/kFBRRA/0/9nDoYGlj/8i/ixXrVaP7x4IiUyI/E+jquxX+B/ET9yUL0Vow3wPvxfgvURSss+cvkNgl17LT+LzHsEg5UTPwaytCCdUp4/8DiBm6/aCj9doxA1Q7ITPkOS6FanQBU/dL+NX1fZWj+VBQyzwkO4PlcDUAL0L1I/fTIxK6KaCj/k5byfQfUAPxuOVInTct0++0V+YL96Gj9FarAorYYBPzHwJWnxlyM/L/f3qVABXj+Tp6kxyxkLP8ZkQxXrtwQ/ibYLlr8rDD876RpKEMv8PqXMCj0KI8E+Y9QbIWkfJz/NWTdK5t+4PhEtw1ouEd4+SuSuQabKxj5dOKHlN5XoPj9ykiLfprk+IXp/RSnbED9yRrm5bCbiPvbV3K8TUJY++0V+YL96Gj+usZO2/Wf4PjQmLIvTzQY/1efNMZmp7D5956xI8fTlPuaDOXY0GM8+uMNU6Ym/hj8I144k4rrVPosWSaGt1IQ/AkyV+P4P4z7jP4drq28FPz0UggjXC+Y+7L0e6OUeoz9rTh5jVovSPvn/Em4kxWE/kQBSK/0u9T7ujyYFktAhP3lc7dd7QrQ+QPXFzhym8T4+Nd5F5BgWP9J6jnO41Pk+ObDN1M5vBD+HQ9Dqr+lKP3YCdaw0LdM++0V+YL96Gj/CsEps9C7VPlS9UGUMv0U/pqRxDiJ88D7oqXRGKNwGP54PeOINLqQ+9FiPodBJpj5CAX3zt+DFPsR5KJfqb8A+T/4f/1R0Jj9wy+L1hwRGP4Iw9VQZQJQ/QFxHa5CaEz9q4x6W3sABP+WnRel4hTE//jSGyJGwIz9a3dieLS/FPvtFfmC/eho/0CaSSobf8j7pm9ie0ehRP9m3WoWkbfM+aYtMVgzXtz86BVneRVPQPqlU6KW+ego/Cpe1fNUZ8j51sP5UiMHEPpEAUiv9LvU+FjeWROq22T48+fOQeU3qPpiWw+wncfU+LfjqYBQEFD/rNVinDXnnPuCXsNDdHuc+W8Ibk1+cqz7+cpRLTL/hPqoI1U/GfKE/XkgoC4FtzT62TBrShBjMPoFhuAbER+Y+28DJKx8CAD/+4KkaM2L5PsnENol6Z8U+EsKnts/51z5lqNaU5grpPjTIpVxJ45Q++c/Zu6TDyD62fjNjnyAdP6CFXv7NxO4+ekNDBbiMUD/A48DYhRcDP2GI3PAi4us+v8ZXknfP6T41kgPjWksdP0cUbD+ebR0/E8yG1H7L9j71oLCH1pI6P71/oX2yGyA/aiIdwhm/1j7c24n5tHWzPgpcwiwJ8qA+B3WXBL6fGj+E/gBWAjDyPjKmZJqfiTM/VpNYq+Ug6D5AI3j2ap/2PhIl4L0mB6U/ANsHOQzp5T77RX5gv3oaPzwE+7nSlZc/5CrkUjys0T781THurqoQPy0rqEb309w++NUYBdWG9j40GumUGraCP3BMw9XJNvc+TKbRkzOXHD+9UTX6ABEJPwHyCelJoOo+OdFFwIrE8z7NoOAHEa6sP5jvW85a8tA+hFHN8SWy9D6gfFhURsvRPgdyvDC9evo+e/z7ZVvRmj/C5iuVwcTePgYf7plMLig/MA/ITshUsz68wUDJlmv5Pq6e2lfpD6k/QlKjIeRfGD++L0e45Y1CPzHGVg8zmOE+o0LUKwM3wj4fcKeItkMAP8Q04FD5Huo+ELOcZbFU8T5IMTwRT56CP34izOTEOgQ/uUtcgvNfnT9juoLCp0woP+G6MXbZYh0/aqWLOuwP7D7IiU9ni/XxPnChKl4pUnQ/hxnqwtHV4T5+HCsffewHP3L2hBtM6vw+dzsxiP6PQz8IRzEIpDjFPuGmB20PrNI+vNzKYeKn9T5uceIZfmu7PkSIV7E96eM+EWC21tEXLz/u50V4sX0uP+c6R5mU1ec+nBkleI8SKz+75foWXF7CPr3GtnU1a5w+0BICUEwV+z4YmxHV7IpFP9oXMpkhNe0+8OWc8hCprD50qFQMeQi0PrhnnCDcsTE/2g6h9YTE5D7nUt5T0yv3PpDfXIos7uQ+VSmOPUyAIj+ib5N/FnbnPsNzqfNQqNI+RjXBTQU9Vz+SE54zvRnnPqAkCZqrfwQ/LvAeFNEZhT/0x9r6uSngPiopGOdCmgE/vKQ4Yabg9j5yMj9ExgkAP3wmmCQII7Q/K8r/+wcExz42SXejuJ0OP8CrILqLRfM+hj+ewNiNAz816e99hAHePqwxxcI7FNk+RoR7IXyosT45rbWhQT7sPoehaumffRE/fSgBQ+vk1j5WbQyj6mj0PoqPGjvKSwA/m/qEcQqJHD/EaDW8FMLjPu6Jv2XDy9M+i5sRq68V0z7sbVw4uopRP3pDQwW4jFA/j6T3FZPB3D7k66IyYpsrP6sg48UZzZE/yLfFtXGzAj+YRvIV+IvsPiNpWr7XTe8+5Pds9YtY8z4H2XD9qWTAPooq7/B94p8/4tbNEUVBqD5AVloZLsP1PqJsVzvCVio/IzBMrEKrTT8owWx6L1XwPguSjTTXLvk+YPWlPLqwjz/MI0ph3w4wP60dyfSx+M0+Y6xly1DL9T5/YchLzJvSPmRjNDD6ZuQ+JBhnf9TiPD+c0yyFFjtQP5xDyy5ZjpI/icG10+pbQD8fxlKrfsYPPzi4r4Xmwzo/YwABvf2oKj8YJJT4Q3AbP0v2HFN6MNA+w+lGFrPm8T6YkizpGcYTP/Gwxj8HsIQ/XKH50rSuMD+k9GATf/yyPqtJN1OLFIM+ekNDBbiMUD+zRUkYOarjPnpDQwW4jFA/OcIUhBWh7z5CDuXNaWSBPg==\",\"dtype\":\"float64\",\"order\":\"little\",\"shape\":[281]}},\"selected\":{\"id\":\"1215\"},\"selection_policy\":{\"id\":\"1231\"}},\"id\":\"1214\",\"type\":\"ColumnDataSource\"},{\"attributes\":{\"axis\":{\"id\":\"1171\"},\"grid_line_color\":null,\"ticker\":null},\"id\":\"1174\",\"type\":\"Grid\"},{\"attributes\":{\"fill_color\":{\"value\":\"#e5ae38\"},\"line_color\":{\"value\":\"#e5ae38\"},\"size\":{\"units\":\"screen\",\"value\":5.477225575051661},\"x\":{\"field\":\"TotalCoinsMined_scaled\"},\"y\":{\"field\":\"TotalCoinSupply_scaled\"}},\"id\":\"1236\",\"type\":\"Scatter\"},{\"attributes\":{\"fill_color\":{\"value\":\"#fc4f30\"},\"line_color\":{\"value\":\"#fc4f30\"},\"size\":{\"units\":\"screen\",\"value\":5.477225575051661},\"x\":{\"field\":\"TotalCoinsMined_scaled\"},\"y\":{\"field\":\"TotalCoinSupply_scaled\"}},\"id\":\"1217\",\"type\":\"Scatter\"},{\"attributes\":{\"fill_alpha\":{\"value\":0.1},\"fill_color\":{\"value\":\"#6d904f\"},\"line_alpha\":{\"value\":0.1},\"line_color\":{\"value\":\"#6d904f\"},\"size\":{\"units\":\"screen\",\"value\":5.477225575051661},\"x\":{\"field\":\"TotalCoinsMined_scaled\"},\"y\":{\"field\":\"TotalCoinSupply_scaled\"}},\"id\":\"1258\",\"type\":\"Scatter\"},{\"attributes\":{\"active_drag\":\"auto\",\"active_inspect\":\"auto\",\"active_multi\":null,\"active_scroll\":\"auto\",\"active_tap\":\"auto\",\"tools\":[{\"id\":\"1158\"},{\"id\":\"1179\"},{\"id\":\"1180\"},{\"id\":\"1181\"},{\"id\":\"1182\"},{\"id\":\"1183\"}]},\"id\":\"1185\",\"type\":\"Toolbar\"},{\"attributes\":{},\"id\":\"1176\",\"type\":\"BasicTicker\"},{\"attributes\":{\"fill_alpha\":{\"value\":0.1},\"fill_color\":{\"value\":\"#30a2da\"},\"line_alpha\":{\"value\":0.1},\"line_color\":{\"value\":\"#30a2da\"},\"size\":{\"units\":\"screen\",\"value\":5.477225575051661},\"x\":{\"field\":\"TotalCoinsMined_scaled\"},\"y\":{\"field\":\"TotalCoinSupply_scaled\"}},\"id\":\"1200\",\"type\":\"Scatter\"},{\"attributes\":{\"axis_label\":\"Total Cryptocurrency Coin Supply\",\"bounds\":\"auto\",\"formatter\":{\"id\":\"1194\"},\"major_label_orientation\":\"horizontal\",\"ticker\":{\"id\":\"1176\"}},\"id\":\"1175\",\"type\":\"LinearAxis\"},{\"attributes\":{\"end\":1.1,\"reset_end\":1.1,\"reset_start\":-0.1,\"start\":-0.1,\"tags\":[[[\"TotalCoinSupply_scaled\",\"TotalCoinSupply_scaled\",null]]]},\"id\":\"1157\",\"type\":\"Range1d\"},{\"attributes\":{\"data_source\":{\"id\":\"1214\"},\"glyph\":{\"id\":\"1217\"},\"hover_glyph\":null,\"muted_glyph\":{\"id\":\"1219\"},\"nonselection_glyph\":{\"id\":\"1218\"},\"selection_glyph\":null,\"view\":{\"id\":\"1221\"}},\"id\":\"1220\",\"type\":\"GlyphRenderer\"},{\"attributes\":{},\"id\":\"1194\",\"type\":\"BasicTickFormatter\"},{\"attributes\":{\"fill_alpha\":{\"value\":0.1},\"fill_color\":{\"value\":\"#e5ae38\"},\"line_alpha\":{\"value\":0.1},\"line_color\":{\"value\":\"#e5ae38\"},\"size\":{\"units\":\"screen\",\"value\":5.477225575051661},\"x\":{\"field\":\"TotalCoinsMined_scaled\"},\"y\":{\"field\":\"TotalCoinSupply_scaled\"}},\"id\":\"1237\",\"type\":\"Scatter\"},{\"attributes\":{},\"id\":\"1211\",\"type\":\"UnionRenderers\"},{\"attributes\":{\"fill_color\":{\"value\":\"#6d904f\"},\"line_color\":{\"value\":\"#6d904f\"},\"size\":{\"units\":\"screen\",\"value\":5.477225575051661},\"x\":{\"field\":\"TotalCoinsMined_scaled\"},\"y\":{\"field\":\"TotalCoinSupply_scaled\"}},\"id\":\"1257\",\"type\":\"Scatter\"},{\"attributes\":{\"bottom_units\":\"screen\",\"fill_alpha\":0.5,\"fill_color\":\"lightgrey\",\"left_units\":\"screen\",\"level\":\"overlay\",\"line_alpha\":1.0,\"line_color\":\"black\",\"line_dash\":[4,4],\"line_width\":2,\"right_units\":\"screen\",\"top_units\":\"screen\"},\"id\":\"1184\",\"type\":\"BoxAnnotation\"},{\"attributes\":{},\"id\":\"1234\",\"type\":\"Selection\"},{\"attributes\":{},\"id\":\"1255\",\"type\":\"Selection\"},{\"attributes\":{\"click_policy\":\"mute\",\"items\":[{\"id\":\"1213\"},{\"id\":\"1232\"},{\"id\":\"1253\"},{\"id\":\"1276\"}],\"location\":[0,0],\"title\":\"Class\"},\"id\":\"1212\",\"type\":\"Legend\"},{\"attributes\":{\"fill_alpha\":{\"value\":0.2},\"fill_color\":{\"value\":\"#6d904f\"},\"line_alpha\":{\"value\":0.2},\"line_color\":{\"value\":\"#6d904f\"},\"size\":{\"units\":\"screen\",\"value\":5.477225575051661},\"x\":{\"field\":\"TotalCoinsMined_scaled\"},\"y\":{\"field\":\"TotalCoinSupply_scaled\"}},\"id\":\"1259\",\"type\":\"Scatter\"},{\"attributes\":{\"label\":{\"value\":\"0\"},\"renderers\":[{\"id\":\"1202\"}]},\"id\":\"1213\",\"type\":\"LegendItem\"},{\"attributes\":{\"source\":{\"id\":\"1254\"}},\"id\":\"1261\",\"type\":\"CDSView\"},{\"attributes\":{},\"id\":\"1275\",\"type\":\"UnionRenderers\"},{\"attributes\":{\"data_source\":{\"id\":\"1254\"},\"glyph\":{\"id\":\"1257\"},\"hover_glyph\":null,\"muted_glyph\":{\"id\":\"1259\"},\"nonselection_glyph\":{\"id\":\"1258\"},\"selection_glyph\":null,\"view\":{\"id\":\"1261\"}},\"id\":\"1260\",\"type\":\"GlyphRenderer\"},{\"attributes\":{},\"id\":\"1231\",\"type\":\"UnionRenderers\"},{\"attributes\":{},\"id\":\"1167\",\"type\":\"LinearScale\"},{\"attributes\":{\"data\":{\"Class\":[2],\"TotalCoinSupply_scaled\":{\"__ndarray__\":\"rkfhehSu7z8=\",\"dtype\":\"float64\",\"order\":\"little\",\"shape\":[1]},\"TotalCoinsMined_scaled\":{\"__ndarray__\":\"AAAAAAAA8D8=\",\"dtype\":\"float64\",\"order\":\"little\",\"shape\":[1]}},\"selected\":{\"id\":\"1234\"},\"selection_policy\":{\"id\":\"1252\"}},\"id\":\"1233\",\"type\":\"ColumnDataSource\"},{\"attributes\":{\"data\":{\"Class\":[0,0,0,0,0,0,0,0,0,0,0,0,0,0,0,0,0,0,0,0,0,0,0,0,0,0,0,0,0,0,0,0,0,0,0,0,0,0,0,0,0,0,0,0,0,0,0,0,0,0,0,0,0,0,0,0,0,0,0,0,0,0,0,0,0,0,0,0,0,0,0,0,0,0,0,0,0,0,0,0,0,0,0,0,0,0,0,0,0,0,0,0,0,0,0,0,0,0,0,0,0,0,0,0,0,0,0,0,0,0,0,0,0,0,0,0,0,0,0,0,0,0,0,0,0,0,0,0,0,0,0,0,0,0,0,0,0,0,0,0,0,0,0,0,0,0,0,0,0,0,0,0,0,0,0,0,0,0,0,0,0,0,0,0,0,0,0,0,0,0,0,0,0,0,0,0,0,0,0,0,0,0,0,0,0,0,0,0,0,0,0,0,0,0,0,0,0,0,0,0,0,0,0,0,0,0,0,0,0,0,0,0,0,0,0,0,0,0,0,0,0,0,0,0,0,0,0,0,0,0,0,0,0,0,0,0,0,0,0,0,0,0,0,0,0,0,0],\"TotalCoinSupply_scaled\":{\"__ndarray__\":\"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\",\"dtype\":\"float64\",\"order\":\"little\",\"shape\":[247]},\"TotalCoinsMined_scaled\":{\"__ndarray__\":\"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\",\"dtype\":\"float64\",\"order\":\"little\",\"shape\":[247]}},\"selected\":{\"id\":\"1197\"},\"selection_policy\":{\"id\":\"1211\"}},\"id\":\"1196\",\"type\":\"ColumnDataSource\"},{\"attributes\":{},\"id\":\"1215\",\"type\":\"Selection\"},{\"attributes\":{},\"id\":\"1252\",\"type\":\"UnionRenderers\"},{\"attributes\":{\"children\":[{\"id\":\"1155\"},{\"id\":\"1162\"},{\"id\":\"1403\"}],\"margin\":[0,0,0,0],\"name\":\"Row01892\",\"tags\":[\"embedded\"]},\"id\":\"1154\",\"type\":\"Row\"},{\"attributes\":{\"data_source\":{\"id\":\"1196\"},\"glyph\":{\"id\":\"1199\"},\"hover_glyph\":null,\"muted_glyph\":{\"id\":\"1201\"},\"nonselection_glyph\":{\"id\":\"1200\"},\"selection_glyph\":null,\"view\":{\"id\":\"1203\"}},\"id\":\"1202\",\"type\":\"GlyphRenderer\"},{\"attributes\":{\"source\":{\"id\":\"1233\"}},\"id\":\"1240\",\"type\":\"CDSView\"},{\"attributes\":{\"label\":{\"value\":\"3\"},\"renderers\":[{\"id\":\"1260\"}]},\"id\":\"1276\",\"type\":\"LegendItem\"},{\"attributes\":{\"end\":1.042857142857143,\"reset_end\":1.042857142857143,\"reset_start\":-0.04285714285714286,\"start\":-0.04285714285714286,\"tags\":[[[\"TotalCoinsMined_scaled\",\"TotalCoinsMined_scaled\",null]]]},\"id\":\"1156\",\"type\":\"Range1d\"},{\"attributes\":{\"data_source\":{\"id\":\"1233\"},\"glyph\":{\"id\":\"1236\"},\"hover_glyph\":null,\"muted_glyph\":{\"id\":\"1238\"},\"nonselection_glyph\":{\"id\":\"1237\"},\"selection_glyph\":null,\"view\":{\"id\":\"1240\"}},\"id\":\"1239\",\"type\":\"GlyphRenderer\"},{\"attributes\":{},\"id\":\"1179\",\"type\":\"SaveTool\"},{\"attributes\":{},\"id\":\"1192\",\"type\":\"BasicTickFormatter\"},{\"attributes\":{},\"id\":\"1180\",\"type\":\"PanTool\"},{\"attributes\":{\"source\":{\"id\":\"1214\"}},\"id\":\"1221\",\"type\":\"CDSView\"},{\"attributes\":{},\"id\":\"1183\",\"type\":\"ResetTool\"},{\"attributes\":{},\"id\":\"1181\",\"type\":\"WheelZoomTool\"},{\"attributes\":{\"label\":{\"value\":\"2\"},\"renderers\":[{\"id\":\"1239\"}]},\"id\":\"1253\",\"type\":\"LegendItem\"},{\"attributes\":{\"fill_color\":{\"value\":\"#30a2da\"},\"line_color\":{\"value\":\"#30a2da\"},\"size\":{\"units\":\"screen\",\"value\":5.477225575051661},\"x\":{\"field\":\"TotalCoinsMined_scaled\"},\"y\":{\"field\":\"TotalCoinSupply_scaled\"}},\"id\":\"1199\",\"type\":\"Scatter\"},{\"attributes\":{\"source\":{\"id\":\"1196\"}},\"id\":\"1203\",\"type\":\"CDSView\"},{\"attributes\":{\"fill_alpha\":{\"value\":0.2},\"fill_color\":{\"value\":\"#fc4f30\"},\"line_alpha\":{\"value\":0.2},\"line_color\":{\"value\":\"#fc4f30\"},\"size\":{\"units\":\"screen\",\"value\":5.477225575051661},\"x\":{\"field\":\"TotalCoinsMined_scaled\"},\"y\":{\"field\":\"TotalCoinSupply_scaled\"}},\"id\":\"1219\",\"type\":\"Scatter\"},{\"attributes\":{\"fill_alpha\":{\"value\":0.1},\"fill_color\":{\"value\":\"#fc4f30\"},\"line_alpha\":{\"value\":0.1},\"line_color\":{\"value\":\"#fc4f30\"},\"size\":{\"units\":\"screen\",\"value\":5.477225575051661},\"x\":{\"field\":\"TotalCoinsMined_scaled\"},\"y\":{\"field\":\"TotalCoinSupply_scaled\"}},\"id\":\"1218\",\"type\":\"Scatter\"},{\"attributes\":{\"margin\":[5,5,5,5],\"name\":\"HSpacer01896\",\"sizing_mode\":\"stretch_width\"},\"id\":\"1155\",\"type\":\"Spacer\"},{\"attributes\":{\"margin\":[5,5,5,5],\"name\":\"HSpacer01897\",\"sizing_mode\":\"stretch_width\"},\"id\":\"1403\",\"type\":\"Spacer\"},{\"attributes\":{\"overlay\":{\"id\":\"1184\"}},\"id\":\"1182\",\"type\":\"BoxZoomTool\"},{\"attributes\":{\"text\":\"\",\"text_color\":{\"value\":\"black\"},\"text_font_size\":{\"value\":\"12pt\"}},\"id\":\"1163\",\"type\":\"Title\"},{\"attributes\":{\"fill_alpha\":{\"value\":0.2},\"fill_color\":{\"value\":\"#30a2da\"},\"line_alpha\":{\"value\":0.2},\"line_color\":{\"value\":\"#30a2da\"},\"size\":{\"units\":\"screen\",\"value\":5.477225575051661},\"x\":{\"field\":\"TotalCoinsMined_scaled\"},\"y\":{\"field\":\"TotalCoinSupply_scaled\"}},\"id\":\"1201\",\"type\":\"Scatter\"},{\"attributes\":{\"below\":[{\"id\":\"1171\"}],\"center\":[{\"id\":\"1174\"},{\"id\":\"1178\"}],\"left\":[{\"id\":\"1175\"}],\"margin\":[5,5,5,5],\"min_border_bottom\":10,\"min_border_left\":10,\"min_border_right\":10,\"min_border_top\":10,\"plot_height\":300,\"plot_width\":700,\"renderers\":[{\"id\":\"1202\"},{\"id\":\"1220\"},{\"id\":\"1239\"},{\"id\":\"1260\"}],\"right\":[{\"id\":\"1212\"}],\"sizing_mode\":\"fixed\",\"title\":{\"id\":\"1163\"},\"toolbar\":{\"id\":\"1185\"},\"x_range\":{\"id\":\"1156\"},\"x_scale\":{\"id\":\"1167\"},\"y_range\":{\"id\":\"1157\"},\"y_scale\":{\"id\":\"1169\"}},\"id\":\"1162\",\"subtype\":\"Figure\",\"type\":\"Plot\"},{\"attributes\":{\"axis_label\":\"Total Cryptocurrency Coins Mined\",\"bounds\":\"auto\",\"formatter\":{\"id\":\"1192\"},\"major_label_orientation\":\"horizontal\",\"ticker\":{\"id\":\"1172\"}},\"id\":\"1171\",\"type\":\"LinearAxis\"},{\"attributes\":{\"label\":{\"value\":\"1\"},\"renderers\":[{\"id\":\"1220\"}]},\"id\":\"1232\",\"type\":\"LegendItem\"},{\"attributes\":{},\"id\":\"1197\",\"type\":\"Selection\"},{\"attributes\":{},\"id\":\"1169\",\"type\":\"LinearScale\"}],\"root_ids\":[\"1154\"]},\"title\":\"Bokeh Application\",\"version\":\"2.2.3\"}};\n    var render_items = [{\"docid\":\"a93357cf-cb9b-41f2-bead-eabe06c433ae\",\"root_ids\":[\"1154\"],\"roots\":{\"1154\":\"eebbbd88-5ac3-44da-9640-8ecf079eb380\"}}];\n    root.Bokeh.embed.embed_items_notebook(docs_json, render_items);\n  }\n  if (root.Bokeh !== undefined && root.Bokeh.Panel !== undefined) {\n    embed_document(root);\n  } else {\n    var attempts = 0;\n    var timer = setInterval(function(root) {\n      if (root.Bokeh !== undefined && root.Bokeh.Panel !== undefined) {\n        clearInterval(timer);\n        embed_document(root);\n      } else if (document.readyState == \"complete\") {\n        attempts++;\n        if (attempts > 100) {\n          clearInterval(timer);\n          console.log(\"Bokeh: ERROR: Unable to run BokehJS code because BokehJS library is missing\");\n        }\n      }\n    }, 10, root)\n  }\n})(window);</script>",
      "application/vnd.holoviews_exec.v0+json": "",
      "text/plain": [
       ":NdOverlay   [Class]\n",
       "   :Scatter   [TotalCoinsMined_scaled]   (TotalCoinSupply_scaled)"
      ]
     },
     "metadata": {
      "application/vnd.holoviews_exec.v0+json": {
       "id": "1154"
      }
     },
     "execution_count": 49
    }
   ],
   "source": [
    "# Create a hvplot.scatter plot using x=\"TotalCoinsMined\" and y=\"TotalCoinSupply\".\n",
    "plot_df.hvplot.scatter(x=\"TotalCoinsMined_scaled\", y=\"TotalCoinSupply_scaled\", by=\"Class\",\n",
    "                          xlabel=\"Total Cryptocurrency Coins Mined\",\n",
    "                          ylabel=\"Total Cryptocurrency Coin Supply\",\n",
    "                          )\n"
   ]
  },
  {
   "cell_type": "code",
   "execution_count": null,
   "metadata": {},
   "outputs": [],
   "source": []
  }
 ],
 "metadata": {
  "file_extension": ".py",
  "kernelspec": {
   "name": "pythondata",
   "display_name": "Python 3.7.9 64-bit ('PythonData': conda)"
  },
  "language_info": {
   "codemirror_mode": {
    "name": "ipython",
    "version": 3
   },
   "file_extension": ".py",
   "mimetype": "text/x-python",
   "name": "python",
   "nbconvert_exporter": "python",
   "pygments_lexer": "ipython3",
   "version": "3.7.9"
  },
  "latex_envs": {
   "LaTeX_envs_menu_present": true,
   "autoclose": false,
   "autocomplete": true,
   "bibliofile": "biblio.bib",
   "cite_by": "apalike",
   "current_citInitial": 1,
   "eqLabelWithNumbers": true,
   "eqNumInitial": 1,
   "hotkeys": {
    "equation": "Ctrl-E",
    "itemize": "Ctrl-I"
   },
   "labels_anchors": false,
   "latex_user_defs": false,
   "report_style_numbering": false,
   "user_envs_cfg": false
  },
  "mimetype": "text/x-python",
  "name": "python",
  "npconvert_exporter": "python",
  "pygments_lexer": "ipython3",
  "version": 3
 },
 "nbformat": 4,
 "nbformat_minor": 2
}